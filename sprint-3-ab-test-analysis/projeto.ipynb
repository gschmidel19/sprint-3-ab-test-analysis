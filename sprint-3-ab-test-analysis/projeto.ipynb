{
 "cells": [
  {
   "cell_type": "markdown",
   "id": "mhIvmmkW414q",
   "metadata": {
    "id": "mhIvmmkW414q"
   },
   "source": [
    "# Introdução\n",
    "\n",
    "O Instacart é uma plataforma de entrega de supermercado onde os clientes podem fazer um pedido no supermercado e depois receber sua compra, semelhante ao funcionamento do Uber Eats e do iFood. O conjunto de dados que fornecemos foi modificado a partir do original. Reduzimos o tamanho dele para que seus cálculos sejam executados mais rapidamente e incluímos valores ausentes e duplicados. Também tivemos o cuidado de preservar as distribuições dos dados originais quando fizemos as alterações.\n",
    "\n",
    "Você precisa completar três etapas. Para cada uma delas, escreva uma breve introdução descrevendo como você pretende concluir a etapa e justifique suas decisões em parágrafos explicativos a medida que você avança na solução. Escreva também uma conclusão para resumir suas conclusões e escolhas.\n",
    "\n"
   ]
  },
  {
   "cell_type": "markdown",
   "id": "3MbyzpOQZ5Or",
   "metadata": {
    "id": "3MbyzpOQZ5Or"
   },
   "source": [
    "## Dicionário de dados\n",
    "\n",
    "Há cinco tabelas no conjunto de dados, e você vai precisar usar todas elas para pré-processar seus dados e fazer AED. Abaixo está um dicionário que lista as colunas de cada tabela e descreve os dados contidos nelas.\n",
    "\n",
    "- `instacart_orders.csv`: cada linha corresponde a um pedido no aplicativo da Instacart\n",
    "    - `'order_id'`: é o número que identifica cada pedido de forma exclusiva\n",
    "    - `'user_id'`: é o número de identificação exclusivo da conta de cada cliente\n",
    "    - `'order_number'`: é o número de vezes que o cliente fez um pedido\n",
    "    - `'order_dow'`: é o dia da semana em que o pedido foi feito (0 é domingo)\n",
    "    - `'order_hour_of_day'`: é a hora do dia em que o pedido foi feito\n",
    "    - `'days_since_prior_order'`: é o número de dias desde que o cliente fez seu pedido anterior\n",
    "\n",
    "\n",
    "\n",
    "\n",
    "- `products.csv`: cada linha corresponde a um produto exclusivo que os clientes podem comprar\n",
    "    - `'product_id'`: é o número de identificação unívoco de cada produto\n",
    "    - `'product_name'`: é o nome do produto\n",
    "    - `'aisle_id'`: é o número de identificação exclusivo de cada categoria de corredor do supermercado\n",
    "    - `'department_id'`: é o número de identificação exclusivo de cada categoria de departamento do supermercado\n",
    "\n",
    "\n",
    "\n",
    "\n",
    "-\t`order_products.csv`: cada linha corresponde a um item incluído em um pedido\n",
    "    -\t`'order_id'`: é o número que identifica cada pedido de forma exclusiva\n",
    "    -\t`'product_id'`: é o número de identificação exclusivo de cada produto\n",
    "    -\t`'add_to_cart_order'`: é a ordem sequencial em que cada item foi colocado no carrinho\n",
    "    -\t`'reordered'`: 0 se o cliente nunca comprou o produto antes, 1 se já o comprou\n",
    "\n",
    "\n",
    "\n",
    "\n",
    "-\t`aisles.csv`\n",
    "    -\t`'aisle_id'`: é o número de identificação exclusivo de cada categoria de corredor do supermercado\n",
    "    -\t`'aisle'`: é o nome do corredor\n",
    "\n",
    "\n",
    "\n",
    "-\t`departments.csv`\n",
    "    -\t`'department_id'`: é o número de identificação exclusivo de cada categoria de departamento do supermercado\n",
    "    -\t`'department'`: é o nome do departamento\n"
   ]
  },
  {
   "cell_type": "markdown",
   "id": "n3Ha_cNSZ8lK",
   "metadata": {
    "id": "n3Ha_cNSZ8lK"
   },
   "source": [
    "# Etapa 1. Visão geral dos dados\n",
    "\n",
    "Leia os arquivos de dados (/datasets/instacart_orders.csv, /datasets/products.csv, /datasets/aisles.csv, /datasets/departments.csv e /datasets/order_products.csv) com `pd.read_csv()` usando os parâmetros apropriados para fazer isso corretamente. Verifique as informações para cada DataFrame criado.\n"
   ]
  },
  {
   "cell_type": "markdown",
   "id": "OmlQPLlyaAfR",
   "metadata": {
    "id": "OmlQPLlyaAfR"
   },
   "source": [
    "## Plano de solução\n",
    "\n",
    "Escreva aqui seu plano para a Etapa 2. Visão geral dos dados"
   ]
  },
  {
   "cell_type": "code",
   "execution_count": 65,
   "id": "fbf1adab",
   "metadata": {
    "id": "fbf1adab",
    "trusted": false
   },
   "outputs": [],
   "source": [
    "import pandas as pd# Importe as bibliotecas"
   ]
  },
  {
   "cell_type": "code",
   "execution_count": 66,
   "id": "ad36396d",
   "metadata": {
    "id": "ad36396d",
    "trusted": false
   },
   "outputs": [],
   "source": [
    "df_instacart = pd.read_csv('/datasets/instacart_orders.csv', sep=';') \n",
    "df_products = pd.read_csv('/datasets/products.csv', sep=';') \n",
    "df_aisles = pd.read_csv('/datasets/aisles.csv', sep=';')\n",
    "df_departaments = pd.read_csv('/datasets/departments.csv', sep=';') \n",
    "df_order_products = pd.read_csv('/datasets/order_products.csv', sep=';')# leia os conjuntos de dados em DataFrames"
   ]
  },
  {
   "cell_type": "code",
   "execution_count": 67,
   "id": "ad6a1efa",
   "metadata": {
    "id": "ad6a1efa",
    "trusted": false
   },
   "outputs": [
    {
     "name": "stdout",
     "output_type": "stream",
     "text": [
      "<class 'pandas.core.frame.DataFrame'>\n",
      "RangeIndex: 478967 entries, 0 to 478966\n",
      "Data columns (total 6 columns):\n",
      " #   Column                  Non-Null Count   Dtype  \n",
      "---  ------                  --------------   -----  \n",
      " 0   order_id                478967 non-null  int64  \n",
      " 1   user_id                 478967 non-null  int64  \n",
      " 2   order_number            478967 non-null  int64  \n",
      " 3   order_dow               478967 non-null  int64  \n",
      " 4   order_hour_of_day       478967 non-null  int64  \n",
      " 5   days_since_prior_order  450148 non-null  float64\n",
      "dtypes: float64(1), int64(5)\n",
      "memory usage: 21.9 MB\n"
     ]
    }
   ],
   "source": [
    "df_instacart.info()# imprima as informações sobre o DataFrame"
   ]
  },
  {
   "cell_type": "code",
   "execution_count": 68,
   "id": "5130e05e",
   "metadata": {
    "id": "5130e05e",
    "trusted": false
   },
   "outputs": [
    {
     "name": "stdout",
     "output_type": "stream",
     "text": [
      "<class 'pandas.core.frame.DataFrame'>\n",
      "RangeIndex: 49694 entries, 0 to 49693\n",
      "Data columns (total 4 columns):\n",
      " #   Column         Non-Null Count  Dtype \n",
      "---  ------         --------------  ----- \n",
      " 0   product_id     49694 non-null  int64 \n",
      " 1   product_name   48436 non-null  object\n",
      " 2   aisle_id       49694 non-null  int64 \n",
      " 3   department_id  49694 non-null  int64 \n",
      "dtypes: int64(3), object(1)\n",
      "memory usage: 1.5+ MB\n"
     ]
    }
   ],
   "source": [
    "df_products.info()# imprima as informações sobre o DataFrame"
   ]
  },
  {
   "cell_type": "code",
   "execution_count": 69,
   "id": "d8370c05",
   "metadata": {
    "id": "d8370c05",
    "trusted": false
   },
   "outputs": [
    {
     "name": "stdout",
     "output_type": "stream",
     "text": [
      "<class 'pandas.core.frame.DataFrame'>\n",
      "RangeIndex: 134 entries, 0 to 133\n",
      "Data columns (total 2 columns):\n",
      " #   Column    Non-Null Count  Dtype \n",
      "---  ------    --------------  ----- \n",
      " 0   aisle_id  134 non-null    int64 \n",
      " 1   aisle     134 non-null    object\n",
      "dtypes: int64(1), object(1)\n",
      "memory usage: 2.2+ KB\n"
     ]
    }
   ],
   "source": [
    "df_aisles.info()# imprima as informações sobre o DataFrame"
   ]
  },
  {
   "cell_type": "code",
   "execution_count": 70,
   "id": "59e2090f",
   "metadata": {
    "id": "59e2090f",
    "trusted": false
   },
   "outputs": [
    {
     "name": "stdout",
     "output_type": "stream",
     "text": [
      "<class 'pandas.core.frame.DataFrame'>\n",
      "RangeIndex: 21 entries, 0 to 20\n",
      "Data columns (total 2 columns):\n",
      " #   Column         Non-Null Count  Dtype \n",
      "---  ------         --------------  ----- \n",
      " 0   department_id  21 non-null     int64 \n",
      " 1   department     21 non-null     object\n",
      "dtypes: int64(1), object(1)\n",
      "memory usage: 464.0+ bytes\n"
     ]
    }
   ],
   "source": [
    "df_departaments.info()# imprima as informações sobre o DataFrame"
   ]
  },
  {
   "cell_type": "code",
   "execution_count": 71,
   "id": "6fc81694",
   "metadata": {
    "id": "6fc81694",
    "trusted": false
   },
   "outputs": [
    {
     "name": "stdout",
     "output_type": "stream",
     "text": [
      "<class 'pandas.core.frame.DataFrame'>\n",
      "RangeIndex: 4545007 entries, 0 to 4545006\n",
      "Data columns (total 4 columns):\n",
      " #   Column             Non-Null Count    Dtype  \n",
      "---  ------             --------------    -----  \n",
      " 0   order_id           4545007 non-null  int64  \n",
      " 1   product_id         4545007 non-null  int64  \n",
      " 2   add_to_cart_order  4544171 non-null  float64\n",
      " 3   reordered          4545007 non-null  int64  \n",
      "dtypes: float64(1), int64(3)\n",
      "memory usage: 138.7 MB\n"
     ]
    }
   ],
   "source": [
    "df_order_products.info(show_counts=True )# imprima as informações sobre o DataFrame"
   ]
  },
  {
   "cell_type": "markdown",
   "id": "t75BD19oaR5f",
   "metadata": {
    "id": "t75BD19oaR5f"
   },
   "source": [
    "## Conclusões\n",
    "\n",
    "Escreva aqui suas conclusões intermediárias da Etapa 1. Visão geral dos dados\n",
    "\n",
    "1. Os csv estão separados por ';' o que dificulta a manupulação dos dados, foi necessário utilizar sep=';', para facilitar a verificação do DF.\n"
   ]
  },
  {
   "cell_type": "markdown",
   "id": "8RJHqxVmaVsF",
   "metadata": {
    "id": "8RJHqxVmaVsF"
   },
   "source": [
    "#### Etapa 2. Preparação de dados\n",
    "\n",
    "Faça o pré-processamento dos dados da seguinte maneira:\n",
    "\n",
    "-\tVerifique e corrija os tipos de dados (por exemplo, certifique-se de que as colunas de ID sejam números inteiros)\n",
    "-\tIdentifique e preencha valores ausentes\n",
    "-\tIdentifique e remova valores duplicados\n",
    "\n",
    "Certifique-se de explicar que tipos de valores ausentes e duplicados você encontrou, como você os preencheu ou removeu, por que escolheu esses métodos e por que você acha que esses valores ausentes e duplicados estavam presentes no conjunto de dados."
   ]
  },
  {
   "cell_type": "markdown",
   "id": "p6poABZQaZYb",
   "metadata": {
    "id": "p6poABZQaZYb"
   },
   "source": [
    "## Plano de solução\n",
    "\n",
    "Escreva aqui seu plano para a Etapa 2. Preparação de dados\n",
    "\n",
    "1. verificar qual é o tipo das colunas de id\n",
    "2. fazer a conversão usando astype('int') das colunas que não tiverem o tipo int\n",
    "3. usar o metodo isnull().sum()) para verificar os valores ausentes e    para preencher os valores ausentes\n",
    "4. utilizar o metodo para identificar os valores duplicados e     para remover os valores duplicados sem perder informações no conjunto de dados\n"
   ]
  },
  {
   "cell_type": "markdown",
   "id": "07357848-dc64-4156-9cc3-01ff4365226d",
   "metadata": {
    "id": "07357848-dc64-4156-9cc3-01ff4365226d"
   },
   "source": [
    "## Encontre e remova valores duplicados (e descreva por que você está fazendo suas escolhas)"
   ]
  },
  {
   "cell_type": "markdown",
   "id": "f179f0a9",
   "metadata": {
    "id": "f179f0a9"
   },
   "source": [
    "### DataFrame `instacart_orders`"
   ]
  },
  {
   "cell_type": "code",
   "execution_count": 72,
   "id": "b99297a5-405a-463d-8535-9adc3da4ad74",
   "metadata": {
    "id": "b99297a5-405a-463d-8535-9adc3da4ad74",
    "trusted": false
   },
   "outputs": [
    {
     "name": "stdout",
     "output_type": "stream",
     "text": [
      "15\n"
     ]
    }
   ],
   "source": [
    "# Verificar se há pedidos duplicados\n",
    "print(df_instacart.duplicated().sum())#há valores duplicados"
   ]
  },
  {
   "cell_type": "markdown",
   "id": "PEkwUX_gvt5A",
   "metadata": {
    "id": "PEkwUX_gvt5A"
   },
   "source": [
    "Há linhas duplicadas? Se sim, o que elas têm em comum?\n",
    "\n",
    "Sim "
   ]
  },
  {
   "cell_type": "code",
   "execution_count": 73,
   "id": "0d44de5d",
   "metadata": {
    "id": "0d44de5d",
    "trusted": false
   },
   "outputs": [],
   "source": [
    "# Com base nas suas conclusões,\n",
    "\n",
    "# verifique todos os pedidos feitos às 2h da manhã nas quartas-feiras\n",
    "\n"
   ]
  },
  {
   "cell_type": "markdown",
   "id": "vu2OWyoqwOx5",
   "metadata": {
    "id": "vu2OWyoqwOx5"
   },
   "source": [
    "O que esse resultado quer dizer?"
   ]
  },
  {
   "cell_type": "code",
   "execution_count": 74,
   "id": "a387b49a",
   "metadata": {
    "trusted": false
   },
   "outputs": [
    {
     "data": {
      "text/plain": [
       "478967"
      ]
     },
     "execution_count": 74,
     "metadata": {},
     "output_type": "execute_result"
    }
   ],
   "source": [
    "#Código gerado pela revisora - número de linhas no dataframe antes da remoção \n",
    "len(df_instacart)"
   ]
  },
  {
   "cell_type": "code",
   "execution_count": 75,
   "id": "480563c7",
   "metadata": {
    "id": "480563c7",
    "trusted": false
   },
   "outputs": [],
   "source": [
    "#removendo os valores duplicados\n",
    "df_instacart_cleaned = df_instacart.drop_duplicates()\n",
    "\n"
   ]
  },
  {
   "cell_type": "markdown",
   "id": "691bcbac",
   "metadata": {},
   "source": [
    "<div class=\"alert alert-block alert-danger\">\n",
    "<b>Comentário: </b> <a class=\"tocSkip\"></a>\n",
    "    \n",
    "É necessário ajustar o código acima. Perceba que o enunciado solicita a remoção de valores duplicados, no entanto foram removidos todos os valores de `days_since_pior_order`duplicados. Ou seja, os pedidos diferentes que apresentavam o mesmo `days_since_prior_order`, acabaram sendo deletados por conta do argumento `subset`. Para remover apenas os duplicados necessários, por favor ajuste o código para: \n",
    "    \n",
    "    \n",
    "```python\n",
    "    orders_df_cleaned = orders_df.drop_duplicates()\n",
    "```\n",
    "    \n",
    "Após esse ajuste, rode novamente o código da análise para você ver os resultados corretos com o dataframe ajustado."
   ]
  },
  {
   "cell_type": "code",
   "execution_count": 76,
   "id": "64285e4d",
   "metadata": {
    "trusted": false
   },
   "outputs": [
    {
     "data": {
      "text/plain": [
       "478952"
      ]
     },
     "execution_count": 76,
     "metadata": {},
     "output_type": "execute_result"
    }
   ],
   "source": [
    "#Código gerado pela revisora - número de linhas no dataframe após remoção \n",
    "len(df_instacart_cleaned)"
   ]
  },
  {
   "cell_type": "code",
   "execution_count": 77,
   "id": "0b2396a2",
   "metadata": {
    "id": "0b2396a2",
    "trusted": false
   },
   "outputs": [
    {
     "name": "stdout",
     "output_type": "stream",
     "text": [
      "0\n"
     ]
    }
   ],
   "source": [
    "# Verifique as linhas duplicadas mais uma vez\n",
    "#verificando se os valores foram removidos\n",
    "print(df_instacart_cleaned.duplicated().sum())# Remova pedidos duplicados"
   ]
  },
  {
   "cell_type": "code",
   "execution_count": 78,
   "id": "f6113ef1",
   "metadata": {
    "id": "f6113ef1",
    "trusted": false
   },
   "outputs": [
    {
     "name": "stdout",
     "output_type": "stream",
     "text": [
      "Empty DataFrame\n",
      "Columns: [order_id, user_id, order_number, order_dow, order_hour_of_day, days_since_prior_order]\n",
      "Index: []\n"
     ]
    }
   ],
   "source": [
    "#verificando as linhas\n",
    "print(df_instacart_cleaned[df_instacart_cleaned.duplicated()])# Verifique novamente apenas os IDs de pedidos duplicados"
   ]
  },
  {
   "cell_type": "markdown",
   "id": "5e8905ae",
   "metadata": {
    "id": "5e8905ae"
   },
   "source": [
    "Descreva brevemente suas conclusões e o que você fez com elas.\n",
    "\n",
    "Após feita a fitlragem inicial, foram verificados, valores ausentes e após, valores duplicados.\n",
    "Foi feita a remoção dos valores duplicados, conforme solicitado pela revisora uma vez que utilizei um metodo que eliminaria apernas os valores de uma coluna específica.\n",
    "Foi gerado um novo data frame para salvar o resultado, considerando que a alteração que foi feita não alterou o data frame original"
   ]
  },
  {
   "cell_type": "markdown",
   "id": "45e6bc46",
   "metadata": {
    "id": "45e6bc46"
   },
   "source": [
    "### DataFrame `products`"
   ]
  },
  {
   "cell_type": "code",
   "execution_count": 79,
   "id": "5f526b5b-8175-46fa-a0fd-441767d50e64",
   "metadata": {
    "id": "5f526b5b-8175-46fa-a0fd-441767d50e64",
    "trusted": false
   },
   "outputs": [
    {
     "name": "stdout",
     "output_type": "stream",
     "text": [
      "Linhas completamente duplicadas: 0\n",
      "Empty DataFrame\n",
      "Columns: [product_id, product_name, aisle_id, department_id]\n",
      "Index: []\n"
     ]
    }
   ],
   "source": [
    "print(f\"Linhas completamente duplicadas: {df_products.duplicated().sum()}\")# Verifique se há linhas completamente duplicadas\n",
    "print(df_products[df_products.duplicated()].head())"
   ]
  },
  {
   "cell_type": "code",
   "execution_count": 80,
   "id": "88daa4f4",
   "metadata": {
    "id": "88daa4f4",
    "trusted": false
   },
   "outputs": [
    {
     "name": "stdout",
     "output_type": "stream",
     "text": [
      "IDs de produtos duplicados: 0\n",
      "Empty DataFrame\n",
      "Columns: [product_id, product_name, aisle_id, department_id]\n",
      "Index: []\n"
     ]
    }
   ],
   "source": [
    "print(f\"IDs de produtos duplicados: {df_products['product_id'].duplicated().sum()}\")# Verifique apenas IDs dos produtos duplicados\n",
    "print(df_products[df_products['product_id'].duplicated(keep=False)].sort_values('product_id'))"
   ]
  },
  {
   "cell_type": "code",
   "execution_count": 81,
   "id": "c773f0bf",
   "metadata": {
    "id": "c773f0bf",
    "trusted": false
   },
   "outputs": [
    {
     "name": "stdout",
     "output_type": "stream",
     "text": [
      "Nomes de produtos duplicados: 1361\n"
     ]
    }
   ],
   "source": [
    "print(f\"Nomes de produtos duplicados: {df_products['product_name'].str.lower().duplicated().sum()}\")# Verifique apenas nomes de produtos duplicados (converta os nomes para minúsculas para uma comparação melhor)\n",
    "duplicated_names = df_products[df_products['product_name'].str.lower().duplicated(keep=False)]\n"
   ]
  },
  {
   "cell_type": "code",
   "execution_count": 82,
   "id": "01efd02e",
   "metadata": {
    "id": "01efd02e",
    "trusted": false
   },
   "outputs": [
    {
     "name": "stdout",
     "output_type": "stream",
     "text": [
      "       product_id                                     product_name  aisle_id  \\\n",
      "41             42                                  Biotin 1000 mcg        47   \n",
      "185           186       Fresh Scent Dishwasher Detergent with Dawn        74   \n",
      "515           516                           American Cheese Slices        21   \n",
      "1538         1539                                 Cauliflower head        83   \n",
      "1783         1784              NUTrition Protein Mix Blueberry Nut       117   \n",
      "...           ...                                              ...       ...   \n",
      "49689       49690                    HIGH PERFORMANCE ENERGY DRINK        64   \n",
      "49690       49691                    ORIGINAL PANCAKE & WAFFLE MIX       130   \n",
      "49691       49692  ORGANIC INSTANT OATMEAL LIGHT MAPLE BROWN SUGAR       130   \n",
      "49692       49693                           SPRING WATER BODY WASH       127   \n",
      "49693       49694                          BURRITO- STEAK & CHEESE        38   \n",
      "\n",
      "       department_id  \n",
      "41                11  \n",
      "185               17  \n",
      "515               16  \n",
      "1538               4  \n",
      "1783              19  \n",
      "...              ...  \n",
      "49689              7  \n",
      "49690             14  \n",
      "49691             14  \n",
      "49692             11  \n",
      "49693              1  \n",
      "\n",
      "[207 rows x 4 columns]\n"
     ]
    }
   ],
   "source": [
    "non_null_duplicates = df_products.dropna(subset=['product_name'])\n",
    "print(non_null_duplicates[non_null_duplicates['product_name'].str.lower().duplicated(keep=False)])# Verifique os nomes de produtos duplicados que não estão faltando"
   ]
  },
  {
   "cell_type": "markdown",
   "id": "9da8d293",
   "metadata": {
    "id": "9da8d293"
   },
   "source": [
    "Descreva brevemente suas conclusões e o que você fez com elas.\n",
    "1.verifiquei os valores duplicados\n",
    "2.verifiquei o numero de ids duplicados\n",
    "3.a surpresa veio quando eu percebi que não retornou com valor anteiormente por causa das letras mauisculas\n"
   ]
  },
  {
   "cell_type": "markdown",
   "id": "60f30db1",
   "metadata": {
    "id": "60f30db1"
   },
   "source": [
    "### DataFrame `departments`"
   ]
  },
  {
   "cell_type": "code",
   "execution_count": 83,
   "id": "fb410ad4-0fbf-4b80-bb09-23fdea79afe3",
   "metadata": {
    "id": "fb410ad4-0fbf-4b80-bb09-23fdea79afe3",
    "trusted": false
   },
   "outputs": [
    {
     "name": "stdout",
     "output_type": "stream",
     "text": [
      "0\n"
     ]
    }
   ],
   "source": [
    "print(df_departaments.duplicated().sum())# Verifique se há linhas completamente duplicadas\n"
   ]
  },
  {
   "cell_type": "code",
   "execution_count": 84,
   "id": "332b12bb",
   "metadata": {
    "id": "332b12bb",
    "trusted": false
   },
   "outputs": [
    {
     "name": "stdout",
     "output_type": "stream",
     "text": [
      "ID duplicados: 0\n"
     ]
    }
   ],
   "source": [
    "print(f\"ID duplicados: {df_departaments['department_id'].duplicated().sum()}\")# Verifique apenas se há IDs dos produtos duplicados"
   ]
  },
  {
   "cell_type": "markdown",
   "id": "bd30d78e",
   "metadata": {
    "id": "bd30d78e"
   },
   "source": [
    "Descreva brevemente suas conclusões e o que você fez com elas.\n",
    "\n",
    ".verifiquyei se tinha linhas e ids duplicados.\n",
    "ambos retornaram negativo"
   ]
  },
  {
   "cell_type": "markdown",
   "id": "889349c1",
   "metadata": {
    "id": "889349c1"
   },
   "source": [
    "### DataFrame `aisles`"
   ]
  },
  {
   "cell_type": "code",
   "execution_count": 85,
   "id": "9da89fb9-4679-40f5-ad0d-c34df753a3f8",
   "metadata": {
    "id": "9da89fb9-4679-40f5-ad0d-c34df753a3f8",
    "trusted": false
   },
   "outputs": [
    {
     "name": "stdout",
     "output_type": "stream",
     "text": [
      "0\n"
     ]
    }
   ],
   "source": [
    "print(df_aisles.duplicated().sum())# Verifique se há linhas completamente duplicadas"
   ]
  },
  {
   "cell_type": "code",
   "execution_count": 86,
   "id": "da7c2822",
   "metadata": {
    "id": "da7c2822",
    "trusted": false
   },
   "outputs": [
    {
     "name": "stdout",
     "output_type": "stream",
     "text": [
      "IDs duplicados: 0\n"
     ]
    }
   ],
   "source": [
    "print(f\"IDs duplicados: {df_aisles['aisle_id'].duplicated().sum()}\")# Verifique apenas se há IDs dos produtos duplicados"
   ]
  },
  {
   "cell_type": "markdown",
   "id": "ac63826f",
   "metadata": {
    "id": "ac63826f"
   },
   "source": [
    "Descreva brevemente suas conclusões e o que você fez com elas.\n",
    "da mesma forma que df_departments retornou com ambos negativos o df_aisles retornou zerado tambem"
   ]
  },
  {
   "cell_type": "markdown",
   "id": "274cd06a",
   "metadata": {
    "id": "274cd06a"
   },
   "source": [
    "### DataFrame `order_products`"
   ]
  },
  {
   "cell_type": "code",
   "execution_count": 87,
   "id": "52326689-84a8-4b8f-a881-7c68780f62c9",
   "metadata": {
    "id": "52326689-84a8-4b8f-a881-7c68780f62c9",
    "trusted": false
   },
   "outputs": [
    {
     "name": "stdout",
     "output_type": "stream",
     "text": [
      "0\n"
     ]
    }
   ],
   "source": [
    "print(df_order_products.duplicated().sum())# Verifique se há linhas completamente duplicadas"
   ]
  },
  {
   "cell_type": "code",
   "execution_count": 88,
   "id": "7b861391",
   "metadata": {
    "id": "7b861391",
    "trusted": false
   },
   "outputs": [
    {
     "name": "stdout",
     "output_type": "stream",
     "text": [
      "IDs duplicados: 0\n"
     ]
    }
   ],
   "source": [
    "print(f\"IDs duplicados: {df_aisles['aisle_id'].duplicated().sum()}\")# Verifique mais uma vez se há outros casos complicados de duplicados"
   ]
  },
  {
   "cell_type": "markdown",
   "id": "0b890492",
   "metadata": {
    "id": "0b890492"
   },
   "source": [
    "Descreva brevemente suas conclusões e o que você fez com elas."
   ]
  },
  {
   "cell_type": "markdown",
   "id": "1e46de76",
   "metadata": {
    "id": "1e46de76"
   },
   "source": [
    "## Encontre e remova valores ausentes\n",
    "\n",
    "\n",
    "Ao processarmos valores duplicados, observamos que também temos valores ausentes que precisamos investigar nas seguintes colunas:\n",
    "\n",
    "*\tA coluna `'product_name'` da tabela products.\n",
    "*\tA coluna `'days_since_prior_order'` da tabela orders.\n",
    "*\tA coluna `'add_to_cart_order'` da tabela order_products.\n"
   ]
  },
  {
   "cell_type": "code",
   "execution_count": 89,
   "id": "5e0c8d59",
   "metadata": {
    "trusted": false
   },
   "outputs": [
    {
     "name": "stdout",
     "output_type": "stream",
     "text": [
      "order_id                      0\n",
      "user_id                       0\n",
      "order_number                  0\n",
      "order_dow                     0\n",
      "order_hour_of_day             0\n",
      "days_since_prior_order    28819\n",
      "dtype: int64\n",
      "product_id          0\n",
      "product_name     1258\n",
      "aisle_id            0\n",
      "department_id       0\n",
      "dtype: int64\n",
      "aisle_id    0\n",
      "aisle       0\n",
      "dtype: int64\n",
      "department_id    0\n",
      "department       0\n",
      "dtype: int64\n",
      "order_id               0\n",
      "product_id             0\n",
      "add_to_cart_order    836\n",
      "reordered              0\n",
      "dtype: int64\n"
     ]
    }
   ],
   "source": [
    "#verificando o numero de valores ausentes em cada dataframe\n",
    "print(df_instacart.isnull().sum())#possui valores ausentes na coluna days_since_prior_order\n",
    "print(df_products.isnull().sum())#possui valores ausentes na coluna product_name\n",
    "print(df_aisles.isnull().sum())\n",
    "print(df_departaments.isnull().sum())\n",
    "print(df_order_products.isnull().sum())# possui valores ausentes na coluna add_to_cart_order\n"
   ]
  },
  {
   "cell_type": "markdown",
   "id": "c0aebd78",
   "metadata": {
    "id": "c0aebd78"
   },
   "source": [
    "### DataFrame `products`"
   ]
  },
  {
   "cell_type": "code",
   "execution_count": 90,
   "id": "fe4a8b0f",
   "metadata": {
    "id": "fe4a8b0f",
    "trusted": false
   },
   "outputs": [
    {
     "name": "stdout",
     "output_type": "stream",
     "text": [
      "Total de valores ausentes em 'product_name': 1258\n"
     ]
    }
   ],
   "source": [
    "# Encontre valores ausentes na coluna 'product_name'\n",
    "missing_product_names = df_products['product_name'].isna().sum()\n",
    "print(f\"Total de valores ausentes em 'product_name': {missing_product_names}\")"
   ]
  },
  {
   "cell_type": "markdown",
   "id": "-A6x1AbJhjkp",
   "metadata": {
    "id": "-A6x1AbJhjkp"
   },
   "source": [
    "Descreva brevemente suas conclusões.\n",
    "foi utilizado o metodo .isna().sum() para verificar os valores ausentes na coluna e após foi impresso o numero"
   ]
  },
  {
   "cell_type": "code",
   "execution_count": 91,
   "id": "e96167bc",
   "metadata": {
    "id": "e96167bc",
    "trusted": false
   },
   "outputs": [
    {
     "name": "stdout",
     "output_type": "stream",
     "text": [
      "       product_id product_name  aisle_id  department_id\n",
      "37             38          NaN       100             21\n",
      "71             72          NaN       100             21\n",
      "109           110          NaN       100             21\n",
      "296           297          NaN       100             21\n",
      "416           417          NaN       100             21\n",
      "...           ...          ...       ...            ...\n",
      "49552       49553          NaN       100             21\n",
      "49574       49575          NaN       100             21\n",
      "49640       49641          NaN       100             21\n",
      "49663       49664          NaN       100             21\n",
      "49668       49669          NaN       100             21\n",
      "\n",
      "[1258 rows x 4 columns]\n",
      "Todos os produtos sem nome estão no corredor 100? True\n"
     ]
    }
   ],
   "source": [
    "# Todos os nomes de produtos ausentes estão associados com o corredor de ID 100?\n",
    "print(df_products[df_products['product_name'].isna()])\n",
    "missing_aisle_100 = df_products[df_products['product_name'].isna()]['aisle_id'].eq(100).all()\n",
    "print(f\"Todos os produtos sem nome estão no corredor 100? {missing_aisle_100}\")"
   ]
  },
  {
   "cell_type": "markdown",
   "id": "WRpIfXRphpSL",
   "metadata": {
    "id": "WRpIfXRphpSL"
   },
   "source": [
    "Descreva brevemente suas conclusões."
   ]
  },
  {
   "cell_type": "code",
   "execution_count": 92,
   "id": "8fd0a541",
   "metadata": {
    "id": "8fd0a541",
    "trusted": false
   },
   "outputs": [
    {
     "name": "stdout",
     "output_type": "stream",
     "text": [
      "Todos os produtos sem nome estão no departamento 21? True\n"
     ]
    }
   ],
   "source": [
    "# Todos os nomes de produtos ausentes estão associados com o departamento de ID 21?\n",
    "missing_department_21 = df_products[df_products['product_name'].isna()]['department_id'].eq(21).all()\n",
    "print(f\"Todos os produtos sem nome estão no departamento 21? {missing_department_21}\")"
   ]
  },
  {
   "cell_type": "markdown",
   "id": "qDpdYn1Fht_I",
   "metadata": {
    "id": "qDpdYn1Fht_I"
   },
   "source": [
    "Descreva brevemente suas conclusões."
   ]
  },
  {
   "cell_type": "code",
   "execution_count": 93,
   "id": "325c3464",
   "metadata": {
    "id": "325c3464",
    "trusted": false
   },
   "outputs": [
    {
     "name": "stdout",
     "output_type": "stream",
     "text": [
      "Informações do corredor com ID 100:\n",
      "    aisle_id    aisle\n",
      "99       100  missing\n",
      "\n",
      "Informações do departamento com ID 21:\n",
      "    department_id department\n",
      "20             21    missing\n"
     ]
    }
   ],
   "source": [
    "# Use as tabelas department e aisle para verificar os dados do corredor com ID 100 e do departamento com ID 21.\n",
    "aisle_100_info = df_aisles[df_aisles['aisle_id'] == 100]\n",
    "department_21_info = df_departaments[df_departaments['department_id'] == 21]\n",
    "\n",
    "print(\"Informações do corredor com ID 100:\")\n",
    "print(aisle_100_info)\n",
    "\n",
    "print(\"\\nInformações do departamento com ID 21:\")\n",
    "print(department_21_info)"
   ]
  },
  {
   "cell_type": "markdown",
   "id": "nqhSTUPhhvEJ",
   "metadata": {
    "id": "nqhSTUPhhvEJ"
   },
   "source": [
    "Descreva brevemente suas conclusões."
   ]
  },
  {
   "cell_type": "code",
   "execution_count": 94,
   "id": "6b295120",
   "metadata": {
    "id": "6b295120",
    "trusted": false
   },
   "outputs": [],
   "source": [
    "# Preencha nomes de produtos ausentes com 'Unknown'\n",
    "df_products['product_name'].fillna('Unknown', inplace=True)"
   ]
  },
  {
   "cell_type": "markdown",
   "id": "fc70e5ad",
   "metadata": {
    "id": "fc70e5ad"
   },
   "source": [
    "Descreva brevemente suas conclusões e o que você fez com elas.\n",
    "basicamente foi utilizado o metodo fillna() com inplace=true pra alterar os valores para unkown"
   ]
  },
  {
   "cell_type": "markdown",
   "id": "7eb45c86",
   "metadata": {
    "id": "7eb45c86"
   },
   "source": [
    "### DataFrame `orders`"
   ]
  },
  {
   "cell_type": "code",
   "execution_count": 95,
   "id": "93e41d96",
   "metadata": {
    "id": "93e41d96",
    "trusted": false
   },
   "outputs": [
    {
     "name": "stdout",
     "output_type": "stream",
     "text": [
      "Total de valores ausentes em 'days_since_prior_order': 28819\n"
     ]
    }
   ],
   "source": [
    "# Encontre os valores ausentes\n",
    "missing_values = df_instacart['days_since_prior_order'].isna().sum()\n",
    "print(f\"Total de valores ausentes em 'days_since_prior_order': {missing_values}\")"
   ]
  },
  {
   "cell_type": "code",
   "execution_count": 96,
   "id": "166e5a86",
   "metadata": {
    "id": "166e5a86",
    "trusted": false
   },
   "outputs": [
    {
     "name": "stdout",
     "output_type": "stream",
     "text": [
      "são os primeiros pedidos? True\n"
     ]
    }
   ],
   "source": [
    "# Há valores ausentes para os clientes que não estão fazendo o primeiro pedido?\n",
    "missing_orders = df_instacart[df_instacart['days_since_prior_order'].isna()]\n",
    "first_orders = missing_orders['order_number'].eq(1).all()\n",
    "\n",
    "print(f\"são os primeiros pedidos? {first_orders}\")"
   ]
  },
  {
   "cell_type": "markdown",
   "id": "4e23d089",
   "metadata": {
    "id": "4e23d089"
   },
   "source": [
    "Descreva brevemente suas conclusões e o que você fez com elas."
   ]
  },
  {
   "cell_type": "markdown",
   "id": "69dc9ca4",
   "metadata": {
    "id": "69dc9ca4"
   },
   "source": [
    "### DataFrame `order_products`"
   ]
  },
  {
   "cell_type": "code",
   "execution_count": 97,
   "id": "b8240253",
   "metadata": {
    "id": "b8240253",
    "trusted": false
   },
   "outputs": [
    {
     "name": "stdout",
     "output_type": "stream",
     "text": [
      "Total de valores ausentes em 'add_to_cart_order': 836\n",
      "         order_id  product_id  add_to_cart_order  reordered\n",
      "737       2449164        5068                NaN          0\n",
      "9926      1968313       43867                NaN          0\n",
      "14394     2926893       11688                NaN          0\n",
      "16418     1717990        4142                NaN          0\n",
      "30114     1959075       42828                NaN          1\n",
      "...           ...         ...                ...        ...\n",
      "4505662   1800005        7411                NaN          0\n",
      "4511400   1633337         260                NaN          0\n",
      "4517562    404157        9517                NaN          0\n",
      "4534112   1673227       17835                NaN          0\n",
      "4535739   1832957       17949                NaN          1\n",
      "\n",
      "[836 rows x 4 columns]\n"
     ]
    }
   ],
   "source": [
    "# Encontre os valores ausentes\n",
    "missing_values = df_order_products['add_to_cart_order'].isna().sum()\n",
    "print(f\"Total de valores ausentes em 'add_to_cart_order': {missing_values}\")\n",
    "print(df_order_products[df_order_products['add_to_cart_order'].isna()])"
   ]
  },
  {
   "cell_type": "code",
   "execution_count": 98,
   "id": "9a78e5ee",
   "metadata": {
    "id": "9a78e5ee",
    "trusted": false
   },
   "outputs": [
    {
     "name": "stdout",
     "output_type": "stream",
     "text": [
      "Valor mínimo de 'add_to_cart_order': 1.0\n",
      "Valor máximo de 'add_to_cart_order': 64.0\n"
     ]
    }
   ],
   "source": [
    "# Quais são os valores mínimo e máximo dessa coluna?\n",
    "min_value = df_order_products['add_to_cart_order'].min()\n",
    "max_value = df_order_products['add_to_cart_order'].max()\n",
    "\n",
    "print(f\"Valor mínimo de 'add_to_cart_order': {min_value}\")\n",
    "print(f\"Valor máximo de 'add_to_cart_order': {max_value}\")"
   ]
  },
  {
   "cell_type": "markdown",
   "id": "-Z2Ja215jW78",
   "metadata": {
    "id": "-Z2Ja215jW78"
   },
   "source": [
    "Descreva brevemente suas conclusões."
   ]
  },
  {
   "cell_type": "code",
   "execution_count": 99,
   "id": "ab9d0c2b",
   "metadata": {
    "id": "ab9d0c2b",
    "trusted": false
   },
   "outputs": [
    {
     "name": "stdout",
     "output_type": "stream",
     "text": [
      "Total de pedidos com valores ausentes: 70\n",
      "IDs dos pedidos salvos em 'orders_with_missing_values.csv'.\n"
     ]
    }
   ],
   "source": [
    "# Salve todos os IDs dos pedidos com pelo menos um valor ausente em 'add_to_cart_order'\n",
    "orders_with_missing_values = df_order_products[df_order_products['add_to_cart_order'].isna()]['order_id'].unique()\n",
    "\n",
    "# Salvar os IDs em um arquivo CSV\n",
    "pd.DataFrame(orders_with_missing_values, columns=['order_id']).to_csv('orders_with_missing_values.csv', index=False)\n",
    "\n",
    "print(f\"Total de pedidos com valores ausentes: {len(orders_with_missing_values)}\")\n",
    "print(\"IDs dos pedidos salvos em 'orders_with_missing_values.csv'.\")"
   ]
  },
  {
   "cell_type": "code",
   "execution_count": 100,
   "id": "54c31695",
   "metadata": {
    "id": "54c31695",
    "trusted": false
   },
   "outputs": [
    {
     "name": "stdout",
     "output_type": "stream",
     "text": [
      "Todos os pedidos com valores ausentes contêm mais de 64 produtos? False\n",
      "   order_id  num_products\n",
      "0      9310             1\n",
      "1     61355            63\n",
      "2    102236            31\n",
      "3    129627             5\n",
      "4    165801             6\n",
      "O menor número de produtos em um pedido com valores ausentes: 1\n"
     ]
    }
   ],
   "source": [
    "# Todos os pedidos com valores ausentes contêm mais de 64 produtos?\n",
    "orders_with_missing_values = df_order_products[df_order_products['add_to_cart_order'].isna()]\n",
    "order_counts = orders_with_missing_values.groupby('order_id')['product_id'].count()\n",
    "all_above_64 = (order_counts > 64).all()\n",
    "print(f\"Todos os pedidos com valores ausentes contêm mais de 64 produtos? {all_above_64}\")\n",
    "\n",
    "# Agrupe os pedidos com dados ausentes por ID de pedido\n",
    "orders_grouped = orders_with_missing_values.groupby('order_id').size().reset_index(name='num_products')\n",
    "print(orders_grouped.head())\n",
    "\n",
    "# Conte o número de 'product_id' em cada pedido e verifique o valor mínimo da contagem\n",
    "min_products = order_counts.min()\n",
    "print(f\"O menor número de produtos em um pedido com valores ausentes: {min_products}\")"
   ]
  },
  {
   "cell_type": "markdown",
   "id": "p9V6pddtjglj",
   "metadata": {
    "id": "p9V6pddtjglj"
   },
   "source": [
    "Descreva brevemente suas conclusões."
   ]
  },
  {
   "cell_type": "code",
   "execution_count": 101,
   "id": "7a987d08",
   "metadata": {
    "id": "7a987d08",
    "trusted": false
   },
   "outputs": [
    {
     "name": "stdout",
     "output_type": "stream",
     "text": [
      "<class 'pandas.core.frame.DataFrame'>\n",
      "RangeIndex: 4545007 entries, 0 to 4545006\n",
      "Data columns (total 4 columns):\n",
      " #   Column             Dtype\n",
      "---  ------             -----\n",
      " 0   order_id           int64\n",
      " 1   product_id         int64\n",
      " 2   add_to_cart_order  int64\n",
      " 3   reordered          int64\n",
      "dtypes: int64(4)\n",
      "memory usage: 138.7 MB\n",
      "None\n",
      "0    17\n",
      "1     1\n",
      "2     1\n",
      "3    35\n",
      "4     5\n",
      "Name: add_to_cart_order, dtype: int64\n"
     ]
    }
   ],
   "source": [
    "# Substitua valores ausentes na coluna 'add_to_cart_order' por 999 e converta a coluna para o tipo integer\n",
    "df_order_products['add_to_cart_order'].fillna(999, inplace=True)\n",
    "\n",
    "# Converter a coluna para inteiro\n",
    "df_order_products['add_to_cart_order'] = df_order_products['add_to_cart_order'].astype(int)\n",
    "\n",
    "#imprime substituição e conversão\n",
    "print(df_order_products.info())\n",
    "print(df_order_products['add_to_cart_order'].head())"
   ]
  },
  {
   "cell_type": "markdown",
   "id": "fea4bcc7",
   "metadata": {
    "id": "fea4bcc7"
   },
   "source": [
    "Descreva brevemente suas conclusões e o que você fez com elas."
   ]
  },
  {
   "cell_type": "markdown",
   "id": "RnplPFY1gSrb",
   "metadata": {
    "id": "RnplPFY1gSrb"
   },
   "source": [
    "## Conclusões\n",
    "\n",
    "Escreva aqui suas conclusões intermediárias da Etapa 2. Preparação de dados\n",
    "\n",
    "Os dados estão limpos agora, foi necessário realizar a verificação de valores, ausentes, duplicados bem como do ajuste para leitura dos arquivos."
   ]
  },
  {
   "cell_type": "markdown",
   "id": "UjrOIwTcz3ri",
   "metadata": {
    "id": "UjrOIwTcz3ri"
   },
   "source": [
    "# Etapa 3. Análise de dados\n",
    "\n",
    "Quando os dados estiverem processados ​​e prontos, execute a seguinte análise:"
   ]
  },
  {
   "cell_type": "markdown",
   "id": "short-capability",
   "metadata": {
    "id": "short-capability"
   },
   "source": [
    "### [A1] Verifique se os valores fazem sentido"
   ]
  },
  {
   "cell_type": "code",
   "execution_count": 102,
   "id": "growing-fruit",
   "metadata": {
    "id": "growing-fruit",
    "trusted": false
   },
   "outputs": [
    {
     "name": "stdout",
     "output_type": "stream",
     "text": [
      "Os valores 'order_hour_of_day' estão no (0-23)? True\n"
     ]
    }
   ],
   "source": [
    "valid_hours = df_instacart['order_hour_of_day'].between(0, 23).all()\n",
    "print(f\"Os valores 'order_hour_of_day' estão no (0-23)? {valid_hours}\")\n"
   ]
  },
  {
   "cell_type": "code",
   "execution_count": 103,
   "id": "accessory-malaysia",
   "metadata": {
    "id": "accessory-malaysia",
    "trusted": false
   },
   "outputs": [
    {
     "name": "stdout",
     "output_type": "stream",
     "text": [
      "Os valores'order_dow' estão no (0-6)? True\n"
     ]
    }
   ],
   "source": [
    "valid_days = df_instacart['order_dow'].between(0, 6).all()\n",
    "print(f\"Os valores'order_dow' estão no (0-6)? {valid_days}\")"
   ]
  },
  {
   "cell_type": "markdown",
   "id": "hmR2GNQ6lCsX",
   "metadata": {
    "id": "hmR2GNQ6lCsX"
   },
   "source": [
    "Escreva suas conclusões aqui\n",
    "\n",
    "Se ambos retornarem True, os valores fazem sentido. Se False, há valores fora dos intervalos esperados e precisaríamos investigar mais.\n",
    "\n"
   ]
  },
  {
   "cell_type": "markdown",
   "id": "a6743a70",
   "metadata": {
    "id": "a6743a70"
   },
   "source": [
    "### [A2] Quantas pessoas fazem pedidos a cada hora do dia?"
   ]
  },
  {
   "cell_type": "code",
   "execution_count": 104,
   "id": "a36cca27",
   "metadata": {
    "id": "a36cca27",
    "trusted": false
   },
   "outputs": [
    {
     "data": {
      "image/png": "[encoded data removed]",
      "text/plain": [
       "<Figure size 1000x500 with 1 Axes>"
      ]
     },
     "metadata": {},
     "output_type": "display_data"
    }
   ],
   "source": [
    "import matplotlib.pyplot as plt\n",
    "import seaborn as sns\n",
    "\n",
    "#pedidos por hora do dia\n",
    "orders_by_hour = df_instacart['order_hour_of_day'].value_counts().sort_index()\n",
    "\n",
    "#gráfico\n",
    "plt.figure(figsize=(10, 5))\n",
    "sns.barplot(x=orders_by_hour.index, y=orders_by_hour.values, palette=\"viridis\")\n",
    "plt.xlabel(\"Hora do Dia\")\n",
    "plt.ylabel(\"Número de Pedidos\")\n",
    "plt.title(\"Número de Pedidos por Hora do Dia\")\n",
    "plt.xticks(range(0, 24))\n",
    "plt.show()"
   ]
  },
  {
   "attachments": {
    "image.png": {
     "image/png": "[encoded data removed]"
    }
   },
   "cell_type": "markdown",
   "id": "05261275",
   "metadata": {},
   "source": [
    "<div class=\"alert alert-block alert-warning\">\n",
    "<b>Comentário: </b> <a class=\"tocSkip\"></a>\n",
    "\n",
    "Sugestões de melhorias no gráfico acima: \n",
    "    \n",
    "\n",
    "```python\n",
    "from matplotlib import pyplot as plt\n",
    "\n",
    "# Contar quantas pessoas fazem pedidos a cada hora do dia (contando valores únicos de 'user_id')\n",
    "pedidos_por_hora = df_orders.groupby('order_hour_of_day')['user_id'].nunique()\n",
    "print(pedidos_por_hora)\n",
    "\n",
    "\n",
    "plt.figure(figsize=(12, 6))\n",
    "pedidos_por_hora.plot(title=\"Número de Pedidos por Hora\", kind='bar', color='yellow', xlabel='Horas do dia', ylabel= 'Número de pedidos')\n",
    "\n",
    "``` \n",
    "    \n",
    "![image.png](attachment:image.png)\n",
    "</div>"
   ]
  },
  {
   "cell_type": "markdown",
   "id": "11270eed",
   "metadata": {
    "id": "11270eed"
   },
   "source": [
    "Escreva suas conclusões aqui\n",
    "\n",
    "Deve haver picos de pedidos em horários específicos (como pela manhã e à noite) e uma queda na madrugada."
   ]
  },
  {
   "cell_type": "markdown",
   "id": "documented-command",
   "metadata": {
    "id": "documented-command"
   },
   "source": [
    "### [A3] Em que dia da semana as pessoas compram produtos alimentícios?"
   ]
  },
  {
   "cell_type": "code",
   "execution_count": 105,
   "id": "chief-digit",
   "metadata": {
    "id": "chief-digit",
    "trusted": false
   },
   "outputs": [
    {
     "data": {
      "image/png": "[encoded data removed]",
      "text/plain": [
       "<Figure size 800x500 with 1 Axes>"
      ]
     },
     "metadata": {},
     "output_type": "display_data"
    },
    {
     "data": {
      "image/png": "[encoded data removed]",
      "text/plain": [
       "<Figure size 800x500 with 1 Axes>"
      ]
     },
     "metadata": {},
     "output_type": "display_data"
    }
   ],
   "source": [
    "# Contar pedidos por dia da semana\n",
    "orders_by_day = df_instacart['order_dow'].value_counts().sort_index()\n",
    "\n",
    "# Criar gráfico\n",
    "plt.figure(figsize=(8, 5))\n",
    "sns.barplot(x=orders_by_day.index, y=orders_by_day.values, palette=\"coolwarm\")\n",
    "plt.xlabel(\"Dia da Semana (0 = Domingo, 6 = Sábado)\")\n",
    "plt.ylabel(\"Número de Pedidos\")\n",
    "plt.title(\"Número de Pedidos por Dia da Semana\")\n",
    "plt.xticks(range(0, 7), [\"Dom\", \"Seg\", \"Ter\", \"Qua\", \"Qui\", \"Sex\", \"Sáb\"])\n",
    "plt.show()\n",
    "orders_by_day = df_instacart['order_dow'].value_counts().sort_index()\n",
    "\n",
    "# Criar gráfico\n",
    "plt.figure(figsize=(8, 5))\n",
    "sns.barplot(x=orders_by_day.index, y=orders_by_day.values, palette=\"coolwarm\")\n",
    "plt.xlabel(\"Dia da Semana (0 = Domingo, 6 = Sábado)\")\n",
    "plt.ylabel(\"Número de Pedidos\")\n",
    "plt.title(\"Número de Pedidos por Dia da Semana\")\n",
    "plt.xticks(range(0, 7), [\"Dom\", \"Seg\", \"Ter\", \"Qua\", \"Qui\", \"Sex\", \"Sáb\"])\n",
    "plt.show()"
   ]
  },
  {
   "cell_type": "markdown",
   "id": "dominant-lightning",
   "metadata": {
    "id": "dominant-lightning"
   },
   "source": [
    "Escreva suas conclusões aqui"
   ]
  },
  {
   "cell_type": "markdown",
   "id": "cutting-concert",
   "metadata": {
    "id": "cutting-concert"
   },
   "source": [
    "### [A4] Quanto tempo as pessoas esperam até fazer outro pedido?"
   ]
  },
  {
   "cell_type": "markdown",
   "id": "discrete-vertex",
   "metadata": {
    "id": "discrete-vertex"
   },
   "source": [
    "Escreva suas conclusões aqui\n",
    "Podemos identificar os dias mais movimentados. Geralmente, sábado e domingo tendem a ter mais pedidos."
   ]
  },
  {
   "cell_type": "code",
   "execution_count": null,
   "id": "gMOIimGd5VNb",
   "metadata": {
    "id": "gMOIimGd5VNb",
    "trusted": false
   },
   "outputs": [
    {
     "data": {
      "image/png": "[encoded data removed]",
      "text/plain": [
       "<Figure size 1200x500 with 1 Axes>"
      ]
     },
     "metadata": {},
     "output_type": "display_data"
    },
    {
     "name": "stdout",
     "output_type": "stream",
     "text": [
      "Tempo mínimo entre pedidos: 0.0 dias\n",
      "Tempo máximo entre pedidos: 30.0 dias\n"
     ]
    }
   ],
   "source": [
    "# Contar frequência dos dias entre pedidos\n",
    "days_wait_counts = df_instacart['days_since_prior_order'].value_counts().sort_index()\n",
    "\n",
    "# Criar gráfico\n",
    "plt.figure(figsize=(12, 5))\n",
    "sns.barplot(x=days_wait_counts.index, y=days_wait_counts.values, palette=\"crest\")\n",
    "plt.xlabel(\"Dias desde o último pedido\")\n",
    "plt.ylabel(\"Número de Pedidos\")\n",
    "plt.title(\"Tempo entre Pedidos\")\n",
    "plt.show()\n",
    "\n",
    "#valores mínimo e máximo\n",
    "min_days = df_instacart['days_since_prior_order'].min()\n",
    "max_days = df_instacart['days_since_prior_order'].max()\n",
    "\n",
    "print(f\"Tempo mínimo entre pedidos: {min_days} dias\")\n",
    "print(f\"Tempo máximo entre pedidos: {max_days} dias\")"
   ]
  },
  {
   "attachments": {
    "image.png": {
     "image/png": "[encoded data removed]"
    }
   },
   "cell_type": "markdown",
   "id": "0f2ce81b",
   "metadata": {},
   "source": [
    "<div class=\"alert alert-block alert-warning\">\n",
    "<b>Comentário: </b> <a class=\"tocSkip\"></a>\n",
    "    \n",
    "Sugestão de melhoria:\n",
    "    \n",
    "Caso queira fazer o gráfico de uma forma mais rápida, pode utilizar o comando `hist`. Exemplo abaixo:\n",
    "    \n",
    "    \n",
    "```python\n",
    "    \n",
    "plt.figure(figsize=(10,6))\n",
    "orders_df['days_since_prior_order'].hist(bins=30, color='green', edgecolor='black')\n",
    "plt.title('Tempo de Espera até o Próximo Pedido')\n",
    "plt.xlabel('Dias')\n",
    "plt.ylabel('Quantidade de Pedidos')\n",
    "plt.show()\n",
    "\n",
    "min_days = orders_df['days_since_prior_order'].min()\n",
    "max_days = orders_df['days_since_prior_order'].max()\n",
    "\n",
    "print(\"Mínimo de dias até o próximo pedido:\", min_days)\n",
    "print(\"Máximo de dias até o próximo pedido:\", max_days)\n",
    "    \n",
    "```\n",
    "    \n",
    "![image.png](attachment:image.png) \n",
    "    "
   ]
  },
  {
   "cell_type": "code",
   "execution_count": null,
   "id": "8b6c383a",
   "metadata": {
    "trusted": false
   },
   "outputs": [
    {
     "data": {
      "image/png": "[encoded data removed]",
      "text/plain": [
       "<Figure size 1200x500 with 1 Axes>"
      ]
     },
     "metadata": {},
     "output_type": "display_data"
    },
    {
     "name": "stdout",
     "output_type": "stream",
     "text": [
      "Tempo mínimo entre pedidos: 0.0 dias\n",
      "Tempo máximo entre pedidos: 30.0 dias\n"
     ]
    }
   ],
   "source": [
    "#Código gerado pela revisora \n",
    "\n",
    "import matplotlib.pyplot as plt\n",
    "import seaborn as sns\n",
    "\n",
    "# Dados para o histograma\n",
    "days_wait = df_instacart['days_since_prior_order']\n",
    "\n",
    "# Criar histograma\n",
    "plt.figure(figsize=(12, 5))\n",
    "sns.histplot(days_wait, bins=30, kde=False, color='teal', edgecolor='black')  # Ajuste o número de bins conforme necessário\n",
    "plt.xlabel(\"Dias desde o último pedido\")\n",
    "plt.ylabel(\"Número de Pedidos\")\n",
    "plt.title(\"Distribuição do Tempo entre Pedidos\")\n",
    "plt.show()\n",
    "\n",
    "# Valores mínimo e máximo\n",
    "min_days = days_wait.min()\n",
    "max_days = days_wait.max()\n",
    "\n",
    "print(f\"Tempo mínimo entre pedidos: {min_days} dias\")\n",
    "print(f\"Tempo máximo entre pedidos: {max_days} dias\")"
   ]
  },
  {
   "cell_type": "markdown",
   "id": "7661117c",
   "metadata": {},
   "source": [
    "<div class=\"alert alert-block alert-success\">\n",
    "<b>Comentário: </b> <a class=\"tocSkip\"></a>\n",
    "\n",
    "Todas as tarefas de nível fácil foram realizadas corretamente. Por favor apenas rode o código novamente com o dataframe df_instacart ajustado.\n",
    "</div>"
   ]
  },
  {
   "cell_type": "markdown",
   "id": "tight-staff",
   "metadata": {
    "id": "tight-staff"
   },
   "source": [
    "\n",
    "\n",
    "1.\tHá alguma diferença nas distribuições de `'order_hour_of_day'` nas quartas e sábados? Construa gráficos de barras para ambos os dias no mesmo gráfico e descreva as diferenças que você notou.\n",
    "2.\tConstrua um gráfico de distribuição para o número de pedidos que os clientes fazem (ou seja, quantos clientes fizeram apenas 1 pedido, quantos fizeram apenas 2, quantos apenas 3, etc.)\n",
    "3.\tQuais são os 20 produtos comprados com mais frequência? Exiba os IDs e nomes.\n"
   ]
  },
  {
   "cell_type": "markdown",
   "id": "packed-classic",
   "metadata": {
    "id": "packed-classic"
   },
   "source": [
    "### [B1] Diferenças nas quartas e sábados em `'order_hour_of_day'`. Crie gráficos de barras para ambos os dias e descreva as diferenças."
   ]
  },
  {
   "cell_type": "code",
   "execution_count": 107,
   "id": "d89b8403",
   "metadata": {
    "id": "d89b8403",
    "trusted": false
   },
   "outputs": [],
   "source": [
    "import matplotlib.pyplot as plt\n",
    "import seaborn as sns"
   ]
  },
  {
   "cell_type": "code",
   "execution_count": 108,
   "id": "94e54e8a",
   "metadata": {
    "id": "94e54e8a",
    "trusted": false
   },
   "outputs": [],
   "source": [
    "wednesday_orders = df_instacart[df_instacart['order_dow'] == 3]\n",
    "saturday_orders = df_instacart[df_instacart['order_dow'] == 6]"
   ]
  },
  {
   "cell_type": "code",
   "execution_count": 109,
   "id": "888ec1bc",
   "metadata": {
    "trusted": false
   },
   "outputs": [
    {
     "data": {
      "text/html": [
       "<div>\n",
       "<style scoped>\n",
       "    .dataframe tbody tr th:only-of-type {\n",
       "        vertical-align: middle;\n",
       "    }\n",
       "\n",
       "    .dataframe tbody tr th {\n",
       "        vertical-align: top;\n",
       "    }\n",
       "\n",
       "    .dataframe thead th {\n",
       "        text-align: right;\n",
       "    }\n",
       "</style>\n",
       "<table border=\"1\" class=\"dataframe\">\n",
       "  <thead>\n",
       "    <tr style=\"text-align: right;\">\n",
       "      <th></th>\n",
       "      <th>order_id</th>\n",
       "      <th>user_id</th>\n",
       "      <th>order_number</th>\n",
       "      <th>order_dow</th>\n",
       "      <th>order_hour_of_day</th>\n",
       "      <th>days_since_prior_order</th>\n",
       "    </tr>\n",
       "  </thead>\n",
       "  <tbody>\n",
       "    <tr>\n",
       "      <th>6</th>\n",
       "      <td>2511640</td>\n",
       "      <td>148233</td>\n",
       "      <td>40</td>\n",
       "      <td>3</td>\n",
       "      <td>8</td>\n",
       "      <td>2.0</td>\n",
       "    </tr>\n",
       "    <tr>\n",
       "      <th>16</th>\n",
       "      <td>3109465</td>\n",
       "      <td>55090</td>\n",
       "      <td>19</td>\n",
       "      <td>3</td>\n",
       "      <td>15</td>\n",
       "      <td>9.0</td>\n",
       "    </tr>\n",
       "    <tr>\n",
       "      <th>28</th>\n",
       "      <td>133707</td>\n",
       "      <td>182261</td>\n",
       "      <td>1</td>\n",
       "      <td>3</td>\n",
       "      <td>10</td>\n",
       "      <td>NaN</td>\n",
       "    </tr>\n",
       "    <tr>\n",
       "      <th>30</th>\n",
       "      <td>1890318</td>\n",
       "      <td>193501</td>\n",
       "      <td>3</td>\n",
       "      <td>3</td>\n",
       "      <td>15</td>\n",
       "      <td>30.0</td>\n",
       "    </tr>\n",
       "    <tr>\n",
       "      <th>35</th>\n",
       "      <td>125325</td>\n",
       "      <td>106853</td>\n",
       "      <td>6</td>\n",
       "      <td>3</td>\n",
       "      <td>19</td>\n",
       "      <td>30.0</td>\n",
       "    </tr>\n",
       "    <tr>\n",
       "      <th>...</th>\n",
       "      <td>...</td>\n",
       "      <td>...</td>\n",
       "      <td>...</td>\n",
       "      <td>...</td>\n",
       "      <td>...</td>\n",
       "      <td>...</td>\n",
       "    </tr>\n",
       "    <tr>\n",
       "      <th>478917</th>\n",
       "      <td>972799</td>\n",
       "      <td>89702</td>\n",
       "      <td>4</td>\n",
       "      <td>3</td>\n",
       "      <td>7</td>\n",
       "      <td>10.0</td>\n",
       "    </tr>\n",
       "    <tr>\n",
       "      <th>478946</th>\n",
       "      <td>2406747</td>\n",
       "      <td>63101</td>\n",
       "      <td>11</td>\n",
       "      <td>3</td>\n",
       "      <td>8</td>\n",
       "      <td>5.0</td>\n",
       "    </tr>\n",
       "    <tr>\n",
       "      <th>478956</th>\n",
       "      <td>640934</td>\n",
       "      <td>27104</td>\n",
       "      <td>9</td>\n",
       "      <td>3</td>\n",
       "      <td>10</td>\n",
       "      <td>6.0</td>\n",
       "    </tr>\n",
       "    <tr>\n",
       "      <th>478963</th>\n",
       "      <td>3270802</td>\n",
       "      <td>112087</td>\n",
       "      <td>2</td>\n",
       "      <td>3</td>\n",
       "      <td>13</td>\n",
       "      <td>6.0</td>\n",
       "    </tr>\n",
       "    <tr>\n",
       "      <th>478965</th>\n",
       "      <td>216274</td>\n",
       "      <td>4391</td>\n",
       "      <td>3</td>\n",
       "      <td>3</td>\n",
       "      <td>8</td>\n",
       "      <td>8.0</td>\n",
       "    </tr>\n",
       "  </tbody>\n",
       "</table>\n",
       "<p>60912 rows × 6 columns</p>\n",
       "</div>"
      ],
      "text/plain": [
       "        order_id  user_id  order_number  order_dow  order_hour_of_day  \\\n",
       "6        2511640   148233            40          3                  8   \n",
       "16       3109465    55090            19          3                 15   \n",
       "28        133707   182261             1          3                 10   \n",
       "30       1890318   193501             3          3                 15   \n",
       "35        125325   106853             6          3                 19   \n",
       "...          ...      ...           ...        ...                ...   \n",
       "478917    972799    89702             4          3                  7   \n",
       "478946   2406747    63101            11          3                  8   \n",
       "478956    640934    27104             9          3                 10   \n",
       "478963   3270802   112087             2          3                 13   \n",
       "478965    216274     4391             3          3                  8   \n",
       "\n",
       "        days_since_prior_order  \n",
       "6                          2.0  \n",
       "16                         9.0  \n",
       "28                         NaN  \n",
       "30                        30.0  \n",
       "35                        30.0  \n",
       "...                        ...  \n",
       "478917                    10.0  \n",
       "478946                     5.0  \n",
       "478956                     6.0  \n",
       "478963                     6.0  \n",
       "478965                     8.0  \n",
       "\n",
       "[60912 rows x 6 columns]"
      ]
     },
     "execution_count": 109,
     "metadata": {},
     "output_type": "execute_result"
    }
   ],
   "source": [
    "wednesday_orders"
   ]
  },
  {
   "cell_type": "code",
   "execution_count": 110,
   "id": "797c90a8",
   "metadata": {
    "id": "797c90a8",
    "trusted": false
   },
   "outputs": [],
   "source": [
    "# Contar os pedidos por hora do dia\n",
    "wednesday_counts = wednesday_orders['order_hour_of_day'].value_counts().sort_index()\n",
    "saturday_counts = saturday_orders['order_hour_of_day'].value_counts().sort_index()"
   ]
  },
  {
   "cell_type": "code",
   "execution_count": 111,
   "id": "35bcea30",
   "metadata": {
    "id": "35bcea30",
    "trusted": false
   },
   "outputs": [
    {
     "data": {
      "image/png": "[encoded data removed]",
      "text/plain": [
       "<Figure size 1200x600 with 1 Axes>"
      ]
     },
     "metadata": {},
     "output_type": "display_data"
    }
   ],
   "source": [
    "plt.figure(figsize=(12, 6))\n",
    "sns.barplot(x=wednesday_counts.index, y=wednesday_counts.values, color=\"blue\", label=\"Quarta-feira\")\n",
    "sns.barplot(x=saturday_counts.index, y=saturday_counts.values, color=\"red\", label=\"Sábado\")\n",
    "\n",
    "plt.xlabel(\"Hora do Dia\")\n",
    "plt.ylabel(\"Número de Pedidos\")\n",
    "plt.title(\"Quarta vs. Sábado\")\n",
    "plt.legend()\n",
    "plt.xticks(range(0, 24))\n",
    "plt.show()"
   ]
  },
  {
   "cell_type": "markdown",
   "id": "charitable-congo",
   "metadata": {
    "id": "charitable-congo"
   },
   "source": [
    "Escreva suas conclusões aqui\n",
    "\n",
    "Diferenças esperadas entre quarta-feira e sábado\n",
    "quarta-feira:\n",
    "\n",
    "Picos de pedidos podem ocorrer por volta das 12h-13h (horário de almoço).\n",
    "Outro pico no fim da tarde (17h-19h)\n",
    "Menos pedidos durante a madrugada.\n",
    "\n",
    "sábado:\n",
    "Os pedidos podem começar a subir mais cedo (por volta das 9h-10h).\n",
    "Um grande pico no começo da tarde (12h-15h)\n",
    "O volume pode permanecer alto até a noite\n"
   ]
  },
  {
   "cell_type": "markdown",
   "id": "e3891143",
   "metadata": {
    "id": "e3891143"
   },
   "source": [
    "### [B2] Qual é a distribuição do número de pedidos por cliente?"
   ]
  },
  {
   "cell_type": "code",
   "execution_count": 112,
   "id": "d8c26c23",
   "metadata": {
    "id": "d8c26c23",
    "trusted": false
   },
   "outputs": [
    {
     "data": {
      "image/png": "[encoded data removed]",
      "text/plain": [
       "<Figure size 1200x600 with 1 Axes>"
      ]
     },
     "metadata": {},
     "output_type": "display_data"
    }
   ],
   "source": [
    "import matplotlib.pyplot as plt\n",
    "import seaborn as sns\n",
    "\n",
    "# Contar o número de pedidos por cliente\n",
    "orders_per_user = df_instacart['user_id'].value_counts()\n",
    "\n",
    "# Contar quantos usuários fizeram X pedidos\n",
    "order_distribution = orders_per_user.value_counts().sort_index()\n",
    "\n",
    "#gráfico de barras\n",
    "plt.figure(figsize=(12, 6))\n",
    "sns.barplot(x=order_distribution.index, y=order_distribution.values, palette=\"mako\")\n",
    "\n",
    "plt.xlabel(\"Número de Pedidos por Cliente\")\n",
    "plt.ylabel(\"Número de Clientes\")\n",
    "plt.title(\"Distribuição do Número de Pedidos por Cliente\")\n",
    "\n",
    "\n",
    "plt.show()"
   ]
  },
  {
   "cell_type": "markdown",
   "id": "d2eff7d5",
   "metadata": {
    "id": "d2eff7d5"
   },
   "source": [
    "Escreva suas conclusões aqui"
   ]
  },
  {
   "cell_type": "markdown",
   "id": "54a0319c",
   "metadata": {
    "id": "54a0319c"
   },
   "source": [
    "### [B3] Quais são os 20 produtos mais populares? Exiba os IDs e nomes."
   ]
  },
  {
   "cell_type": "code",
   "execution_count": null,
   "id": "exterior-arizona",
   "metadata": {
    "id": "exterior-arizona",
    "scrolled": true,
    "trusted": false
   },
   "outputs": [
    {
     "name": "stdout",
     "output_type": "stream",
     "text": [
      "    product_id  count              product_name\n",
      "0        24852  66050                    Banana\n",
      "1        13176  53297    Bag of Organic Bananas\n",
      "2        21137  37039      Organic Strawberries\n",
      "3        21903  33971      Organic Baby Spinach\n",
      "4        47209  29773      Organic Hass Avocado\n",
      "5        47766  24689           Organic Avocado\n",
      "6        47626  21495               Large Lemon\n",
      "7        16797  20018              Strawberries\n",
      "8        26209  19690                     Limes\n",
      "9        27845  19600        Organic Whole Milk\n",
      "10       27966  19197       Organic Raspberries\n",
      "11       22935  15898      Organic Yellow Onion\n",
      "12       24964  15292            Organic Garlic\n",
      "13       45007  14584          Organic Zucchini\n",
      "14       39275  13879       Organic Blueberries\n",
      "15       49683  13675            Cucumber Kirby\n",
      "16       28204  12544        Organic Fuji Apple\n",
      "17        5876  12232             Organic Lemon\n",
      "18        8277  11993  Apple Honeycrisp Organic\n",
      "19       40706  11781    Organic Grape Tomatoes\n"
     ]
    }
   ],
   "source": [
    "# Contar quantas vezes cada produto foi comprado\n",
    "top_products = df_order_products['product_id'].value_counts().head(20)\n",
    "\n",
    "#DataFrame com os IDs e a contagem\n",
    "top_products_df = top_products.reset_index()\n",
    "top_products_df.columns = ['product_id', 'count']\n",
    "\n",
    "# Juntar com os nomes dos produtos\n",
    "top_products_df = top_products_df.merge(df_products[['product_id', 'product_name']], on='product_id', how='left')\n",
    "\n",
    "#20 produtos mais populares\n",
    "print(top_products_df)"
   ]
  },
  {
   "cell_type": "code",
   "execution_count": null,
   "id": "universal-facial",
   "metadata": {
    "id": "universal-facial",
    "trusted": false
   },
   "outputs": [
    {
     "data": {
      "image/png": "[encoded data removed]",
      "text/plain": [
       "<Figure size 1200x600 with 1 Axes>"
      ]
     },
     "metadata": {},
     "output_type": "display_data"
    }
   ],
   "source": [
    "import matplotlib.pyplot as plt\n",
    "import seaborn as sns\n",
    "\n",
    "#quantas vezes cada produto foi comprado\n",
    "top_products = df_order_products['product_id'].value_counts().head(20)\n",
    "\n",
    "top_products_df = top_products.reset_index()\n",
    "top_products_df.columns = ['product_id', 'count']\n",
    "\n",
    "top_products_df = top_products_df.merge(df_products[['product_id', 'product_name']], on='product_id', how='left')\n",
    "\n",
    "# gráfico de barras\n",
    "plt.figure(figsize=(12, 6))\n",
    "sns.barplot(y=top_products_df['product_name'], x=top_products_df['count'], palette=\"viridis\")\n",
    "\n",
    "plt.xlabel(\"Número de Compras\")\n",
    "plt.ylabel(\"Produto\")\n",
    "plt.title(\"Top 20 Produtos Mais Comprados\")\n",
    "plt.gca().invert_yaxis()  # Inverte a ordem \n",
    "plt.show()"
   ]
  },
  {
   "cell_type": "markdown",
   "id": "7df00f47",
   "metadata": {
    "id": "7df00f47"
   },
   "source": [
    "Escreva suas conclusões aqui\n",
    "produtos essenciais como bananas, leite, ovos e pão nos primeiros lugares.\n"
   ]
  },
  {
   "cell_type": "markdown",
   "id": "gross-theme",
   "metadata": {
    "id": "gross-theme"
   },
   "source": [
    "\n",
    "1.\tQuantos itens as pessoas normalmente compram em um pedido? Como fica a distribuição?\n",
    "2.\tQuais são os 20 principais itens incluídos mais frequentemente em pedidos repetidos? Exiba os IDs e nomes.\n",
    "3.\tPara cada produto, qual parcela de seus pedidos são repetidos? Crie uma tabela com colunas de ID e nome do produto e a proporção de pedidos repetidos.\n",
    "4.\tPara cada cliente, qual proporção de todos os seus pedidos são repetidos?\n",
    "5.\tQuais são os 20 principais itens que as pessoas colocam nos carrinhos antes de todos os outros? Exiba o ID do produto, nome e o número de vezes que ele foi o primeiro a ser adicionado a um carrinho.\n"
   ]
  },
  {
   "cell_type": "markdown",
   "id": "romantic-deposit",
   "metadata": {
    "id": "romantic-deposit"
   },
   "source": [
    "### [C1] Quantos itens as pessoas normalmente compram em um pedido? Como fica a distribuição?"
   ]
  },
  {
   "cell_type": "code",
   "execution_count": 115,
   "id": "virtual-punch",
   "metadata": {
    "id": "virtual-punch",
    "trusted": false
   },
   "outputs": [],
   "source": [
    "import matplotlib.pyplot as plt\n",
    "import seaborn as sns\n",
    "\n",
    "# Contar quantos produtos há em cada pedido\n",
    "items_per_order = df_order_products.groupby('order_id')['product_id'].count()"
   ]
  },
  {
   "cell_type": "code",
   "execution_count": 116,
   "id": "sensitive-breathing",
   "metadata": {
    "id": "sensitive-breathing",
    "trusted": false
   },
   "outputs": [
    {
     "data": {
      "image/png": "[encoded data removed]",
      "text/plain": [
       "<Figure size 1200x600 with 1 Axes>"
      ]
     },
     "metadata": {},
     "output_type": "display_data"
    }
   ],
   "source": [
    "# distribuição\n",
    "plt.figure(figsize=(12, 6))\n",
    "sns.histplot(items_per_order, bins=50, kde=True, color=\"blue\")\n",
    "plt.xlabel(\"Número de Itens por Pedido\")\n",
    "plt.ylabel(\"Número de Pedidos\")\n",
    "plt.title(\"Distribuição do Número de Itens por Pedido\")\n",
    "plt.xlim(0, items_per_order.max()) \n",
    "\n",
    "plt.show()"
   ]
  },
  {
   "cell_type": "markdown",
   "id": "designed-mortality",
   "metadata": {
    "id": "designed-mortality"
   },
   "source": [
    "Escreva suas conclusões aqui\n",
    "a maioria dos pedidos tem um número moderado de itens entre 5 e 20 produtos\n",
    "Pedidos pequenos são frequentes"
   ]
  },
  {
   "cell_type": "markdown",
   "id": "5e6b5537",
   "metadata": {
    "id": "5e6b5537"
   },
   "source": [
    "### [C2] Quais são os 20 principais itens incluídos com mais frequência em pedidos repetidos? Exiba os IDs e nomes."
   ]
  },
  {
   "cell_type": "code",
   "execution_count": 117,
   "id": "9374e55a",
   "metadata": {
    "id": "9374e55a",
    "trusted": false
   },
   "outputs": [],
   "source": [
    "# Filtrar apenas os pedidos repetidos (reordered == 1)\n",
    "reordered_products = df_order_products[df_order_products['reordered'] == 1]"
   ]
  },
  {
   "cell_type": "code",
   "execution_count": 118,
   "id": "possible-change",
   "metadata": {
    "id": "possible-change",
    "scrolled": true,
    "trusted": false
   },
   "outputs": [],
   "source": [
    "# Contar quantas vezes cada produto foi recomprado\n",
    "top_reordered = reordered_products['product_id'].value_counts().head(20)"
   ]
  },
  {
   "cell_type": "code",
   "execution_count": 119,
   "id": "professional-surfing",
   "metadata": {
    "id": "professional-surfing",
    "scrolled": true,
    "trusted": false
   },
   "outputs": [],
   "source": [
    "# Criar um DataFrame com os IDs e a contagem\n",
    "top_reordered_df = top_reordered.reset_index()\n",
    "top_reordered_df.columns = ['product_id', 'count']"
   ]
  },
  {
   "cell_type": "code",
   "execution_count": 120,
   "id": "48dd3658",
   "metadata": {
    "id": "48dd3658",
    "trusted": false
   },
   "outputs": [
    {
     "name": "stdout",
     "output_type": "stream",
     "text": [
      "    product_id  count              product_name\n",
      "0        24852  55763                    Banana\n",
      "1        13176  44450    Bag of Organic Bananas\n",
      "2        21137  28639      Organic Strawberries\n",
      "3        21903  26233      Organic Baby Spinach\n",
      "4        47209  23629      Organic Hass Avocado\n",
      "5        47766  18743           Organic Avocado\n",
      "6        27845  16251        Organic Whole Milk\n",
      "7        47626  15044               Large Lemon\n",
      "8        27966  14748       Organic Raspberries\n",
      "9        16797  13945              Strawberries\n",
      "10       26209  13327                     Limes\n",
      "11       22935  11145      Organic Yellow Onion\n",
      "12       24964  10411            Organic Garlic\n",
      "13       45007  10076          Organic Zucchini\n",
      "14       49683   9538            Cucumber Kirby\n",
      "15       28204   8989        Organic Fuji Apple\n",
      "16        8277   8836  Apple Honeycrisp Organic\n",
      "17       39275   8799       Organic Blueberries\n",
      "18        5876   8412             Organic Lemon\n",
      "19       49235   8389       Organic Half & Half\n"
     ]
    }
   ],
   "source": [
    "# Juntar com os nomes dos produtos\n",
    "top_reordered_df = top_reordered_df.merge(df_products[['product_id', 'product_name']], on='product_id', how='left')\n",
    "\n",
    "# Exibir os 20 produtos mais recorrentes em pedidos repetidos\n",
    "print(top_reordered_df)"
   ]
  },
  {
   "cell_type": "markdown",
   "id": "80e70c74",
   "metadata": {
    "id": "80e70c74"
   },
   "source": [
    "Escreva suas conclusões aqui\n",
    "Produtos essenciais e de consumo diário provavelmente lideram a lista (exemplo: leite, ovos, pão, bananas)."
   ]
  },
  {
   "cell_type": "markdown",
   "id": "2668075e",
   "metadata": {},
   "source": [
    "<div class=\"alert alert-block alert-success\">\n",
    "<b>Comentário: </b> <a class=\"tocSkip\"></a>\n",
    "\n",
    "Tarefas de nível difícil foram realizadas corretamente.\n",
    "</div>"
   ]
  },
  {
   "cell_type": "markdown",
   "id": "9d312b14",
   "metadata": {
    "id": "9d312b14"
   },
   "source": [
    "### [C3] Para cada produto, qual parcela de todos os pedidos dele são repetidos?"
   ]
  },
  {
   "cell_type": "markdown",
   "id": "729fccce",
   "metadata": {
    "id": "8ae9f4b1"
   },
   "source": [
    "<div class=\"alert alert-block alert-warning\">\n",
    "<b>Comentário: </b> <a class=\"tocSkip\"></a>  \n",
    "\n",
    "Sugestão de como resolver o exercício:\n",
    "    \n",
    "```python    \n",
    "# Realiza a junção dos dataframes 'order_products' e 'products' com base em uma chave comum\n",
    "df_merge = order_products.merge(products)\n",
    "\n",
    "# Calcula a taxa de reordenação (média de 'reordered') para cada produto, agrupando pelo 'product_id' e 'product_name'\n",
    "reorder_rate = df_merge.groupby(['product_id', 'product_name'])['reordered'].mean()\n",
    "\n",
    "# Exibe a taxa de reordenação calculada para cada produto\n",
    "reorder_rate\n",
    "\n",
    "```"
   ]
  },
  {
   "cell_type": "code",
   "execution_count": 121,
   "id": "103e7fe1",
   "metadata": {
    "id": "103e7fe1",
    "trusted": false
   },
   "outputs": [
    {
     "data": {
      "text/plain": [
       "product_id  product_name                                                     \n",
       "1           Chocolate Sandwich Cookies                                           0.564286\n",
       "2           All-Seasons Salt                                                     0.000000\n",
       "3           Robust Golden Unsweetened Oolong Tea                                 0.738095\n",
       "4           Smart Ones Classic Favorites Mini Rigatoni With Vodka Cream Sauce    0.510204\n",
       "7           Pure Coconut Water With Orange                                       0.500000\n",
       "                                                                                   ...   \n",
       "49690       HIGH PERFORMANCE ENERGY DRINK                                        0.800000\n",
       "49691       ORIGINAL PANCAKE & WAFFLE MIX                                        0.430556\n",
       "49692       ORGANIC INSTANT OATMEAL LIGHT MAPLE BROWN SUGAR                      0.416667\n",
       "49693       SPRING WATER BODY WASH                                               0.440000\n",
       "49694       BURRITO- STEAK & CHEESE                                              0.333333\n",
       "Name: reordered, Length: 45573, dtype: float64"
      ]
     },
     "execution_count": 121,
     "metadata": {},
     "output_type": "execute_result"
    }
   ],
   "source": [
    "df_merge = df_order_products.merge(df_products)\n",
    "reorder_rate = df_merge.groupby(['product_id', 'product_name'])['reordered'].mean()\n",
    "reorder_rate"
   ]
  },
  {
   "cell_type": "markdown",
   "id": "I10dEIAyldcO",
   "metadata": {
    "id": "I10dEIAyldcO"
   },
   "source": [
    "Escreva suas conclusões aqui\n",
    "\n",
    "1.Produtos com alta taxa de reordenação (próximos de 1) indicam itens que os clientes costumam comprar repetidamente;\n",
    "2Produtos com baixa taxa de reordenação (próximos de 0) são itens comprados menos vezes, esse valor pode incluir por exemplo produtos teste."
   ]
  },
  {
   "cell_type": "markdown",
   "id": "subject-boxing",
   "metadata": {
    "id": "subject-boxing"
   },
   "source": [
    "### [C4] Para cada cliente, qual proporção de todos os seus pedidos são repetidos?"
   ]
  },
  {
   "cell_type": "code",
   "execution_count": 122,
   "id": "medical-couple",
   "metadata": {
    "id": "medical-couple",
    "scrolled": true,
    "trusted": false
   },
   "outputs": [
    {
     "name": "stdout",
     "output_type": "stream",
     "text": [
      "        user_id  proporcao_repetidos\n",
      "0             2                  NaN\n",
      "1             4                  6.0\n",
      "2             5                  NaN\n",
      "3             6                  NaN\n",
      "4             7                  NaN\n",
      "...         ...                  ...\n",
      "535073  3421013                  NaN\n",
      "535074  3421018                  NaN\n",
      "535075  3421034                  NaN\n",
      "535076  3421053                  NaN\n",
      "535077  3421071                  NaN\n",
      "\n",
      "[535078 rows x 2 columns]\n"
     ]
    }
   ],
   "source": [
    "# Contar o número total de pedidos para cada cliente\n",
    "total_pedidos_por_cliente = df_instacart['user_id'].value_counts()\n",
    "\n",
    "# Contar o número de pedidos repetidos para cada cliente\n",
    "pedidos_repetidos_por_cliente = df_order_products[df_order_products['reordered'] == 1]['order_id'].value_counts()\n",
    "\n",
    "# Calcular a proporção de pedidos repetidos para cada cliente\n",
    "proporcao_pedidos_repetidos_cliente = pedidos_repetidos_por_cliente / total_pedidos_por_cliente\n",
    "\n",
    "# Criar uma tabela com as colunas de ID do cliente e a proporção de pedidos repetidos\n",
    "tabela_proporcao_repetidos_cliente = pd.DataFrame({\n",
    "        'user_id': proporcao_pedidos_repetidos_cliente.index,\n",
    "        'proporcao_repetidos': proporcao_pedidos_repetidos_cliente.values\n",
    "    })\n",
    "\n",
    "# Exibir a tabela\n",
    "print(tabela_proporcao_repetidos_cliente)"
   ]
  },
  {
   "cell_type": "markdown",
   "id": "92d35137",
   "metadata": {
    "id": "92d35137"
   },
   "source": [
    "### [C5] Quais são os 20 principais itens que as pessoas colocam nos carrinhos antes de todos os outros?"
   ]
  },
  {
   "cell_type": "code",
   "execution_count": 123,
   "id": "0ae57274",
   "metadata": {
    "id": "0ae57274",
    "scrolled": true,
    "trusted": false
   },
   "outputs": [
    {
     "name": "stdout",
     "output_type": "stream",
     "text": [
      "Os 20 principais itens colocados nos carrinhos antes de todos os outros:\n",
      "    product_id                 product_name  count\n",
      "0        24852                       Banana  15562\n",
      "1        13176       Bag of Organic Bananas  11026\n",
      "2        27845           Organic Whole Milk   4363\n",
      "3        21137         Organic Strawberries   3946\n",
      "4        47209         Organic Hass Avocado   3390\n",
      "5        21903         Organic Baby Spinach   3336\n",
      "6        47766              Organic Avocado   3044\n",
      "7        19660                 Spring Water   2336\n",
      "8        16797                 Strawberries   2308\n",
      "9        27966          Organic Raspberries   2024\n",
      "10       44632   Sparkling Water Grapefruit   1914\n",
      "11       49235          Organic Half & Half   1797\n",
      "12       47626                  Large Lemon   1737\n",
      "13         196                         Soda   1733\n",
      "14       38689     Organic Reduced Fat Milk   1397\n",
      "15       26209                        Limes   1370\n",
      "16       12341                Hass Avocados   1340\n",
      "17        5785  Organic Reduced Fat 2% Milk   1310\n",
      "18       27086                  Half & Half   1309\n",
      "19       22935         Organic Yellow Onion   1246\n"
     ]
    }
   ],
   "source": [
    "# Ordena os dados de pedidos por 'order_id' e 'add_to_cart_order' e seleciona o primeiro item de cada pedido\n",
    "first_items = df_order_products.sort_values(by=['order_id', 'add_to_cart_order']).groupby('order_id').first().reset_index()\n",
    "\n",
    "# Conta a frequência dos produtos que aparecem primeiro nos pedidos, pegando os 20 mais frequentes\n",
    "first_item_counts = first_items['product_id'].value_counts().head(20).reset_index()\n",
    "first_item_counts.columns = ['product_id', 'count']  # Renomeia as colunas para 'product_id' e 'count'\n",
    "\n",
    "# Faz o merge com o dataframe de produtos para obter os nomes dos produtos\n",
    "top_first_items = first_item_counts.merge(df_products, on='product_id')\n",
    "\n",
    "# Exibe os 20 principais itens colocados nos carrinhos antes de todos os outros\n",
    "print(\"Os 20 principais itens colocados nos carrinhos antes de todos os outros:\")\n",
    "print(top_first_items[['product_id', 'product_name', 'count']])"
   ]
  },
  {
   "cell_type": "code",
   "execution_count": null,
   "id": "Nk-4GS7mDwqY",
   "metadata": {
    "id": "Nk-4GS7mDwqY",
    "trusted": false
   },
   "outputs": [],
   "source": []
  }
 ],
 "metadata": {
  "ExecuteTimeLog": [
   {
    "duration": 278,
    "start_time": "2025-03-21T14:17:58.855Z"
   },
   {
    "duration": 5,
    "start_time": "2025-03-21T14:19:22.497Z"
   },
   {
    "duration": 2246,
    "start_time": "2025-03-21T14:25:08.424Z"
   },
   {
    "duration": 2,
    "start_time": "2025-03-21T14:25:11.074Z"
   },
   {
    "duration": 2184,
    "start_time": "2025-03-21T14:25:12.715Z"
   },
   {
    "duration": 20,
    "start_time": "2025-03-21T14:26:42.215Z"
   },
   {
    "duration": 9,
    "start_time": "2025-03-21T14:27:06.143Z"
   },
   {
    "duration": 8,
    "start_time": "2025-03-21T14:27:09.398Z"
   },
   {
    "duration": 7,
    "start_time": "2025-03-21T14:27:11.977Z"
   },
   {
    "duration": 7,
    "start_time": "2025-03-21T14:27:14.480Z"
   },
   {
    "duration": 121,
    "start_time": "2025-03-21T18:51:11.671Z"
   },
   {
    "duration": 558,
    "start_time": "2025-03-21T19:03:40.968Z"
   },
   {
    "duration": 116,
    "start_time": "2025-03-21T19:04:27.395Z"
   },
   {
    "duration": 31,
    "start_time": "2025-03-21T19:04:45.482Z"
   },
   {
    "duration": 30,
    "start_time": "2025-03-21T19:04:58.677Z"
   },
   {
    "duration": 32,
    "start_time": "2025-03-21T19:06:01.197Z"
   },
   {
    "duration": 2165,
    "start_time": "2025-03-21T19:08:23.226Z"
   },
   {
    "duration": 21,
    "start_time": "2025-03-21T19:08:25.394Z"
   },
   {
    "duration": 17,
    "start_time": "2025-03-21T19:08:25.416Z"
   },
   {
    "duration": 300,
    "start_time": "2025-03-21T19:08:33.769Z"
   },
   {
    "duration": 2126,
    "start_time": "2025-03-21T19:08:34.073Z"
   },
   {
    "duration": 22,
    "start_time": "2025-03-21T19:08:36.201Z"
   },
   {
    "duration": 9,
    "start_time": "2025-03-21T19:08:36.225Z"
   },
   {
    "duration": 7,
    "start_time": "2025-03-21T19:08:36.238Z"
   },
   {
    "duration": 28,
    "start_time": "2025-03-21T19:08:36.247Z"
   },
   {
    "duration": 135,
    "start_time": "2025-03-21T19:08:36.276Z"
   },
   {
    "duration": 496,
    "start_time": "2025-03-21T19:08:36.413Z"
   },
   {
    "duration": 0,
    "start_time": "2025-03-21T19:08:36.912Z"
   },
   {
    "duration": 0,
    "start_time": "2025-03-21T19:08:36.914Z"
   },
   {
    "duration": 0,
    "start_time": "2025-03-21T19:08:36.916Z"
   },
   {
    "duration": 0,
    "start_time": "2025-03-21T19:08:36.917Z"
   },
   {
    "duration": 0,
    "start_time": "2025-03-21T19:08:36.918Z"
   },
   {
    "duration": 0,
    "start_time": "2025-03-21T19:08:36.919Z"
   },
   {
    "duration": 0,
    "start_time": "2025-03-21T19:08:36.920Z"
   },
   {
    "duration": 0,
    "start_time": "2025-03-21T19:08:36.921Z"
   },
   {
    "duration": 0,
    "start_time": "2025-03-21T19:08:36.922Z"
   },
   {
    "duration": 0,
    "start_time": "2025-03-21T19:08:36.923Z"
   },
   {
    "duration": 0,
    "start_time": "2025-03-21T19:08:36.924Z"
   },
   {
    "duration": 0,
    "start_time": "2025-03-21T19:08:36.925Z"
   },
   {
    "duration": 0,
    "start_time": "2025-03-21T19:08:36.927Z"
   },
   {
    "duration": 0,
    "start_time": "2025-03-21T19:08:36.928Z"
   },
   {
    "duration": 0,
    "start_time": "2025-03-21T19:08:36.929Z"
   },
   {
    "duration": 0,
    "start_time": "2025-03-21T19:08:36.930Z"
   },
   {
    "duration": 0,
    "start_time": "2025-03-21T19:08:36.932Z"
   },
   {
    "duration": 0,
    "start_time": "2025-03-21T19:08:36.933Z"
   },
   {
    "duration": 0,
    "start_time": "2025-03-21T19:08:36.972Z"
   },
   {
    "duration": 0,
    "start_time": "2025-03-21T19:08:36.973Z"
   },
   {
    "duration": 0,
    "start_time": "2025-03-21T19:08:36.974Z"
   },
   {
    "duration": 0,
    "start_time": "2025-03-21T19:08:36.978Z"
   },
   {
    "duration": 0,
    "start_time": "2025-03-21T19:08:36.979Z"
   },
   {
    "duration": 0,
    "start_time": "2025-03-21T19:08:36.980Z"
   },
   {
    "duration": 0,
    "start_time": "2025-03-21T19:08:36.981Z"
   },
   {
    "duration": 0,
    "start_time": "2025-03-21T19:08:36.982Z"
   },
   {
    "duration": 0,
    "start_time": "2025-03-21T19:08:36.983Z"
   },
   {
    "duration": 30,
    "start_time": "2025-03-21T19:10:03.874Z"
   },
   {
    "duration": 198,
    "start_time": "2025-03-21T19:10:09.524Z"
   },
   {
    "duration": 41,
    "start_time": "2025-03-21T19:22:32.991Z"
   },
   {
    "duration": 37,
    "start_time": "2025-03-21T19:22:59.826Z"
   },
   {
    "duration": 5,
    "start_time": "2025-03-21T19:23:41.155Z"
   },
   {
    "duration": 5,
    "start_time": "2025-03-21T19:23:59.379Z"
   },
   {
    "duration": 13,
    "start_time": "2025-03-21T19:26:02.690Z"
   },
   {
    "duration": 14,
    "start_time": "2025-03-21T19:26:45.308Z"
   },
   {
    "duration": 44,
    "start_time": "2025-03-21T19:26:53.812Z"
   },
   {
    "duration": 46,
    "start_time": "2025-03-21T19:27:38.608Z"
   },
   {
    "duration": 88,
    "start_time": "2025-03-21T19:28:10.385Z"
   },
   {
    "duration": 5,
    "start_time": "2025-03-21T19:28:45.210Z"
   },
   {
    "duration": 4,
    "start_time": "2025-03-21T19:29:27.919Z"
   },
   {
    "duration": 36,
    "start_time": "2025-03-21T19:29:59.023Z"
   },
   {
    "duration": 4,
    "start_time": "2025-03-21T19:30:08.379Z"
   },
   {
    "duration": 269,
    "start_time": "2025-03-21T19:31:18.747Z"
   },
   {
    "duration": 2158,
    "start_time": "2025-03-21T19:31:19.020Z"
   },
   {
    "duration": 20,
    "start_time": "2025-03-21T19:31:21.180Z"
   },
   {
    "duration": 9,
    "start_time": "2025-03-21T19:31:21.202Z"
   },
   {
    "duration": 9,
    "start_time": "2025-03-21T19:31:21.214Z"
   },
   {
    "duration": 6,
    "start_time": "2025-03-21T19:31:21.225Z"
   },
   {
    "duration": 159,
    "start_time": "2025-03-21T19:31:21.233Z"
   },
   {
    "duration": 4,
    "start_time": "2025-03-21T19:31:21.394Z"
   },
   {
    "duration": 2,
    "start_time": "2025-03-21T19:31:21.401Z"
   },
   {
    "duration": 4,
    "start_time": "2025-03-21T19:31:21.404Z"
   },
   {
    "duration": 3,
    "start_time": "2025-03-21T19:31:21.410Z"
   },
   {
    "duration": 3,
    "start_time": "2025-03-21T19:31:21.414Z"
   },
   {
    "duration": 3,
    "start_time": "2025-03-21T19:31:21.419Z"
   },
   {
    "duration": 2,
    "start_time": "2025-03-21T19:31:21.425Z"
   },
   {
    "duration": 4,
    "start_time": "2025-03-21T19:31:21.428Z"
   },
   {
    "duration": 38,
    "start_time": "2025-03-21T19:31:21.433Z"
   },
   {
    "duration": 3,
    "start_time": "2025-03-21T19:31:21.472Z"
   },
   {
    "duration": 3,
    "start_time": "2025-03-21T19:31:21.477Z"
   },
   {
    "duration": 4,
    "start_time": "2025-03-21T19:31:21.481Z"
   },
   {
    "duration": 3,
    "start_time": "2025-03-21T19:31:21.486Z"
   },
   {
    "duration": 4,
    "start_time": "2025-03-21T19:31:21.491Z"
   },
   {
    "duration": 3,
    "start_time": "2025-03-21T19:31:21.497Z"
   },
   {
    "duration": 3,
    "start_time": "2025-03-21T19:31:21.501Z"
   },
   {
    "duration": 3,
    "start_time": "2025-03-21T19:31:21.506Z"
   },
   {
    "duration": 3,
    "start_time": "2025-03-21T19:31:21.510Z"
   },
   {
    "duration": 3,
    "start_time": "2025-03-21T19:31:21.515Z"
   },
   {
    "duration": 4,
    "start_time": "2025-03-21T19:31:21.519Z"
   },
   {
    "duration": 3,
    "start_time": "2025-03-21T19:31:21.524Z"
   },
   {
    "duration": 42,
    "start_time": "2025-03-21T19:31:21.529Z"
   },
   {
    "duration": 2,
    "start_time": "2025-03-21T19:31:21.573Z"
   },
   {
    "duration": 2,
    "start_time": "2025-03-21T19:31:21.577Z"
   },
   {
    "duration": 5,
    "start_time": "2025-03-21T19:31:21.581Z"
   },
   {
    "duration": 4,
    "start_time": "2025-03-21T19:31:21.588Z"
   },
   {
    "duration": 4,
    "start_time": "2025-03-21T19:31:21.594Z"
   },
   {
    "duration": 4,
    "start_time": "2025-03-21T19:31:21.599Z"
   },
   {
    "duration": 5,
    "start_time": "2025-03-21T19:31:59.891Z"
   },
   {
    "duration": 323,
    "start_time": "2025-03-21T19:50:59.282Z"
   },
   {
    "duration": 2145,
    "start_time": "2025-03-21T19:50:59.607Z"
   },
   {
    "duration": 178,
    "start_time": "2025-03-21T19:51:01.753Z"
   },
   {
    "duration": 0,
    "start_time": "2025-03-21T19:51:01.934Z"
   },
   {
    "duration": 0,
    "start_time": "2025-03-21T19:51:01.936Z"
   },
   {
    "duration": 0,
    "start_time": "2025-03-21T19:51:01.937Z"
   },
   {
    "duration": 0,
    "start_time": "2025-03-21T19:51:01.939Z"
   },
   {
    "duration": 0,
    "start_time": "2025-03-21T19:51:01.940Z"
   },
   {
    "duration": 0,
    "start_time": "2025-03-21T19:51:01.942Z"
   },
   {
    "duration": 0,
    "start_time": "2025-03-21T19:51:01.943Z"
   },
   {
    "duration": 0,
    "start_time": "2025-03-21T19:51:01.944Z"
   },
   {
    "duration": 0,
    "start_time": "2025-03-21T19:51:01.946Z"
   },
   {
    "duration": 0,
    "start_time": "2025-03-21T19:51:01.947Z"
   },
   {
    "duration": 0,
    "start_time": "2025-03-21T19:51:01.970Z"
   },
   {
    "duration": 0,
    "start_time": "2025-03-21T19:51:01.971Z"
   },
   {
    "duration": 0,
    "start_time": "2025-03-21T19:51:01.973Z"
   },
   {
    "duration": 0,
    "start_time": "2025-03-21T19:51:01.974Z"
   },
   {
    "duration": 0,
    "start_time": "2025-03-21T19:51:01.976Z"
   },
   {
    "duration": 0,
    "start_time": "2025-03-21T19:51:01.977Z"
   },
   {
    "duration": 0,
    "start_time": "2025-03-21T19:51:01.979Z"
   },
   {
    "duration": 0,
    "start_time": "2025-03-21T19:51:01.980Z"
   },
   {
    "duration": 0,
    "start_time": "2025-03-21T19:51:01.982Z"
   },
   {
    "duration": 0,
    "start_time": "2025-03-21T19:51:01.983Z"
   },
   {
    "duration": 0,
    "start_time": "2025-03-21T19:51:01.984Z"
   },
   {
    "duration": 0,
    "start_time": "2025-03-21T19:51:01.985Z"
   },
   {
    "duration": 0,
    "start_time": "2025-03-21T19:51:01.986Z"
   },
   {
    "duration": 0,
    "start_time": "2025-03-21T19:51:01.987Z"
   },
   {
    "duration": 0,
    "start_time": "2025-03-21T19:51:01.988Z"
   },
   {
    "duration": 0,
    "start_time": "2025-03-21T19:51:01.989Z"
   },
   {
    "duration": 0,
    "start_time": "2025-03-21T19:51:01.991Z"
   },
   {
    "duration": 0,
    "start_time": "2025-03-21T19:51:01.992Z"
   },
   {
    "duration": 0,
    "start_time": "2025-03-21T19:51:01.994Z"
   },
   {
    "duration": 0,
    "start_time": "2025-03-21T19:51:01.995Z"
   },
   {
    "duration": 0,
    "start_time": "2025-03-21T19:51:01.996Z"
   },
   {
    "duration": 0,
    "start_time": "2025-03-21T19:51:01.998Z"
   },
   {
    "duration": 11,
    "start_time": "2025-03-21T19:51:15.295Z"
   },
   {
    "duration": 8,
    "start_time": "2025-03-21T19:51:20.104Z"
   },
   {
    "duration": 8,
    "start_time": "2025-03-21T19:51:23.257Z"
   },
   {
    "duration": 127,
    "start_time": "2025-03-21T19:51:25.667Z"
   },
   {
    "duration": 5,
    "start_time": "2025-03-21T19:51:31.794Z"
   },
   {
    "duration": 381,
    "start_time": "2025-03-21T19:56:14.020Z"
   },
   {
    "duration": 40,
    "start_time": "2025-03-21T19:56:30.403Z"
   },
   {
    "duration": 117,
    "start_time": "2025-03-21T19:57:57.444Z"
   },
   {
    "duration": 30,
    "start_time": "2025-03-21T19:58:32.875Z"
   },
   {
    "duration": 3,
    "start_time": "2025-03-21T19:59:06.876Z"
   },
   {
    "duration": 277,
    "start_time": "2025-03-21T20:00:27.761Z"
   },
   {
    "duration": 3,
    "start_time": "2025-03-21T20:00:28.040Z"
   },
   {
    "duration": 0,
    "start_time": "2025-03-21T20:00:28.046Z"
   },
   {
    "duration": 0,
    "start_time": "2025-03-21T20:00:28.047Z"
   },
   {
    "duration": 0,
    "start_time": "2025-03-21T20:00:28.048Z"
   },
   {
    "duration": 0,
    "start_time": "2025-03-21T20:00:28.050Z"
   },
   {
    "duration": 0,
    "start_time": "2025-03-21T20:00:28.051Z"
   },
   {
    "duration": 0,
    "start_time": "2025-03-21T20:00:28.052Z"
   },
   {
    "duration": 0,
    "start_time": "2025-03-21T20:00:28.071Z"
   },
   {
    "duration": 0,
    "start_time": "2025-03-21T20:00:28.072Z"
   },
   {
    "duration": 0,
    "start_time": "2025-03-21T20:00:28.074Z"
   },
   {
    "duration": 0,
    "start_time": "2025-03-21T20:00:28.075Z"
   },
   {
    "duration": 0,
    "start_time": "2025-03-21T20:00:28.076Z"
   },
   {
    "duration": 0,
    "start_time": "2025-03-21T20:00:28.078Z"
   },
   {
    "duration": 0,
    "start_time": "2025-03-21T20:00:28.079Z"
   },
   {
    "duration": 0,
    "start_time": "2025-03-21T20:00:28.080Z"
   },
   {
    "duration": 0,
    "start_time": "2025-03-21T20:00:28.081Z"
   },
   {
    "duration": 0,
    "start_time": "2025-03-21T20:00:28.083Z"
   },
   {
    "duration": 0,
    "start_time": "2025-03-21T20:00:28.085Z"
   },
   {
    "duration": 0,
    "start_time": "2025-03-21T20:00:28.086Z"
   },
   {
    "duration": 0,
    "start_time": "2025-03-21T20:00:28.088Z"
   },
   {
    "duration": 0,
    "start_time": "2025-03-21T20:00:28.089Z"
   },
   {
    "duration": 0,
    "start_time": "2025-03-21T20:00:28.091Z"
   },
   {
    "duration": 0,
    "start_time": "2025-03-21T20:00:28.093Z"
   },
   {
    "duration": 0,
    "start_time": "2025-03-21T20:00:28.094Z"
   },
   {
    "duration": 0,
    "start_time": "2025-03-21T20:00:28.095Z"
   },
   {
    "duration": 0,
    "start_time": "2025-03-21T20:00:28.097Z"
   },
   {
    "duration": 0,
    "start_time": "2025-03-21T20:00:28.098Z"
   },
   {
    "duration": 0,
    "start_time": "2025-03-21T20:00:28.099Z"
   },
   {
    "duration": 0,
    "start_time": "2025-03-21T20:00:28.100Z"
   },
   {
    "duration": 0,
    "start_time": "2025-03-21T20:00:28.102Z"
   },
   {
    "duration": 0,
    "start_time": "2025-03-21T20:00:28.103Z"
   },
   {
    "duration": 0,
    "start_time": "2025-03-21T20:00:28.105Z"
   },
   {
    "duration": 0,
    "start_time": "2025-03-21T20:00:28.106Z"
   },
   {
    "duration": 0,
    "start_time": "2025-03-21T20:00:28.107Z"
   },
   {
    "duration": 320,
    "start_time": "2025-03-21T20:00:43.288Z"
   },
   {
    "duration": 2007,
    "start_time": "2025-03-21T20:00:43.611Z"
   },
   {
    "duration": 11,
    "start_time": "2025-03-21T20:00:45.620Z"
   },
   {
    "duration": 9,
    "start_time": "2025-03-21T20:00:45.633Z"
   },
   {
    "duration": 26,
    "start_time": "2025-03-21T20:00:45.644Z"
   },
   {
    "duration": 7,
    "start_time": "2025-03-21T20:00:45.672Z"
   },
   {
    "duration": 133,
    "start_time": "2025-03-21T20:00:45.680Z"
   },
   {
    "duration": 3,
    "start_time": "2025-03-21T20:00:45.815Z"
   },
   {
    "duration": 3,
    "start_time": "2025-03-21T20:00:45.820Z"
   },
   {
    "duration": 3,
    "start_time": "2025-03-21T20:00:45.824Z"
   },
   {
    "duration": 2,
    "start_time": "2025-03-21T20:00:45.829Z"
   },
   {
    "duration": 2,
    "start_time": "2025-03-21T20:00:45.833Z"
   },
   {
    "duration": 33,
    "start_time": "2025-03-21T20:00:45.837Z"
   },
   {
    "duration": 2,
    "start_time": "2025-03-21T20:00:45.874Z"
   },
   {
    "duration": 2,
    "start_time": "2025-03-21T20:00:45.878Z"
   },
   {
    "duration": 3,
    "start_time": "2025-03-21T20:00:45.882Z"
   },
   {
    "duration": 4,
    "start_time": "2025-03-21T20:00:45.886Z"
   },
   {
    "duration": 3,
    "start_time": "2025-03-21T20:00:45.891Z"
   },
   {
    "duration": 3,
    "start_time": "2025-03-21T20:00:45.896Z"
   },
   {
    "duration": 2,
    "start_time": "2025-03-21T20:00:45.901Z"
   },
   {
    "duration": 3,
    "start_time": "2025-03-21T20:00:45.905Z"
   },
   {
    "duration": 3,
    "start_time": "2025-03-21T20:00:45.910Z"
   },
   {
    "duration": 3,
    "start_time": "2025-03-21T20:00:45.914Z"
   },
   {
    "duration": 2,
    "start_time": "2025-03-21T20:00:45.919Z"
   },
   {
    "duration": 3,
    "start_time": "2025-03-21T20:00:45.923Z"
   },
   {
    "duration": 2,
    "start_time": "2025-03-21T20:00:45.971Z"
   },
   {
    "duration": 3,
    "start_time": "2025-03-21T20:00:45.974Z"
   },
   {
    "duration": 3,
    "start_time": "2025-03-21T20:00:45.979Z"
   },
   {
    "duration": 4,
    "start_time": "2025-03-21T20:00:45.983Z"
   },
   {
    "duration": 3,
    "start_time": "2025-03-21T20:00:45.988Z"
   },
   {
    "duration": 2,
    "start_time": "2025-03-21T20:00:45.994Z"
   },
   {
    "duration": 3,
    "start_time": "2025-03-21T20:00:45.998Z"
   },
   {
    "duration": 3,
    "start_time": "2025-03-21T20:00:46.002Z"
   },
   {
    "duration": 4,
    "start_time": "2025-03-21T20:00:46.006Z"
   },
   {
    "duration": 3,
    "start_time": "2025-03-21T20:00:46.011Z"
   },
   {
    "duration": 306,
    "start_time": "2025-03-21T21:31:15.094Z"
   },
   {
    "duration": 2119,
    "start_time": "2025-03-21T21:31:15.402Z"
   },
   {
    "duration": 21,
    "start_time": "2025-03-21T21:31:17.523Z"
   },
   {
    "duration": 9,
    "start_time": "2025-03-21T21:31:17.546Z"
   },
   {
    "duration": 9,
    "start_time": "2025-03-21T21:31:17.557Z"
   },
   {
    "duration": 7,
    "start_time": "2025-03-21T21:31:17.568Z"
   },
   {
    "duration": 142,
    "start_time": "2025-03-21T21:31:17.577Z"
   },
   {
    "duration": 2,
    "start_time": "2025-03-21T21:31:17.721Z"
   },
   {
    "duration": 3,
    "start_time": "2025-03-21T21:31:17.725Z"
   },
   {
    "duration": 2,
    "start_time": "2025-03-21T21:31:17.742Z"
   },
   {
    "duration": 3,
    "start_time": "2025-03-21T21:31:17.746Z"
   },
   {
    "duration": 3,
    "start_time": "2025-03-21T21:31:17.750Z"
   },
   {
    "duration": 3,
    "start_time": "2025-03-21T21:31:17.755Z"
   },
   {
    "duration": 2,
    "start_time": "2025-03-21T21:31:17.761Z"
   },
   {
    "duration": 3,
    "start_time": "2025-03-21T21:31:17.765Z"
   },
   {
    "duration": 3,
    "start_time": "2025-03-21T21:31:17.769Z"
   },
   {
    "duration": 3,
    "start_time": "2025-03-21T21:31:17.774Z"
   },
   {
    "duration": 3,
    "start_time": "2025-03-21T21:31:17.779Z"
   },
   {
    "duration": 3,
    "start_time": "2025-03-21T21:31:17.783Z"
   },
   {
    "duration": 3,
    "start_time": "2025-03-21T21:31:17.788Z"
   },
   {
    "duration": 2,
    "start_time": "2025-03-21T21:31:17.793Z"
   },
   {
    "duration": 47,
    "start_time": "2025-03-21T21:31:17.797Z"
   },
   {
    "duration": 4,
    "start_time": "2025-03-21T21:31:17.845Z"
   },
   {
    "duration": 3,
    "start_time": "2025-03-21T21:31:17.850Z"
   },
   {
    "duration": 3,
    "start_time": "2025-03-21T21:31:17.854Z"
   },
   {
    "duration": 2,
    "start_time": "2025-03-21T21:31:17.861Z"
   },
   {
    "duration": 2,
    "start_time": "2025-03-21T21:31:17.865Z"
   },
   {
    "duration": 3,
    "start_time": "2025-03-21T21:31:17.870Z"
   },
   {
    "duration": 3,
    "start_time": "2025-03-21T21:31:17.874Z"
   },
   {
    "duration": 3,
    "start_time": "2025-03-21T21:31:17.879Z"
   },
   {
    "duration": 3,
    "start_time": "2025-03-21T21:31:17.883Z"
   },
   {
    "duration": 3,
    "start_time": "2025-03-21T21:31:17.888Z"
   },
   {
    "duration": 2,
    "start_time": "2025-03-21T21:31:17.893Z"
   },
   {
    "duration": 3,
    "start_time": "2025-03-21T21:31:17.897Z"
   },
   {
    "duration": 44,
    "start_time": "2025-03-21T21:31:17.901Z"
   },
   {
    "duration": 10,
    "start_time": "2025-03-21T21:36:34.704Z"
   },
   {
    "duration": 10,
    "start_time": "2025-03-21T23:12:12.797Z"
   },
   {
    "duration": 459,
    "start_time": "2025-03-21T23:13:38.207Z"
   },
   {
    "duration": 32,
    "start_time": "2025-03-21T23:14:17.210Z"
   },
   {
    "duration": 297,
    "start_time": "2025-03-21T23:14:56.839Z"
   },
   {
    "duration": 1981,
    "start_time": "2025-03-21T23:14:57.138Z"
   },
   {
    "duration": 12,
    "start_time": "2025-03-21T23:14:59.121Z"
   },
   {
    "duration": 9,
    "start_time": "2025-03-21T23:14:59.144Z"
   },
   {
    "duration": 7,
    "start_time": "2025-03-21T23:14:59.155Z"
   },
   {
    "duration": 7,
    "start_time": "2025-03-21T23:14:59.164Z"
   },
   {
    "duration": 151,
    "start_time": "2025-03-21T23:14:59.172Z"
   },
   {
    "duration": 474,
    "start_time": "2025-03-21T23:14:59.326Z"
   },
   {
    "duration": 0,
    "start_time": "2025-03-21T23:14:59.803Z"
   },
   {
    "duration": 0,
    "start_time": "2025-03-21T23:14:59.804Z"
   },
   {
    "duration": 0,
    "start_time": "2025-03-21T23:14:59.806Z"
   },
   {
    "duration": 0,
    "start_time": "2025-03-21T23:14:59.807Z"
   },
   {
    "duration": 0,
    "start_time": "2025-03-21T23:14:59.808Z"
   },
   {
    "duration": 0,
    "start_time": "2025-03-21T23:14:59.810Z"
   },
   {
    "duration": 0,
    "start_time": "2025-03-21T23:14:59.811Z"
   },
   {
    "duration": 0,
    "start_time": "2025-03-21T23:14:59.812Z"
   },
   {
    "duration": 0,
    "start_time": "2025-03-21T23:14:59.812Z"
   },
   {
    "duration": 0,
    "start_time": "2025-03-21T23:14:59.813Z"
   },
   {
    "duration": 0,
    "start_time": "2025-03-21T23:14:59.814Z"
   },
   {
    "duration": 0,
    "start_time": "2025-03-21T23:14:59.815Z"
   },
   {
    "duration": 0,
    "start_time": "2025-03-21T23:14:59.816Z"
   },
   {
    "duration": 0,
    "start_time": "2025-03-21T23:14:59.817Z"
   },
   {
    "duration": 0,
    "start_time": "2025-03-21T23:14:59.819Z"
   },
   {
    "duration": 0,
    "start_time": "2025-03-21T23:14:59.843Z"
   },
   {
    "duration": 0,
    "start_time": "2025-03-21T23:14:59.844Z"
   },
   {
    "duration": 0,
    "start_time": "2025-03-21T23:14:59.845Z"
   },
   {
    "duration": 0,
    "start_time": "2025-03-21T23:14:59.846Z"
   },
   {
    "duration": 0,
    "start_time": "2025-03-21T23:14:59.847Z"
   },
   {
    "duration": 0,
    "start_time": "2025-03-21T23:14:59.848Z"
   },
   {
    "duration": 0,
    "start_time": "2025-03-21T23:14:59.848Z"
   },
   {
    "duration": 0,
    "start_time": "2025-03-21T23:14:59.850Z"
   },
   {
    "duration": 0,
    "start_time": "2025-03-21T23:14:59.851Z"
   },
   {
    "duration": 0,
    "start_time": "2025-03-21T23:14:59.853Z"
   },
   {
    "duration": 0,
    "start_time": "2025-03-21T23:14:59.854Z"
   },
   {
    "duration": 0,
    "start_time": "2025-03-21T23:14:59.855Z"
   },
   {
    "duration": 279,
    "start_time": "2025-03-21T23:15:32.015Z"
   },
   {
    "duration": 2041,
    "start_time": "2025-03-21T23:15:32.296Z"
   },
   {
    "duration": 11,
    "start_time": "2025-03-21T23:15:34.339Z"
   },
   {
    "duration": 10,
    "start_time": "2025-03-21T23:15:34.352Z"
   },
   {
    "duration": 8,
    "start_time": "2025-03-21T23:15:34.364Z"
   },
   {
    "duration": 7,
    "start_time": "2025-03-21T23:15:34.374Z"
   },
   {
    "duration": 153,
    "start_time": "2025-03-21T23:15:34.382Z"
   },
   {
    "duration": 469,
    "start_time": "2025-03-21T23:15:34.537Z"
   },
   {
    "duration": 0,
    "start_time": "2025-03-21T23:15:35.009Z"
   },
   {
    "duration": 0,
    "start_time": "2025-03-21T23:15:35.011Z"
   },
   {
    "duration": 0,
    "start_time": "2025-03-21T23:15:35.012Z"
   },
   {
    "duration": 0,
    "start_time": "2025-03-21T23:15:35.013Z"
   },
   {
    "duration": 0,
    "start_time": "2025-03-21T23:15:35.014Z"
   },
   {
    "duration": 0,
    "start_time": "2025-03-21T23:15:35.016Z"
   },
   {
    "duration": 0,
    "start_time": "2025-03-21T23:15:35.017Z"
   },
   {
    "duration": 0,
    "start_time": "2025-03-21T23:15:35.018Z"
   },
   {
    "duration": 0,
    "start_time": "2025-03-21T23:15:35.019Z"
   },
   {
    "duration": 0,
    "start_time": "2025-03-21T23:15:35.020Z"
   },
   {
    "duration": 0,
    "start_time": "2025-03-21T23:15:35.021Z"
   },
   {
    "duration": 0,
    "start_time": "2025-03-21T23:15:35.022Z"
   },
   {
    "duration": 0,
    "start_time": "2025-03-21T23:15:35.043Z"
   },
   {
    "duration": 0,
    "start_time": "2025-03-21T23:15:35.044Z"
   },
   {
    "duration": 0,
    "start_time": "2025-03-21T23:15:35.045Z"
   },
   {
    "duration": 0,
    "start_time": "2025-03-21T23:15:35.046Z"
   },
   {
    "duration": 0,
    "start_time": "2025-03-21T23:15:35.047Z"
   },
   {
    "duration": 0,
    "start_time": "2025-03-21T23:15:35.049Z"
   },
   {
    "duration": 0,
    "start_time": "2025-03-21T23:15:35.050Z"
   },
   {
    "duration": 0,
    "start_time": "2025-03-21T23:15:35.051Z"
   },
   {
    "duration": 0,
    "start_time": "2025-03-21T23:15:35.052Z"
   },
   {
    "duration": 0,
    "start_time": "2025-03-21T23:15:35.053Z"
   },
   {
    "duration": 0,
    "start_time": "2025-03-21T23:15:35.055Z"
   },
   {
    "duration": 0,
    "start_time": "2025-03-21T23:15:35.060Z"
   },
   {
    "duration": 0,
    "start_time": "2025-03-21T23:15:35.061Z"
   },
   {
    "duration": 0,
    "start_time": "2025-03-21T23:15:35.063Z"
   },
   {
    "duration": 0,
    "start_time": "2025-03-21T23:15:35.064Z"
   },
   {
    "duration": 308,
    "start_time": "2025-03-21T23:16:22.140Z"
   },
   {
    "duration": 881,
    "start_time": "2025-03-21T23:16:22.451Z"
   },
   {
    "duration": 15,
    "start_time": "2025-03-21T23:16:23.334Z"
   },
   {
    "duration": 9,
    "start_time": "2025-03-21T23:16:23.351Z"
   },
   {
    "duration": 7,
    "start_time": "2025-03-21T23:16:23.362Z"
   },
   {
    "duration": 8,
    "start_time": "2025-03-21T23:16:23.371Z"
   },
   {
    "duration": 24,
    "start_time": "2025-03-21T23:16:23.380Z"
   },
   {
    "duration": 479,
    "start_time": "2025-03-21T23:16:23.406Z"
   },
   {
    "duration": 0,
    "start_time": "2025-03-21T23:16:23.887Z"
   },
   {
    "duration": 0,
    "start_time": "2025-03-21T23:16:23.888Z"
   },
   {
    "duration": 0,
    "start_time": "2025-03-21T23:16:23.889Z"
   },
   {
    "duration": 0,
    "start_time": "2025-03-21T23:16:23.890Z"
   },
   {
    "duration": 0,
    "start_time": "2025-03-21T23:16:23.891Z"
   },
   {
    "duration": 0,
    "start_time": "2025-03-21T23:16:23.892Z"
   },
   {
    "duration": 0,
    "start_time": "2025-03-21T23:16:23.894Z"
   },
   {
    "duration": 0,
    "start_time": "2025-03-21T23:16:23.896Z"
   },
   {
    "duration": 0,
    "start_time": "2025-03-21T23:16:23.896Z"
   },
   {
    "duration": 0,
    "start_time": "2025-03-21T23:16:23.898Z"
   },
   {
    "duration": 0,
    "start_time": "2025-03-21T23:16:23.899Z"
   },
   {
    "duration": 0,
    "start_time": "2025-03-21T23:16:23.900Z"
   },
   {
    "duration": 0,
    "start_time": "2025-03-21T23:16:23.901Z"
   },
   {
    "duration": 0,
    "start_time": "2025-03-21T23:16:23.902Z"
   },
   {
    "duration": 0,
    "start_time": "2025-03-21T23:16:23.903Z"
   },
   {
    "duration": 0,
    "start_time": "2025-03-21T23:16:23.904Z"
   },
   {
    "duration": 0,
    "start_time": "2025-03-21T23:16:23.905Z"
   },
   {
    "duration": 0,
    "start_time": "2025-03-21T23:16:23.906Z"
   },
   {
    "duration": 0,
    "start_time": "2025-03-21T23:16:23.907Z"
   },
   {
    "duration": 0,
    "start_time": "2025-03-21T23:16:23.908Z"
   },
   {
    "duration": 0,
    "start_time": "2025-03-21T23:16:23.943Z"
   },
   {
    "duration": 0,
    "start_time": "2025-03-21T23:16:23.945Z"
   },
   {
    "duration": 0,
    "start_time": "2025-03-21T23:16:23.945Z"
   },
   {
    "duration": 0,
    "start_time": "2025-03-21T23:16:23.946Z"
   },
   {
    "duration": 0,
    "start_time": "2025-03-21T23:16:23.948Z"
   },
   {
    "duration": 0,
    "start_time": "2025-03-21T23:16:23.949Z"
   },
   {
    "duration": 0,
    "start_time": "2025-03-21T23:16:23.951Z"
   },
   {
    "duration": 11,
    "start_time": "2025-03-21T23:19:42.598Z"
   },
   {
    "duration": 8,
    "start_time": "2025-03-21T23:19:47.985Z"
   },
   {
    "duration": 181,
    "start_time": "2025-03-21T23:21:45.299Z"
   },
   {
    "duration": 15,
    "start_time": "2025-03-21T23:22:57.119Z"
   },
   {
    "duration": 27,
    "start_time": "2025-03-21T23:25:28.959Z"
   },
   {
    "duration": 26,
    "start_time": "2025-03-21T23:25:42.055Z"
   },
   {
    "duration": 23,
    "start_time": "2025-03-21T23:27:02.411Z"
   },
   {
    "duration": 9,
    "start_time": "2025-03-21T23:32:19.251Z"
   },
   {
    "duration": 31,
    "start_time": "2025-03-21T23:32:29.304Z"
   },
   {
    "duration": 29,
    "start_time": "2025-03-21T23:36:28.817Z"
   },
   {
    "duration": 780,
    "start_time": "2025-03-21T23:37:59.827Z"
   },
   {
    "duration": 866,
    "start_time": "2025-03-21T23:38:46.939Z"
   },
   {
    "duration": 1612,
    "start_time": "2025-03-21T23:39:15.325Z"
   },
   {
    "duration": 1674,
    "start_time": "2025-03-21T23:39:53.627Z"
   },
   {
    "duration": 49,
    "start_time": "2025-03-21T23:40:37.498Z"
   },
   {
    "duration": 26,
    "start_time": "2025-03-21T23:42:16.395Z"
   },
   {
    "duration": 17,
    "start_time": "2025-03-21T23:42:41.875Z"
   },
   {
    "duration": 320,
    "start_time": "2025-03-21T23:42:56.863Z"
   },
   {
    "duration": 885,
    "start_time": "2025-03-21T23:42:57.185Z"
   },
   {
    "duration": 12,
    "start_time": "2025-03-21T23:42:58.071Z"
   },
   {
    "duration": 10,
    "start_time": "2025-03-21T23:42:58.085Z"
   },
   {
    "duration": 7,
    "start_time": "2025-03-21T23:42:58.097Z"
   },
   {
    "duration": 8,
    "start_time": "2025-03-21T23:42:58.106Z"
   },
   {
    "duration": 47,
    "start_time": "2025-03-21T23:42:58.115Z"
   },
   {
    "duration": 24,
    "start_time": "2025-03-21T23:42:58.164Z"
   },
   {
    "duration": 29,
    "start_time": "2025-03-21T23:42:58.190Z"
   },
   {
    "duration": 1690,
    "start_time": "2025-03-21T23:42:58.246Z"
   },
   {
    "duration": 14,
    "start_time": "2025-03-21T23:42:59.942Z"
   },
   {
    "duration": 4,
    "start_time": "2025-03-21T23:42:59.957Z"
   },
   {
    "duration": 2,
    "start_time": "2025-03-21T23:42:59.963Z"
   },
   {
    "duration": 3,
    "start_time": "2025-03-21T23:42:59.967Z"
   },
   {
    "duration": 2,
    "start_time": "2025-03-21T23:42:59.973Z"
   },
   {
    "duration": 3,
    "start_time": "2025-03-21T23:42:59.977Z"
   },
   {
    "duration": 2,
    "start_time": "2025-03-21T23:42:59.982Z"
   },
   {
    "duration": 4,
    "start_time": "2025-03-21T23:42:59.985Z"
   },
   {
    "duration": 2,
    "start_time": "2025-03-21T23:42:59.991Z"
   },
   {
    "duration": 3,
    "start_time": "2025-03-21T23:42:59.995Z"
   },
   {
    "duration": 2,
    "start_time": "2025-03-21T23:43:00.000Z"
   },
   {
    "duration": 39,
    "start_time": "2025-03-21T23:43:00.004Z"
   },
   {
    "duration": 3,
    "start_time": "2025-03-21T23:43:00.044Z"
   },
   {
    "duration": 2,
    "start_time": "2025-03-21T23:43:00.049Z"
   },
   {
    "duration": 3,
    "start_time": "2025-03-21T23:43:00.052Z"
   },
   {
    "duration": 3,
    "start_time": "2025-03-21T23:43:00.057Z"
   },
   {
    "duration": 2,
    "start_time": "2025-03-21T23:43:00.063Z"
   },
   {
    "duration": 2,
    "start_time": "2025-03-21T23:43:00.068Z"
   },
   {
    "duration": 3,
    "start_time": "2025-03-21T23:43:00.072Z"
   },
   {
    "duration": 3,
    "start_time": "2025-03-21T23:43:00.076Z"
   },
   {
    "duration": 3,
    "start_time": "2025-03-21T23:43:00.081Z"
   },
   {
    "duration": 3,
    "start_time": "2025-03-21T23:43:00.085Z"
   },
   {
    "duration": 3,
    "start_time": "2025-03-21T23:43:00.090Z"
   },
   {
    "duration": 3,
    "start_time": "2025-03-21T23:43:00.094Z"
   },
   {
    "duration": 45,
    "start_time": "2025-03-21T23:43:00.098Z"
   },
   {
    "duration": 3,
    "start_time": "2025-03-21T23:43:00.145Z"
   },
   {
    "duration": 3,
    "start_time": "2025-03-21T23:43:00.150Z"
   },
   {
    "duration": 4,
    "start_time": "2025-03-21T23:43:00.154Z"
   },
   {
    "duration": 4,
    "start_time": "2025-03-21T23:45:51.767Z"
   },
   {
    "duration": 18,
    "start_time": "2025-03-21T23:46:07.699Z"
   },
   {
    "duration": 11,
    "start_time": "2025-03-21T23:46:31.356Z"
   },
   {
    "duration": 19,
    "start_time": "2025-03-21T23:47:09.733Z"
   },
   {
    "duration": 4,
    "start_time": "2025-03-21T23:49:58.086Z"
   },
   {
    "duration": 573,
    "start_time": "2025-03-21T23:51:22.830Z"
   },
   {
    "duration": 318,
    "start_time": "2025-03-21T23:54:33.377Z"
   },
   {
    "duration": 899,
    "start_time": "2025-03-21T23:54:33.699Z"
   },
   {
    "duration": 12,
    "start_time": "2025-03-21T23:54:34.600Z"
   },
   {
    "duration": 10,
    "start_time": "2025-03-21T23:54:34.614Z"
   },
   {
    "duration": 23,
    "start_time": "2025-03-21T23:54:34.626Z"
   },
   {
    "duration": 7,
    "start_time": "2025-03-21T23:54:34.652Z"
   },
   {
    "duration": 23,
    "start_time": "2025-03-21T23:54:34.661Z"
   },
   {
    "duration": 25,
    "start_time": "2025-03-21T23:54:34.687Z"
   },
   {
    "duration": 53,
    "start_time": "2025-03-21T23:54:34.714Z"
   },
   {
    "duration": 86,
    "start_time": "2025-03-21T23:54:34.769Z"
   },
   {
    "duration": 624,
    "start_time": "2025-03-21T23:54:34.858Z"
   },
   {
    "duration": 0,
    "start_time": "2025-03-21T23:54:35.485Z"
   },
   {
    "duration": 0,
    "start_time": "2025-03-21T23:54:35.488Z"
   },
   {
    "duration": 0,
    "start_time": "2025-03-21T23:54:35.489Z"
   },
   {
    "duration": 0,
    "start_time": "2025-03-21T23:54:35.490Z"
   },
   {
    "duration": 0,
    "start_time": "2025-03-21T23:54:35.492Z"
   },
   {
    "duration": 0,
    "start_time": "2025-03-21T23:54:35.494Z"
   },
   {
    "duration": 0,
    "start_time": "2025-03-21T23:54:35.495Z"
   },
   {
    "duration": 0,
    "start_time": "2025-03-21T23:54:35.496Z"
   },
   {
    "duration": 0,
    "start_time": "2025-03-21T23:54:35.497Z"
   },
   {
    "duration": 0,
    "start_time": "2025-03-21T23:54:35.499Z"
   },
   {
    "duration": 0,
    "start_time": "2025-03-21T23:54:35.500Z"
   },
   {
    "duration": 0,
    "start_time": "2025-03-21T23:54:35.501Z"
   },
   {
    "duration": 0,
    "start_time": "2025-03-21T23:54:35.502Z"
   },
   {
    "duration": 0,
    "start_time": "2025-03-21T23:54:35.503Z"
   },
   {
    "duration": 0,
    "start_time": "2025-03-21T23:54:35.504Z"
   },
   {
    "duration": 0,
    "start_time": "2025-03-21T23:54:35.506Z"
   },
   {
    "duration": 1,
    "start_time": "2025-03-21T23:54:35.506Z"
   },
   {
    "duration": 0,
    "start_time": "2025-03-21T23:54:35.508Z"
   },
   {
    "duration": 0,
    "start_time": "2025-03-21T23:54:35.509Z"
   },
   {
    "duration": 0,
    "start_time": "2025-03-21T23:54:35.510Z"
   },
   {
    "duration": 0,
    "start_time": "2025-03-21T23:54:35.550Z"
   },
   {
    "duration": 0,
    "start_time": "2025-03-21T23:54:35.552Z"
   },
   {
    "duration": 0,
    "start_time": "2025-03-21T23:54:35.554Z"
   },
   {
    "duration": 0,
    "start_time": "2025-03-21T23:54:35.555Z"
   },
   {
    "duration": 0,
    "start_time": "2025-03-21T23:54:35.556Z"
   },
   {
    "duration": 2,
    "start_time": "2025-03-21T23:58:17.612Z"
   },
   {
    "duration": 79,
    "start_time": "2025-03-21T23:58:35.393Z"
   },
   {
    "duration": 10,
    "start_time": "2025-03-21T23:58:38.987Z"
   },
   {
    "duration": 4,
    "start_time": "2025-03-21T23:58:40.400Z"
   },
   {
    "duration": 278,
    "start_time": "2025-03-21T23:58:46.607Z"
   },
   {
    "duration": 873,
    "start_time": "2025-03-21T23:58:46.887Z"
   },
   {
    "duration": 12,
    "start_time": "2025-03-21T23:58:47.761Z"
   },
   {
    "duration": 9,
    "start_time": "2025-03-21T23:58:47.775Z"
   },
   {
    "duration": 7,
    "start_time": "2025-03-21T23:58:47.785Z"
   },
   {
    "duration": 8,
    "start_time": "2025-03-21T23:58:47.794Z"
   },
   {
    "duration": 53,
    "start_time": "2025-03-21T23:58:47.803Z"
   },
   {
    "duration": 24,
    "start_time": "2025-03-21T23:58:47.857Z"
   },
   {
    "duration": 27,
    "start_time": "2025-03-21T23:58:47.882Z"
   },
   {
    "duration": 99,
    "start_time": "2025-03-21T23:58:47.913Z"
   },
   {
    "duration": 2,
    "start_time": "2025-03-21T23:58:48.014Z"
   },
   {
    "duration": 11,
    "start_time": "2025-03-21T23:58:48.018Z"
   },
   {
    "duration": 13,
    "start_time": "2025-03-21T23:58:48.031Z"
   },
   {
    "duration": 743,
    "start_time": "2025-03-21T23:58:48.046Z"
   },
   {
    "duration": 12,
    "start_time": "2025-03-21T23:58:48.791Z"
   },
   {
    "duration": 2,
    "start_time": "2025-03-21T23:58:48.804Z"
   },
   {
    "duration": 2,
    "start_time": "2025-03-21T23:58:48.808Z"
   },
   {
    "duration": 2,
    "start_time": "2025-03-21T23:58:48.812Z"
   },
   {
    "duration": 25,
    "start_time": "2025-03-21T23:58:48.817Z"
   },
   {
    "duration": 2,
    "start_time": "2025-03-21T23:58:48.844Z"
   },
   {
    "duration": 3,
    "start_time": "2025-03-21T23:58:48.848Z"
   },
   {
    "duration": 4,
    "start_time": "2025-03-21T23:58:48.853Z"
   },
   {
    "duration": 777,
    "start_time": "2025-03-21T23:58:48.858Z"
   },
   {
    "duration": 6,
    "start_time": "2025-03-21T23:58:49.637Z"
   },
   {
    "duration": 3,
    "start_time": "2025-03-21T23:58:49.645Z"
   },
   {
    "duration": 2,
    "start_time": "2025-03-21T23:58:49.650Z"
   },
   {
    "duration": 3,
    "start_time": "2025-03-21T23:58:49.654Z"
   },
   {
    "duration": 2,
    "start_time": "2025-03-21T23:58:49.662Z"
   },
   {
    "duration": 3,
    "start_time": "2025-03-21T23:58:49.666Z"
   },
   {
    "duration": 3,
    "start_time": "2025-03-21T23:58:49.671Z"
   },
   {
    "duration": 3,
    "start_time": "2025-03-21T23:58:49.675Z"
   },
   {
    "duration": 2,
    "start_time": "2025-03-21T23:58:49.680Z"
   },
   {
    "duration": 3,
    "start_time": "2025-03-21T23:58:49.684Z"
   },
   {
    "duration": 3,
    "start_time": "2025-03-21T23:58:49.689Z"
   },
   {
    "duration": 4,
    "start_time": "2025-03-21T23:58:49.693Z"
   },
   {
    "duration": 44,
    "start_time": "2025-03-21T23:58:49.699Z"
   },
   {
    "duration": 11,
    "start_time": "2025-03-22T00:01:51.714Z"
   },
   {
    "duration": 19,
    "start_time": "2025-03-22T00:02:10.368Z"
   },
   {
    "duration": 7,
    "start_time": "2025-03-22T00:02:48.569Z"
   },
   {
    "duration": 478,
    "start_time": "2025-03-22T00:03:10.703Z"
   },
   {
    "duration": 34,
    "start_time": "2025-03-22T00:04:22.717Z"
   },
   {
    "duration": 33,
    "start_time": "2025-03-22T00:05:07.826Z"
   },
   {
    "duration": 5,
    "start_time": "2025-03-22T00:06:38.065Z"
   },
   {
    "duration": 4,
    "start_time": "2025-03-22T00:06:55.053Z"
   },
   {
    "duration": 3,
    "start_time": "2025-03-22T00:07:07.497Z"
   },
   {
    "duration": 3,
    "start_time": "2025-03-22T00:08:28.392Z"
   },
   {
    "duration": 311,
    "start_time": "2025-03-22T00:10:54.150Z"
   },
   {
    "duration": 880,
    "start_time": "2025-03-22T00:10:54.463Z"
   },
   {
    "duration": 12,
    "start_time": "2025-03-22T00:10:55.345Z"
   },
   {
    "duration": 12,
    "start_time": "2025-03-22T00:10:55.359Z"
   },
   {
    "duration": 9,
    "start_time": "2025-03-22T00:10:55.374Z"
   },
   {
    "duration": 9,
    "start_time": "2025-03-22T00:10:55.385Z"
   },
   {
    "duration": 57,
    "start_time": "2025-03-22T00:10:55.395Z"
   },
   {
    "duration": 90,
    "start_time": "2025-03-22T00:10:55.453Z"
   },
   {
    "duration": 2,
    "start_time": "2025-03-22T00:10:55.545Z"
   },
   {
    "duration": 12,
    "start_time": "2025-03-22T00:10:55.551Z"
   },
   {
    "duration": 4,
    "start_time": "2025-03-22T00:10:55.564Z"
   },
   {
    "duration": 764,
    "start_time": "2025-03-22T00:10:55.570Z"
   },
   {
    "duration": 23,
    "start_time": "2025-03-22T00:10:56.336Z"
   },
   {
    "duration": 4,
    "start_time": "2025-03-22T00:10:56.361Z"
   },
   {
    "duration": 33,
    "start_time": "2025-03-22T00:10:56.367Z"
   },
   {
    "duration": 49,
    "start_time": "2025-03-22T00:10:56.402Z"
   },
   {
    "duration": 6,
    "start_time": "2025-03-22T00:10:56.453Z"
   },
   {
    "duration": 3,
    "start_time": "2025-03-22T00:10:56.461Z"
   },
   {
    "duration": 4,
    "start_time": "2025-03-22T00:10:56.466Z"
   },
   {
    "duration": 3,
    "start_time": "2025-03-22T00:10:56.471Z"
   },
   {
    "duration": 799,
    "start_time": "2025-03-22T00:10:56.476Z"
   },
   {
    "duration": 3,
    "start_time": "2025-03-22T00:10:57.277Z"
   },
   {
    "duration": 21,
    "start_time": "2025-03-22T00:10:57.282Z"
   },
   {
    "duration": 46,
    "start_time": "2025-03-22T00:10:57.304Z"
   },
   {
    "duration": 2,
    "start_time": "2025-03-22T00:10:57.351Z"
   },
   {
    "duration": 4,
    "start_time": "2025-03-22T00:10:57.355Z"
   },
   {
    "duration": 3,
    "start_time": "2025-03-22T00:10:57.361Z"
   },
   {
    "duration": 2,
    "start_time": "2025-03-22T00:10:57.368Z"
   },
   {
    "duration": 2,
    "start_time": "2025-03-22T00:10:57.372Z"
   },
   {
    "duration": 3,
    "start_time": "2025-03-22T00:10:57.376Z"
   },
   {
    "duration": 3,
    "start_time": "2025-03-22T00:10:57.380Z"
   },
   {
    "duration": 4,
    "start_time": "2025-03-22T00:10:57.385Z"
   },
   {
    "duration": 3,
    "start_time": "2025-03-22T00:10:57.390Z"
   },
   {
    "duration": 3,
    "start_time": "2025-03-22T00:10:57.395Z"
   },
   {
    "duration": 4,
    "start_time": "2025-03-22T00:10:57.399Z"
   },
   {
    "duration": 2,
    "start_time": "2025-03-22T00:10:57.443Z"
   },
   {
    "duration": 3,
    "start_time": "2025-03-22T00:13:29.216Z"
   },
   {
    "duration": 20,
    "start_time": "2025-03-22T00:15:26.046Z"
   },
   {
    "duration": 304,
    "start_time": "2025-03-22T00:15:44.183Z"
   },
   {
    "duration": 880,
    "start_time": "2025-03-22T00:15:44.490Z"
   },
   {
    "duration": 13,
    "start_time": "2025-03-22T00:15:45.372Z"
   },
   {
    "duration": 9,
    "start_time": "2025-03-22T00:15:45.387Z"
   },
   {
    "duration": 7,
    "start_time": "2025-03-22T00:15:45.397Z"
   },
   {
    "duration": 8,
    "start_time": "2025-03-22T00:15:45.406Z"
   },
   {
    "duration": 24,
    "start_time": "2025-03-22T00:15:45.443Z"
   },
   {
    "duration": 98,
    "start_time": "2025-03-22T00:15:45.469Z"
   },
   {
    "duration": 3,
    "start_time": "2025-03-22T00:15:45.569Z"
   },
   {
    "duration": 13,
    "start_time": "2025-03-22T00:15:45.576Z"
   },
   {
    "duration": 5,
    "start_time": "2025-03-22T00:15:45.591Z"
   },
   {
    "duration": 764,
    "start_time": "2025-03-22T00:15:45.598Z"
   },
   {
    "duration": 18,
    "start_time": "2025-03-22T00:15:46.364Z"
   },
   {
    "duration": 5,
    "start_time": "2025-03-22T00:15:46.384Z"
   },
   {
    "duration": 28,
    "start_time": "2025-03-22T00:15:46.391Z"
   },
   {
    "duration": 51,
    "start_time": "2025-03-22T00:15:46.421Z"
   },
   {
    "duration": 4,
    "start_time": "2025-03-22T00:15:46.474Z"
   },
   {
    "duration": 4,
    "start_time": "2025-03-22T00:15:46.480Z"
   },
   {
    "duration": 3,
    "start_time": "2025-03-22T00:15:46.486Z"
   },
   {
    "duration": 4,
    "start_time": "2025-03-22T00:15:46.491Z"
   },
   {
    "duration": 810,
    "start_time": "2025-03-22T00:15:46.497Z"
   },
   {
    "duration": 4,
    "start_time": "2025-03-22T00:15:47.309Z"
   },
   {
    "duration": 30,
    "start_time": "2025-03-22T00:15:47.315Z"
   },
   {
    "duration": 2,
    "start_time": "2025-03-22T00:15:47.347Z"
   },
   {
    "duration": 3,
    "start_time": "2025-03-22T00:15:47.351Z"
   },
   {
    "duration": 2,
    "start_time": "2025-03-22T00:15:47.356Z"
   },
   {
    "duration": 2,
    "start_time": "2025-03-22T00:15:47.360Z"
   },
   {
    "duration": 2,
    "start_time": "2025-03-22T00:15:47.367Z"
   },
   {
    "duration": 3,
    "start_time": "2025-03-22T00:15:47.370Z"
   },
   {
    "duration": 2,
    "start_time": "2025-03-22T00:15:47.375Z"
   },
   {
    "duration": 3,
    "start_time": "2025-03-22T00:15:47.379Z"
   },
   {
    "duration": 3,
    "start_time": "2025-03-22T00:15:47.383Z"
   },
   {
    "duration": 3,
    "start_time": "2025-03-22T00:15:47.388Z"
   },
   {
    "duration": 51,
    "start_time": "2025-03-22T00:15:47.392Z"
   },
   {
    "duration": 2,
    "start_time": "2025-03-22T00:15:47.444Z"
   },
   {
    "duration": 5,
    "start_time": "2025-03-22T00:17:59.375Z"
   },
   {
    "duration": 7,
    "start_time": "2025-03-22T00:18:12.486Z"
   },
   {
    "duration": 5,
    "start_time": "2025-03-22T00:19:31.351Z"
   },
   {
    "duration": 11,
    "start_time": "2025-03-22T00:19:33.369Z"
   },
   {
    "duration": 6,
    "start_time": "2025-03-22T00:19:48.655Z"
   },
   {
    "duration": 6,
    "start_time": "2025-03-22T00:19:51.011Z"
   },
   {
    "duration": 5,
    "start_time": "2025-03-22T00:19:57.457Z"
   },
   {
    "duration": 13,
    "start_time": "2025-03-22T00:22:12.818Z"
   },
   {
    "duration": 31,
    "start_time": "2025-03-22T00:22:15.698Z"
   },
   {
    "duration": 18,
    "start_time": "2025-03-22T00:22:38.151Z"
   },
   {
    "duration": 291,
    "start_time": "2025-03-22T00:24:12.542Z"
   },
   {
    "duration": 915,
    "start_time": "2025-03-22T00:24:12.836Z"
   },
   {
    "duration": 11,
    "start_time": "2025-03-22T00:24:13.753Z"
   },
   {
    "duration": 10,
    "start_time": "2025-03-22T00:24:13.767Z"
   },
   {
    "duration": 7,
    "start_time": "2025-03-22T00:24:13.779Z"
   },
   {
    "duration": 8,
    "start_time": "2025-03-22T00:24:13.788Z"
   },
   {
    "duration": 52,
    "start_time": "2025-03-22T00:24:13.798Z"
   },
   {
    "duration": 101,
    "start_time": "2025-03-22T00:24:13.852Z"
   },
   {
    "duration": 2,
    "start_time": "2025-03-22T00:24:13.955Z"
   },
   {
    "duration": 11,
    "start_time": "2025-03-22T00:24:13.960Z"
   },
   {
    "duration": 4,
    "start_time": "2025-03-22T00:24:13.973Z"
   },
   {
    "duration": 783,
    "start_time": "2025-03-22T00:24:13.979Z"
   },
   {
    "duration": 25,
    "start_time": "2025-03-22T00:24:14.764Z"
   },
   {
    "duration": 5,
    "start_time": "2025-03-22T00:24:14.791Z"
   },
   {
    "duration": 61,
    "start_time": "2025-03-22T00:24:14.797Z"
   },
   {
    "duration": 28,
    "start_time": "2025-03-22T00:24:14.862Z"
   },
   {
    "duration": 3,
    "start_time": "2025-03-22T00:24:14.892Z"
   },
   {
    "duration": 4,
    "start_time": "2025-03-22T00:24:14.897Z"
   },
   {
    "duration": 4,
    "start_time": "2025-03-22T00:24:14.902Z"
   },
   {
    "duration": 3,
    "start_time": "2025-03-22T00:24:14.908Z"
   },
   {
    "duration": 798,
    "start_time": "2025-03-22T00:24:14.912Z"
   },
   {
    "duration": 4,
    "start_time": "2025-03-22T00:24:15.712Z"
   },
   {
    "duration": 33,
    "start_time": "2025-03-22T00:24:15.717Z"
   },
   {
    "duration": 5,
    "start_time": "2025-03-22T00:24:15.751Z"
   },
   {
    "duration": 13,
    "start_time": "2025-03-22T00:24:15.758Z"
   },
   {
    "duration": 5,
    "start_time": "2025-03-22T00:24:15.772Z"
   },
   {
    "duration": 7,
    "start_time": "2025-03-22T00:24:15.779Z"
   },
   {
    "duration": 5,
    "start_time": "2025-03-22T00:24:15.789Z"
   },
   {
    "duration": 3,
    "start_time": "2025-03-22T00:24:15.796Z"
   },
   {
    "duration": 3,
    "start_time": "2025-03-22T00:24:15.801Z"
   },
   {
    "duration": 49,
    "start_time": "2025-03-22T00:24:15.806Z"
   },
   {
    "duration": 30,
    "start_time": "2025-03-22T00:24:15.857Z"
   },
   {
    "duration": 21,
    "start_time": "2025-03-22T00:24:15.890Z"
   },
   {
    "duration": 10,
    "start_time": "2025-03-22T00:24:15.913Z"
   },
   {
    "duration": 3,
    "start_time": "2025-03-22T00:24:15.926Z"
   },
   {
    "duration": 26,
    "start_time": "2025-03-22T00:39:28.422Z"
   },
   {
    "duration": 4,
    "start_time": "2025-03-22T00:58:38.901Z"
   },
   {
    "duration": 4,
    "start_time": "2025-03-22T00:58:57.949Z"
   },
   {
    "duration": 4,
    "start_time": "2025-03-22T00:59:23.638Z"
   },
   {
    "duration": 262,
    "start_time": "2025-03-22T00:59:33.726Z"
   },
   {
    "duration": 897,
    "start_time": "2025-03-22T00:59:33.990Z"
   },
   {
    "duration": 12,
    "start_time": "2025-03-22T00:59:34.889Z"
   },
   {
    "duration": 9,
    "start_time": "2025-03-22T00:59:34.903Z"
   },
   {
    "duration": 7,
    "start_time": "2025-03-22T00:59:34.914Z"
   },
   {
    "duration": 8,
    "start_time": "2025-03-22T00:59:34.943Z"
   },
   {
    "duration": 24,
    "start_time": "2025-03-22T00:59:34.952Z"
   },
   {
    "duration": 102,
    "start_time": "2025-03-22T00:59:34.977Z"
   },
   {
    "duration": 4,
    "start_time": "2025-03-22T00:59:35.081Z"
   },
   {
    "duration": 10,
    "start_time": "2025-03-22T00:59:35.088Z"
   },
   {
    "duration": 4,
    "start_time": "2025-03-22T00:59:35.100Z"
   },
   {
    "duration": 793,
    "start_time": "2025-03-22T00:59:35.105Z"
   },
   {
    "duration": 21,
    "start_time": "2025-03-22T00:59:35.900Z"
   },
   {
    "duration": 21,
    "start_time": "2025-03-22T00:59:35.922Z"
   },
   {
    "duration": 30,
    "start_time": "2025-03-22T00:59:35.944Z"
   },
   {
    "duration": 24,
    "start_time": "2025-03-22T00:59:35.975Z"
   },
   {
    "duration": 3,
    "start_time": "2025-03-22T00:59:36.001Z"
   },
   {
    "duration": 4,
    "start_time": "2025-03-22T00:59:36.005Z"
   },
   {
    "duration": 3,
    "start_time": "2025-03-22T00:59:36.011Z"
   },
   {
    "duration": 29,
    "start_time": "2025-03-22T00:59:36.016Z"
   },
   {
    "duration": 750,
    "start_time": "2025-03-22T00:59:36.047Z"
   },
   {
    "duration": 3,
    "start_time": "2025-03-22T00:59:36.799Z"
   },
   {
    "duration": 21,
    "start_time": "2025-03-22T00:59:36.804Z"
   },
   {
    "duration": 17,
    "start_time": "2025-03-22T00:59:36.827Z"
   },
   {
    "duration": 11,
    "start_time": "2025-03-22T00:59:36.846Z"
   },
   {
    "duration": 5,
    "start_time": "2025-03-22T00:59:36.858Z"
   },
   {
    "duration": 6,
    "start_time": "2025-03-22T00:59:36.865Z"
   },
   {
    "duration": 4,
    "start_time": "2025-03-22T00:59:36.875Z"
   },
   {
    "duration": 3,
    "start_time": "2025-03-22T00:59:36.881Z"
   },
   {
    "duration": 4,
    "start_time": "2025-03-22T00:59:36.886Z"
   },
   {
    "duration": 55,
    "start_time": "2025-03-22T00:59:36.892Z"
   },
   {
    "duration": 32,
    "start_time": "2025-03-22T00:59:36.950Z"
   },
   {
    "duration": 21,
    "start_time": "2025-03-22T00:59:36.983Z"
   },
   {
    "duration": 10,
    "start_time": "2025-03-22T00:59:37.005Z"
   },
   {
    "duration": 38,
    "start_time": "2025-03-22T00:59:37.017Z"
   },
   {
    "duration": 6,
    "start_time": "2025-03-22T01:02:00.863Z"
   },
   {
    "duration": 6,
    "start_time": "2025-03-22T01:02:15.040Z"
   },
   {
    "duration": 3,
    "start_time": "2025-03-22T01:09:13.959Z"
   },
   {
    "duration": 3,
    "start_time": "2025-03-22T01:09:16.618Z"
   },
   {
    "duration": 2559,
    "start_time": "2025-03-22T01:09:29.586Z"
   },
   {
    "duration": 248,
    "start_time": "2025-03-22T01:10:04.800Z"
   },
   {
    "duration": 242,
    "start_time": "2025-03-22T01:10:50.001Z"
   },
   {
    "duration": 2,
    "start_time": "2025-03-22T01:22:28.854Z"
   },
   {
    "duration": 4,
    "start_time": "2025-03-22T01:22:30.992Z"
   },
   {
    "duration": 5,
    "start_time": "2025-03-22T01:22:43.317Z"
   },
   {
    "duration": 161,
    "start_time": "2025-03-22T01:23:00.128Z"
   },
   {
    "duration": 318,
    "start_time": "2025-03-22T01:24:23.049Z"
   },
   {
    "duration": 327,
    "start_time": "2025-03-22T01:26:29.475Z"
   },
   {
    "duration": 1098,
    "start_time": "2025-03-22T01:26:29.807Z"
   },
   {
    "duration": 12,
    "start_time": "2025-03-22T01:26:30.907Z"
   },
   {
    "duration": 23,
    "start_time": "2025-03-22T01:26:30.921Z"
   },
   {
    "duration": 19,
    "start_time": "2025-03-22T01:26:30.945Z"
   },
   {
    "duration": 8,
    "start_time": "2025-03-22T01:26:30.966Z"
   },
   {
    "duration": 25,
    "start_time": "2025-03-22T01:26:30.975Z"
   },
   {
    "duration": 107,
    "start_time": "2025-03-22T01:26:31.002Z"
   },
   {
    "duration": 2,
    "start_time": "2025-03-22T01:26:31.111Z"
   },
   {
    "duration": 26,
    "start_time": "2025-03-22T01:26:31.118Z"
   },
   {
    "duration": 5,
    "start_time": "2025-03-22T01:26:31.146Z"
   },
   {
    "duration": 959,
    "start_time": "2025-03-22T01:26:31.153Z"
   },
   {
    "duration": 28,
    "start_time": "2025-03-22T01:26:32.114Z"
   },
   {
    "duration": 4,
    "start_time": "2025-03-22T01:26:32.144Z"
   },
   {
    "duration": 30,
    "start_time": "2025-03-22T01:26:32.150Z"
   },
   {
    "duration": 25,
    "start_time": "2025-03-22T01:26:32.183Z"
   },
   {
    "duration": 3,
    "start_time": "2025-03-22T01:26:32.210Z"
   },
   {
    "duration": 3,
    "start_time": "2025-03-22T01:26:32.242Z"
   },
   {
    "duration": 4,
    "start_time": "2025-03-22T01:26:32.247Z"
   },
   {
    "duration": 3,
    "start_time": "2025-03-22T01:26:32.252Z"
   },
   {
    "duration": 788,
    "start_time": "2025-03-22T01:26:32.257Z"
   },
   {
    "duration": 3,
    "start_time": "2025-03-22T01:26:33.047Z"
   },
   {
    "duration": 21,
    "start_time": "2025-03-22T01:26:33.052Z"
   },
   {
    "duration": 5,
    "start_time": "2025-03-22T01:26:33.075Z"
   },
   {
    "duration": 14,
    "start_time": "2025-03-22T01:26:33.081Z"
   },
   {
    "duration": 6,
    "start_time": "2025-03-22T01:26:33.096Z"
   },
   {
    "duration": 38,
    "start_time": "2025-03-22T01:26:33.105Z"
   },
   {
    "duration": 6,
    "start_time": "2025-03-22T01:26:33.148Z"
   },
   {
    "duration": 4,
    "start_time": "2025-03-22T01:26:33.156Z"
   },
   {
    "duration": 5,
    "start_time": "2025-03-22T01:26:33.162Z"
   },
   {
    "duration": 13,
    "start_time": "2025-03-22T01:26:33.168Z"
   },
   {
    "duration": 30,
    "start_time": "2025-03-22T01:26:33.182Z"
   },
   {
    "duration": 21,
    "start_time": "2025-03-22T01:26:33.242Z"
   },
   {
    "duration": 10,
    "start_time": "2025-03-22T01:26:33.264Z"
   },
   {
    "duration": 27,
    "start_time": "2025-03-22T01:26:33.275Z"
   },
   {
    "duration": 4,
    "start_time": "2025-03-22T01:26:33.304Z"
   },
   {
    "duration": 4,
    "start_time": "2025-03-22T01:26:33.310Z"
   },
   {
    "duration": 710,
    "start_time": "2025-03-22T01:26:33.315Z"
   },
   {
    "duration": 304,
    "start_time": "2025-03-22T01:26:34.027Z"
   },
   {
    "duration": 254,
    "start_time": "2025-03-22T01:26:34.333Z"
   },
   {
    "duration": 3,
    "start_time": "2025-03-22T01:26:34.588Z"
   },
   {
    "duration": 4,
    "start_time": "2025-03-22T01:26:34.592Z"
   },
   {
    "duration": 5,
    "start_time": "2025-03-22T01:26:34.598Z"
   },
   {
    "duration": 186,
    "start_time": "2025-03-22T01:26:34.604Z"
   },
   {
    "duration": 295,
    "start_time": "2025-03-22T01:26:34.792Z"
   },
   {
    "duration": 99,
    "start_time": "2025-03-22T01:27:10.240Z"
   },
   {
    "duration": 321,
    "start_time": "2025-03-22T01:27:58.250Z"
   },
   {
    "duration": 276,
    "start_time": "2025-03-22T01:30:20.344Z"
   },
   {
    "duration": 1831,
    "start_time": "2025-03-22T01:30:23.069Z"
   },
   {
    "duration": 1819,
    "start_time": "2025-03-22T01:30:34.333Z"
   },
   {
    "duration": 107,
    "start_time": "2025-03-22T01:34:02.733Z"
   },
   {
    "duration": 45,
    "start_time": "2025-03-22T01:34:03.955Z"
   },
   {
    "duration": 4,
    "start_time": "2025-03-22T01:34:04.464Z"
   },
   {
    "duration": 12,
    "start_time": "2025-03-22T01:34:04.875Z"
   },
   {
    "duration": 3,
    "start_time": "2025-03-22T01:36:18.203Z"
   },
   {
    "duration": 3,
    "start_time": "2025-03-22T01:37:41.086Z"
   },
   {
    "duration": 6,
    "start_time": "2025-03-22T01:42:59.073Z"
   },
   {
    "duration": 5,
    "start_time": "2025-03-22T01:43:45.940Z"
   },
   {
    "duration": 6,
    "start_time": "2025-03-22T01:44:18.132Z"
   },
   {
    "duration": 6,
    "start_time": "2025-03-22T01:44:33.788Z"
   },
   {
    "duration": 285,
    "start_time": "2025-03-22T01:47:20.634Z"
   },
   {
    "duration": 909,
    "start_time": "2025-03-22T01:47:20.921Z"
   },
   {
    "duration": 17,
    "start_time": "2025-03-22T01:47:21.832Z"
   },
   {
    "duration": 9,
    "start_time": "2025-03-22T01:47:21.850Z"
   },
   {
    "duration": 7,
    "start_time": "2025-03-22T01:47:21.863Z"
   },
   {
    "duration": 8,
    "start_time": "2025-03-22T01:47:21.872Z"
   },
   {
    "duration": 24,
    "start_time": "2025-03-22T01:47:21.881Z"
   },
   {
    "duration": 121,
    "start_time": "2025-03-22T01:47:21.907Z"
   },
   {
    "duration": 2,
    "start_time": "2025-03-22T01:47:22.030Z"
   },
   {
    "duration": 10,
    "start_time": "2025-03-22T01:47:22.043Z"
   },
   {
    "duration": 5,
    "start_time": "2025-03-22T01:47:22.055Z"
   },
   {
    "duration": 768,
    "start_time": "2025-03-22T01:47:22.061Z"
   },
   {
    "duration": 25,
    "start_time": "2025-03-22T01:47:22.831Z"
   },
   {
    "duration": 6,
    "start_time": "2025-03-22T01:47:22.860Z"
   },
   {
    "duration": 30,
    "start_time": "2025-03-22T01:47:22.867Z"
   },
   {
    "duration": 50,
    "start_time": "2025-03-22T01:47:22.899Z"
   },
   {
    "duration": 4,
    "start_time": "2025-03-22T01:47:22.951Z"
   },
   {
    "duration": 5,
    "start_time": "2025-03-22T01:47:22.956Z"
   },
   {
    "duration": 4,
    "start_time": "2025-03-22T01:47:22.962Z"
   },
   {
    "duration": 4,
    "start_time": "2025-03-22T01:47:22.973Z"
   },
   {
    "duration": 771,
    "start_time": "2025-03-22T01:47:22.979Z"
   },
   {
    "duration": 4,
    "start_time": "2025-03-22T01:47:23.752Z"
   },
   {
    "duration": 22,
    "start_time": "2025-03-22T01:47:23.758Z"
   },
   {
    "duration": 5,
    "start_time": "2025-03-22T01:47:23.781Z"
   },
   {
    "duration": 10,
    "start_time": "2025-03-22T01:47:23.789Z"
   },
   {
    "duration": 6,
    "start_time": "2025-03-22T01:47:23.801Z"
   },
   {
    "duration": 39,
    "start_time": "2025-03-22T01:47:23.808Z"
   },
   {
    "duration": 5,
    "start_time": "2025-03-22T01:47:23.849Z"
   },
   {
    "duration": 4,
    "start_time": "2025-03-22T01:47:23.856Z"
   },
   {
    "duration": 5,
    "start_time": "2025-03-22T01:47:23.861Z"
   },
   {
    "duration": 14,
    "start_time": "2025-03-22T01:47:23.867Z"
   },
   {
    "duration": 58,
    "start_time": "2025-03-22T01:47:23.884Z"
   },
   {
    "duration": 19,
    "start_time": "2025-03-22T01:47:23.945Z"
   },
   {
    "duration": 10,
    "start_time": "2025-03-22T01:47:23.966Z"
   },
   {
    "duration": 27,
    "start_time": "2025-03-22T01:47:23.977Z"
   },
   {
    "duration": 4,
    "start_time": "2025-03-22T01:47:24.006Z"
   },
   {
    "duration": 5,
    "start_time": "2025-03-22T01:47:24.011Z"
   },
   {
    "duration": 684,
    "start_time": "2025-03-22T01:47:24.017Z"
   },
   {
    "duration": 312,
    "start_time": "2025-03-22T01:47:24.703Z"
   },
   {
    "duration": 256,
    "start_time": "2025-03-22T01:47:25.017Z"
   },
   {
    "duration": 2,
    "start_time": "2025-03-22T01:47:25.279Z"
   },
   {
    "duration": 4,
    "start_time": "2025-03-22T01:47:25.283Z"
   },
   {
    "duration": 5,
    "start_time": "2025-03-22T01:47:25.288Z"
   },
   {
    "duration": 186,
    "start_time": "2025-03-22T01:47:25.294Z"
   },
   {
    "duration": 272,
    "start_time": "2025-03-22T01:47:25.482Z"
   },
   {
    "duration": 105,
    "start_time": "2025-03-22T01:47:25.756Z"
   },
   {
    "duration": 335,
    "start_time": "2025-03-22T01:47:25.864Z"
   },
   {
    "duration": 249,
    "start_time": "2025-03-22T01:47:26.201Z"
   },
   {
    "duration": 1869,
    "start_time": "2025-03-22T01:47:26.451Z"
   },
   {
    "duration": 115,
    "start_time": "2025-03-22T01:47:28.322Z"
   },
   {
    "duration": 45,
    "start_time": "2025-03-22T01:47:28.439Z"
   },
   {
    "duration": 3,
    "start_time": "2025-03-22T01:47:28.486Z"
   },
   {
    "duration": 11,
    "start_time": "2025-03-22T01:47:28.492Z"
   },
   {
    "duration": 103,
    "start_time": "2025-03-22T01:48:37.475Z"
   },
   {
    "duration": 157,
    "start_time": "2025-03-22T01:49:27.026Z"
   },
   {
    "duration": 278,
    "start_time": "2025-03-22T01:51:59.800Z"
   },
   {
    "duration": 900,
    "start_time": "2025-03-22T01:52:00.080Z"
   },
   {
    "duration": 12,
    "start_time": "2025-03-22T01:52:00.981Z"
   },
   {
    "duration": 9,
    "start_time": "2025-03-22T01:52:00.996Z"
   },
   {
    "duration": 8,
    "start_time": "2025-03-22T01:52:01.007Z"
   },
   {
    "duration": 31,
    "start_time": "2025-03-22T01:52:01.017Z"
   },
   {
    "duration": 25,
    "start_time": "2025-03-22T01:52:01.050Z"
   },
   {
    "duration": 99,
    "start_time": "2025-03-22T01:52:01.077Z"
   },
   {
    "duration": 4,
    "start_time": "2025-03-22T01:52:01.178Z"
   },
   {
    "duration": 11,
    "start_time": "2025-03-22T01:52:01.185Z"
   },
   {
    "duration": 4,
    "start_time": "2025-03-22T01:52:01.198Z"
   },
   {
    "duration": 840,
    "start_time": "2025-03-22T01:52:01.204Z"
   },
   {
    "duration": 19,
    "start_time": "2025-03-22T01:52:02.046Z"
   },
   {
    "duration": 5,
    "start_time": "2025-03-22T01:52:02.068Z"
   },
   {
    "duration": 32,
    "start_time": "2025-03-22T01:52:02.074Z"
   },
   {
    "duration": 54,
    "start_time": "2025-03-22T01:52:02.108Z"
   },
   {
    "duration": 3,
    "start_time": "2025-03-22T01:52:02.165Z"
   },
   {
    "duration": 3,
    "start_time": "2025-03-22T01:52:02.170Z"
   },
   {
    "duration": 4,
    "start_time": "2025-03-22T01:52:02.175Z"
   },
   {
    "duration": 3,
    "start_time": "2025-03-22T01:52:02.180Z"
   },
   {
    "duration": 835,
    "start_time": "2025-03-22T01:52:02.185Z"
   },
   {
    "duration": 3,
    "start_time": "2025-03-22T01:52:03.022Z"
   },
   {
    "duration": 33,
    "start_time": "2025-03-22T01:52:03.027Z"
   },
   {
    "duration": 6,
    "start_time": "2025-03-22T01:52:03.062Z"
   },
   {
    "duration": 10,
    "start_time": "2025-03-22T01:52:03.070Z"
   },
   {
    "duration": 5,
    "start_time": "2025-03-22T01:52:03.082Z"
   },
   {
    "duration": 6,
    "start_time": "2025-03-22T01:52:03.089Z"
   },
   {
    "duration": 4,
    "start_time": "2025-03-22T01:52:03.100Z"
   },
   {
    "duration": 4,
    "start_time": "2025-03-22T01:52:03.106Z"
   },
   {
    "duration": 6,
    "start_time": "2025-03-22T01:52:03.143Z"
   },
   {
    "duration": 14,
    "start_time": "2025-03-22T01:52:03.150Z"
   },
   {
    "duration": 30,
    "start_time": "2025-03-22T01:52:03.165Z"
   },
   {
    "duration": 20,
    "start_time": "2025-03-22T01:52:03.197Z"
   },
   {
    "duration": 28,
    "start_time": "2025-03-22T01:52:03.219Z"
   },
   {
    "duration": 27,
    "start_time": "2025-03-22T01:52:03.249Z"
   },
   {
    "duration": 3,
    "start_time": "2025-03-22T01:52:03.278Z"
   },
   {
    "duration": 5,
    "start_time": "2025-03-22T01:52:03.283Z"
   },
   {
    "duration": 723,
    "start_time": "2025-03-22T01:52:03.289Z"
   },
   {
    "duration": 303,
    "start_time": "2025-03-22T01:52:04.013Z"
   },
   {
    "duration": 266,
    "start_time": "2025-03-22T01:52:04.319Z"
   },
   {
    "duration": 2,
    "start_time": "2025-03-22T01:52:04.587Z"
   },
   {
    "duration": 4,
    "start_time": "2025-03-22T01:52:04.591Z"
   },
   {
    "duration": 5,
    "start_time": "2025-03-22T01:52:04.597Z"
   },
   {
    "duration": 185,
    "start_time": "2025-03-22T01:52:04.603Z"
   },
   {
    "duration": 118,
    "start_time": "2025-03-22T01:52:04.790Z"
   },
   {
    "duration": 104,
    "start_time": "2025-03-22T01:52:04.910Z"
   },
   {
    "duration": 335,
    "start_time": "2025-03-22T01:52:05.016Z"
   },
   {
    "duration": 255,
    "start_time": "2025-03-22T01:52:05.352Z"
   },
   {
    "duration": 1835,
    "start_time": "2025-03-22T01:52:05.609Z"
   },
   {
    "duration": 113,
    "start_time": "2025-03-22T01:52:07.446Z"
   },
   {
    "duration": 45,
    "start_time": "2025-03-22T01:52:07.560Z"
   },
   {
    "duration": 4,
    "start_time": "2025-03-22T01:52:07.607Z"
   },
   {
    "duration": 11,
    "start_time": "2025-03-22T01:52:07.612Z"
   },
   {
    "duration": 286,
    "start_time": "2025-03-22T02:07:06.297Z"
   },
   {
    "duration": 957,
    "start_time": "2025-03-22T02:07:06.585Z"
   },
   {
    "duration": 12,
    "start_time": "2025-03-22T02:07:07.544Z"
   },
   {
    "duration": 9,
    "start_time": "2025-03-22T02:07:07.557Z"
   },
   {
    "duration": 8,
    "start_time": "2025-03-22T02:07:07.568Z"
   },
   {
    "duration": 7,
    "start_time": "2025-03-22T02:07:07.577Z"
   },
   {
    "duration": 23,
    "start_time": "2025-03-22T02:07:07.586Z"
   },
   {
    "duration": 116,
    "start_time": "2025-03-22T02:07:07.612Z"
   },
   {
    "duration": 2,
    "start_time": "2025-03-22T02:07:07.730Z"
   },
   {
    "duration": 12,
    "start_time": "2025-03-22T02:07:07.742Z"
   },
   {
    "duration": 4,
    "start_time": "2025-03-22T02:07:07.755Z"
   },
   {
    "duration": 783,
    "start_time": "2025-03-22T02:07:07.761Z"
   },
   {
    "duration": 20,
    "start_time": "2025-03-22T02:07:08.545Z"
   },
   {
    "duration": 5,
    "start_time": "2025-03-22T02:07:08.568Z"
   },
   {
    "duration": 30,
    "start_time": "2025-03-22T02:07:08.575Z"
   },
   {
    "duration": 49,
    "start_time": "2025-03-22T02:07:08.606Z"
   },
   {
    "duration": 4,
    "start_time": "2025-03-22T02:07:08.657Z"
   },
   {
    "duration": 3,
    "start_time": "2025-03-22T02:07:08.664Z"
   },
   {
    "duration": 5,
    "start_time": "2025-03-22T02:07:08.668Z"
   },
   {
    "duration": 3,
    "start_time": "2025-03-22T02:07:08.674Z"
   },
   {
    "duration": 780,
    "start_time": "2025-03-22T02:07:08.679Z"
   },
   {
    "duration": 3,
    "start_time": "2025-03-22T02:07:09.461Z"
   },
   {
    "duration": 21,
    "start_time": "2025-03-22T02:07:09.466Z"
   },
   {
    "duration": 5,
    "start_time": "2025-03-22T02:07:09.489Z"
   },
   {
    "duration": 10,
    "start_time": "2025-03-22T02:07:09.495Z"
   },
   {
    "duration": 36,
    "start_time": "2025-03-22T02:07:09.507Z"
   },
   {
    "duration": 6,
    "start_time": "2025-03-22T02:07:09.545Z"
   },
   {
    "duration": 5,
    "start_time": "2025-03-22T02:07:09.552Z"
   },
   {
    "duration": 3,
    "start_time": "2025-03-22T02:07:09.559Z"
   },
   {
    "duration": 4,
    "start_time": "2025-03-22T02:07:09.564Z"
   },
   {
    "duration": 14,
    "start_time": "2025-03-22T02:07:09.570Z"
   },
   {
    "duration": 58,
    "start_time": "2025-03-22T02:07:09.586Z"
   },
   {
    "duration": 23,
    "start_time": "2025-03-22T02:07:09.646Z"
   },
   {
    "duration": 10,
    "start_time": "2025-03-22T02:07:09.670Z"
   },
   {
    "duration": 27,
    "start_time": "2025-03-22T02:07:09.682Z"
   },
   {
    "duration": 4,
    "start_time": "2025-03-22T02:07:09.711Z"
   },
   {
    "duration": 4,
    "start_time": "2025-03-22T02:07:09.717Z"
   },
   {
    "duration": 664,
    "start_time": "2025-03-22T02:07:09.743Z"
   },
   {
    "duration": 322,
    "start_time": "2025-03-22T02:07:10.408Z"
   },
   {
    "duration": 254,
    "start_time": "2025-03-22T02:07:10.732Z"
   },
   {
    "duration": 2,
    "start_time": "2025-03-22T02:07:10.990Z"
   },
   {
    "duration": 4,
    "start_time": "2025-03-22T02:07:10.994Z"
   },
   {
    "duration": 5,
    "start_time": "2025-03-22T02:07:11.000Z"
   },
   {
    "duration": 188,
    "start_time": "2025-03-22T02:07:11.007Z"
   },
   {
    "duration": 115,
    "start_time": "2025-03-22T02:07:11.197Z"
   },
   {
    "duration": 108,
    "start_time": "2025-03-22T02:07:11.314Z"
   },
   {
    "duration": 328,
    "start_time": "2025-03-22T02:07:11.423Z"
   },
   {
    "duration": 266,
    "start_time": "2025-03-22T02:07:11.753Z"
   },
   {
    "duration": 1890,
    "start_time": "2025-03-22T02:07:12.021Z"
   },
   {
    "duration": 115,
    "start_time": "2025-03-22T02:07:13.912Z"
   },
   {
    "duration": 52,
    "start_time": "2025-03-22T02:07:14.029Z"
   },
   {
    "duration": 3,
    "start_time": "2025-03-22T02:07:14.083Z"
   },
   {
    "duration": 11,
    "start_time": "2025-03-22T02:07:14.088Z"
   },
   {
    "duration": 371,
    "start_time": "2025-03-22T16:43:50.380Z"
   },
   {
    "duration": 995,
    "start_time": "2025-03-22T16:43:50.753Z"
   },
   {
    "duration": 11,
    "start_time": "2025-03-22T16:43:51.751Z"
   },
   {
    "duration": 9,
    "start_time": "2025-03-22T16:43:51.763Z"
   },
   {
    "duration": 8,
    "start_time": "2025-03-22T16:43:51.774Z"
   },
   {
    "duration": 7,
    "start_time": "2025-03-22T16:43:51.789Z"
   },
   {
    "duration": 23,
    "start_time": "2025-03-22T16:43:51.999Z"
   },
   {
    "duration": 92,
    "start_time": "2025-03-22T16:43:53.650Z"
   },
   {
    "duration": 3,
    "start_time": "2025-03-22T16:43:54.490Z"
   },
   {
    "duration": 12,
    "start_time": "2025-03-22T16:43:54.919Z"
   },
   {
    "duration": 4,
    "start_time": "2025-03-22T16:43:55.135Z"
   },
   {
    "duration": 793,
    "start_time": "2025-03-22T16:43:55.358Z"
   },
   {
    "duration": 21,
    "start_time": "2025-03-22T16:43:56.264Z"
   },
   {
    "duration": 6,
    "start_time": "2025-03-22T16:43:56.492Z"
   },
   {
    "duration": 32,
    "start_time": "2025-03-22T16:43:56.746Z"
   },
   {
    "duration": 26,
    "start_time": "2025-03-22T16:43:57.022Z"
   },
   {
    "duration": 3,
    "start_time": "2025-03-22T16:43:57.798Z"
   },
   {
    "duration": 5,
    "start_time": "2025-03-22T16:43:58.029Z"
   },
   {
    "duration": 5,
    "start_time": "2025-03-22T16:43:58.755Z"
   },
   {
    "duration": 3,
    "start_time": "2025-03-22T16:43:58.960Z"
   },
   {
    "duration": 798,
    "start_time": "2025-03-22T16:43:59.711Z"
   },
   {
    "duration": 4,
    "start_time": "2025-03-22T16:44:00.512Z"
   },
   {
    "duration": 22,
    "start_time": "2025-03-22T16:44:01.915Z"
   },
   {
    "duration": 5,
    "start_time": "2025-03-22T16:44:03.747Z"
   },
   {
    "duration": 11,
    "start_time": "2025-03-22T16:44:04.439Z"
   },
   {
    "duration": 6,
    "start_time": "2025-03-22T16:44:05.130Z"
   },
   {
    "duration": 6,
    "start_time": "2025-03-22T16:44:05.588Z"
   },
   {
    "duration": 5,
    "start_time": "2025-03-22T16:44:06.044Z"
   },
   {
    "duration": 3,
    "start_time": "2025-03-22T16:44:06.719Z"
   },
   {
    "duration": 4,
    "start_time": "2025-03-22T16:44:06.935Z"
   },
   {
    "duration": 14,
    "start_time": "2025-03-22T16:44:07.632Z"
   },
   {
    "duration": 32,
    "start_time": "2025-03-22T16:44:07.869Z"
   },
   {
    "duration": 17,
    "start_time": "2025-03-22T16:44:08.630Z"
   },
   {
    "duration": 11,
    "start_time": "2025-03-22T16:44:08.935Z"
   },
   {
    "duration": 28,
    "start_time": "2025-03-22T16:44:09.454Z"
   },
   {
    "duration": 3,
    "start_time": "2025-03-22T16:44:12.170Z"
   },
   {
    "duration": 3,
    "start_time": "2025-03-22T16:44:12.410Z"
   },
   {
    "duration": 2567,
    "start_time": "2025-03-22T16:44:13.292Z"
   },
   {
    "duration": 260,
    "start_time": "2025-03-22T16:44:15.861Z"
   },
   {
    "duration": 300,
    "start_time": "2025-03-22T16:44:17.251Z"
   },
   {
    "duration": 2,
    "start_time": "2025-03-22T16:44:20.000Z"
   },
   {
    "duration": 4,
    "start_time": "2025-03-22T16:44:20.232Z"
   },
   {
    "duration": 4,
    "start_time": "2025-03-22T16:44:20.490Z"
   },
   {
    "duration": 170,
    "start_time": "2025-03-22T16:44:20.732Z"
   },
   {
    "duration": 166,
    "start_time": "2025-03-22T16:45:58.281Z"
   },
   {
    "duration": 175,
    "start_time": "2025-03-22T16:46:18.250Z"
   },
   {
    "duration": 609,
    "start_time": "2025-03-22T16:46:27.844Z"
   },
   {
    "duration": 165,
    "start_time": "2025-03-22T16:46:33.963Z"
   },
   {
    "duration": 5,
    "start_time": "2025-03-22T16:46:51.317Z"
   },
   {
    "duration": 7,
    "start_time": "2025-03-22T16:47:06.956Z"
   },
   {
    "duration": 13,
    "start_time": "2025-03-22T16:47:59.279Z"
   },
   {
    "duration": 10,
    "start_time": "2025-03-22T16:48:05.180Z"
   },
   {
    "duration": 859,
    "start_time": "2025-03-22T16:50:09.532Z"
   },
   {
    "duration": 15,
    "start_time": "2025-03-22T16:50:10.393Z"
   },
   {
    "duration": 12,
    "start_time": "2025-03-22T16:50:10.769Z"
   },
   {
    "duration": 9,
    "start_time": "2025-03-22T16:50:11.417Z"
   },
   {
    "duration": 9,
    "start_time": "2025-03-22T16:50:13.571Z"
   },
   {
    "duration": 24,
    "start_time": "2025-03-22T16:50:13.774Z"
   },
   {
    "duration": 76,
    "start_time": "2025-03-22T16:50:18.884Z"
   },
   {
    "duration": 3,
    "start_time": "2025-03-22T16:50:34.388Z"
   },
   {
    "duration": 13,
    "start_time": "2025-03-22T16:52:41.254Z"
   },
   {
    "duration": 4,
    "start_time": "2025-03-22T16:52:43.769Z"
   },
   {
    "duration": 4,
    "start_time": "2025-03-22T17:00:35.844Z"
   },
   {
    "duration": 156,
    "start_time": "2025-03-22T20:46:09.481Z"
   },
   {
    "duration": 318,
    "start_time": "2025-03-22T20:46:17.100Z"
   },
   {
    "duration": 1014,
    "start_time": "2025-03-22T20:46:17.421Z"
   },
   {
    "duration": 12,
    "start_time": "2025-03-22T20:46:18.437Z"
   },
   {
    "duration": 22,
    "start_time": "2025-03-22T20:46:18.451Z"
   },
   {
    "duration": 8,
    "start_time": "2025-03-22T20:46:18.475Z"
   },
   {
    "duration": 8,
    "start_time": "2025-03-22T20:46:18.484Z"
   },
   {
    "duration": 24,
    "start_time": "2025-03-22T20:46:18.493Z"
   },
   {
    "duration": 112,
    "start_time": "2025-03-22T20:46:18.519Z"
   },
   {
    "duration": 2,
    "start_time": "2025-03-22T20:46:18.633Z"
   },
   {
    "duration": 5,
    "start_time": "2025-03-22T20:46:18.637Z"
   },
   {
    "duration": 186,
    "start_time": "2025-03-22T20:46:18.644Z"
   },
   {
    "duration": 0,
    "start_time": "2025-03-22T20:46:18.833Z"
   },
   {
    "duration": 0,
    "start_time": "2025-03-22T20:46:18.834Z"
   },
   {
    "duration": 0,
    "start_time": "2025-03-22T20:46:18.835Z"
   },
   {
    "duration": 0,
    "start_time": "2025-03-22T20:46:18.837Z"
   },
   {
    "duration": 0,
    "start_time": "2025-03-22T20:46:18.837Z"
   },
   {
    "duration": 0,
    "start_time": "2025-03-22T20:46:18.838Z"
   },
   {
    "duration": 0,
    "start_time": "2025-03-22T20:46:18.840Z"
   },
   {
    "duration": 0,
    "start_time": "2025-03-22T20:46:18.841Z"
   },
   {
    "duration": 0,
    "start_time": "2025-03-22T20:46:18.842Z"
   },
   {
    "duration": 0,
    "start_time": "2025-03-22T20:46:18.843Z"
   },
   {
    "duration": 0,
    "start_time": "2025-03-22T20:46:18.844Z"
   },
   {
    "duration": 0,
    "start_time": "2025-03-22T20:46:18.845Z"
   },
   {
    "duration": 0,
    "start_time": "2025-03-22T20:46:18.846Z"
   },
   {
    "duration": 0,
    "start_time": "2025-03-22T20:46:18.870Z"
   },
   {
    "duration": 0,
    "start_time": "2025-03-22T20:46:18.871Z"
   },
   {
    "duration": 0,
    "start_time": "2025-03-22T20:46:18.872Z"
   },
   {
    "duration": 0,
    "start_time": "2025-03-22T20:46:18.873Z"
   },
   {
    "duration": 0,
    "start_time": "2025-03-22T20:46:18.874Z"
   },
   {
    "duration": 0,
    "start_time": "2025-03-22T20:46:18.875Z"
   },
   {
    "duration": 0,
    "start_time": "2025-03-22T20:46:18.876Z"
   },
   {
    "duration": 0,
    "start_time": "2025-03-22T20:46:18.878Z"
   },
   {
    "duration": 0,
    "start_time": "2025-03-22T20:46:18.879Z"
   },
   {
    "duration": 0,
    "start_time": "2025-03-22T20:46:18.880Z"
   },
   {
    "duration": 0,
    "start_time": "2025-03-22T20:46:18.882Z"
   },
   {
    "duration": 0,
    "start_time": "2025-03-22T20:46:18.884Z"
   },
   {
    "duration": 0,
    "start_time": "2025-03-22T20:46:18.885Z"
   },
   {
    "duration": 0,
    "start_time": "2025-03-22T20:46:18.887Z"
   },
   {
    "duration": 0,
    "start_time": "2025-03-22T20:46:18.888Z"
   },
   {
    "duration": 0,
    "start_time": "2025-03-22T20:46:18.890Z"
   },
   {
    "duration": 0,
    "start_time": "2025-03-22T20:46:18.891Z"
   },
   {
    "duration": 0,
    "start_time": "2025-03-22T20:46:18.893Z"
   },
   {
    "duration": 0,
    "start_time": "2025-03-22T20:46:18.894Z"
   },
   {
    "duration": 0,
    "start_time": "2025-03-22T20:46:18.895Z"
   },
   {
    "duration": 0,
    "start_time": "2025-03-22T20:46:18.896Z"
   },
   {
    "duration": 0,
    "start_time": "2025-03-22T20:46:18.897Z"
   },
   {
    "duration": 0,
    "start_time": "2025-03-22T20:46:18.899Z"
   },
   {
    "duration": 0,
    "start_time": "2025-03-22T20:46:18.900Z"
   },
   {
    "duration": 0,
    "start_time": "2025-03-22T20:46:18.901Z"
   },
   {
    "duration": 0,
    "start_time": "2025-03-22T20:46:18.902Z"
   },
   {
    "duration": 0,
    "start_time": "2025-03-22T20:46:18.903Z"
   },
   {
    "duration": 0,
    "start_time": "2025-03-22T20:46:18.905Z"
   },
   {
    "duration": 0,
    "start_time": "2025-03-22T20:46:18.906Z"
   },
   {
    "duration": 0,
    "start_time": "2025-03-22T20:46:18.907Z"
   },
   {
    "duration": 0,
    "start_time": "2025-03-22T20:46:18.908Z"
   },
   {
    "duration": 0,
    "start_time": "2025-03-22T20:46:18.909Z"
   },
   {
    "duration": 91,
    "start_time": "2025-03-22T20:47:23.488Z"
   },
   {
    "duration": 94,
    "start_time": "2025-03-22T20:47:25.814Z"
   },
   {
    "duration": 4,
    "start_time": "2025-03-22T20:47:28.745Z"
   },
   {
    "duration": 94,
    "start_time": "2025-03-22T20:47:43.812Z"
   },
   {
    "duration": 768,
    "start_time": "2025-03-22T20:47:48.680Z"
   },
   {
    "duration": 294,
    "start_time": "2025-03-22T20:48:01.738Z"
   },
   {
    "duration": 870,
    "start_time": "2025-03-22T20:48:02.035Z"
   },
   {
    "duration": 12,
    "start_time": "2025-03-22T20:48:02.909Z"
   },
   {
    "duration": 11,
    "start_time": "2025-03-22T20:48:02.924Z"
   },
   {
    "duration": 10,
    "start_time": "2025-03-22T20:48:02.937Z"
   },
   {
    "duration": 28,
    "start_time": "2025-03-22T20:48:02.949Z"
   },
   {
    "duration": 25,
    "start_time": "2025-03-22T20:48:02.978Z"
   },
   {
    "duration": 104,
    "start_time": "2025-03-22T20:48:03.005Z"
   },
   {
    "duration": 3,
    "start_time": "2025-03-22T20:48:03.110Z"
   },
   {
    "duration": 6,
    "start_time": "2025-03-22T20:48:03.117Z"
   },
   {
    "duration": 104,
    "start_time": "2025-03-22T20:48:03.125Z"
   },
   {
    "duration": 3,
    "start_time": "2025-03-22T20:48:03.231Z"
   },
   {
    "duration": 97,
    "start_time": "2025-03-22T20:48:03.236Z"
   },
   {
    "duration": 798,
    "start_time": "2025-03-22T20:48:03.335Z"
   },
   {
    "duration": 20,
    "start_time": "2025-03-22T20:48:04.135Z"
   },
   {
    "duration": 16,
    "start_time": "2025-03-22T20:48:04.157Z"
   },
   {
    "duration": 30,
    "start_time": "2025-03-22T20:48:04.175Z"
   },
   {
    "duration": 27,
    "start_time": "2025-03-22T20:48:04.207Z"
   },
   {
    "duration": 4,
    "start_time": "2025-03-22T20:48:04.236Z"
   },
   {
    "duration": 30,
    "start_time": "2025-03-22T20:48:04.241Z"
   },
   {
    "duration": 4,
    "start_time": "2025-03-22T20:48:04.272Z"
   },
   {
    "duration": 3,
    "start_time": "2025-03-22T20:48:04.278Z"
   },
   {
    "duration": 793,
    "start_time": "2025-03-22T20:48:04.283Z"
   },
   {
    "duration": 5,
    "start_time": "2025-03-22T20:48:05.078Z"
   },
   {
    "duration": 27,
    "start_time": "2025-03-22T20:48:05.084Z"
   },
   {
    "duration": 5,
    "start_time": "2025-03-22T20:48:05.112Z"
   },
   {
    "duration": 10,
    "start_time": "2025-03-22T20:48:05.119Z"
   },
   {
    "duration": 5,
    "start_time": "2025-03-22T20:48:05.133Z"
   },
   {
    "duration": 36,
    "start_time": "2025-03-22T20:48:05.139Z"
   },
   {
    "duration": 5,
    "start_time": "2025-03-22T20:48:05.176Z"
   },
   {
    "duration": 5,
    "start_time": "2025-03-22T20:48:05.182Z"
   },
   {
    "duration": 7,
    "start_time": "2025-03-22T20:48:05.188Z"
   },
   {
    "duration": 13,
    "start_time": "2025-03-22T20:48:05.196Z"
   },
   {
    "duration": 59,
    "start_time": "2025-03-22T20:48:05.211Z"
   },
   {
    "duration": 19,
    "start_time": "2025-03-22T20:48:05.273Z"
   },
   {
    "duration": 9,
    "start_time": "2025-03-22T20:48:05.294Z"
   },
   {
    "duration": 27,
    "start_time": "2025-03-22T20:48:05.306Z"
   },
   {
    "duration": 5,
    "start_time": "2025-03-22T20:48:05.335Z"
   },
   {
    "duration": 5,
    "start_time": "2025-03-22T20:48:05.341Z"
   },
   {
    "duration": 2485,
    "start_time": "2025-03-22T20:48:05.370Z"
   },
   {
    "duration": 257,
    "start_time": "2025-03-22T20:48:07.857Z"
   },
   {
    "duration": 274,
    "start_time": "2025-03-22T20:48:08.115Z"
   },
   {
    "duration": 3,
    "start_time": "2025-03-22T20:48:08.391Z"
   },
   {
    "duration": 9,
    "start_time": "2025-03-22T20:48:08.396Z"
   },
   {
    "duration": 11,
    "start_time": "2025-03-22T20:48:08.407Z"
   },
   {
    "duration": 4,
    "start_time": "2025-03-22T20:48:08.420Z"
   },
   {
    "duration": 375,
    "start_time": "2025-03-22T20:48:08.425Z"
   },
   {
    "duration": 232,
    "start_time": "2025-03-22T20:48:08.802Z"
   },
   {
    "duration": 103,
    "start_time": "2025-03-22T20:48:09.036Z"
   },
   {
    "duration": 329,
    "start_time": "2025-03-22T20:48:09.141Z"
   },
   {
    "duration": 264,
    "start_time": "2025-03-22T20:48:09.472Z"
   },
   {
    "duration": 1892,
    "start_time": "2025-03-22T20:48:09.738Z"
   },
   {
    "duration": 114,
    "start_time": "2025-03-22T20:48:11.632Z"
   },
   {
    "duration": 51,
    "start_time": "2025-03-22T20:48:11.748Z"
   },
   {
    "duration": 4,
    "start_time": "2025-03-22T20:48:11.801Z"
   },
   {
    "duration": 11,
    "start_time": "2025-03-22T20:48:11.807Z"
   },
   {
    "duration": 8,
    "start_time": "2025-03-22T20:52:41.220Z"
   },
   {
    "duration": 88,
    "start_time": "2025-03-22T20:52:51.985Z"
   },
   {
    "duration": 88,
    "start_time": "2025-03-22T20:53:34.362Z"
   },
   {
    "duration": 284,
    "start_time": "2025-03-22T21:08:54.004Z"
   },
   {
    "duration": 492,
    "start_time": "2025-03-22T21:09:51.111Z"
   },
   {
    "duration": 457,
    "start_time": "2025-03-22T21:10:11.059Z"
   },
   {
    "duration": 1004,
    "start_time": "2025-03-22T21:10:43.667Z"
   },
   {
    "duration": 9,
    "start_time": "2025-03-22T21:11:01.179Z"
   },
   {
    "duration": 15,
    "start_time": "2025-03-22T21:13:20.770Z"
   },
   {
    "duration": 284,
    "start_time": "2025-03-22T21:13:57.747Z"
   },
   {
    "duration": 16,
    "start_time": "2025-03-22T21:15:41.271Z"
   },
   {
    "duration": 316,
    "start_time": "2025-03-22T21:17:23.099Z"
   },
   {
    "duration": 874,
    "start_time": "2025-03-22T21:17:23.417Z"
   },
   {
    "duration": 12,
    "start_time": "2025-03-22T21:17:24.293Z"
   },
   {
    "duration": 11,
    "start_time": "2025-03-22T21:17:24.307Z"
   },
   {
    "duration": 6,
    "start_time": "2025-03-22T21:17:24.321Z"
   },
   {
    "duration": 8,
    "start_time": "2025-03-22T21:17:24.329Z"
   },
   {
    "duration": 54,
    "start_time": "2025-03-22T21:17:24.339Z"
   },
   {
    "duration": 97,
    "start_time": "2025-03-22T21:17:24.395Z"
   },
   {
    "duration": 3,
    "start_time": "2025-03-22T21:17:24.494Z"
   },
   {
    "duration": 6,
    "start_time": "2025-03-22T21:17:24.499Z"
   },
   {
    "duration": 115,
    "start_time": "2025-03-22T21:17:24.507Z"
   },
   {
    "duration": 3,
    "start_time": "2025-03-22T21:17:24.624Z"
   },
   {
    "duration": 99,
    "start_time": "2025-03-22T21:17:24.629Z"
   },
   {
    "duration": 93,
    "start_time": "2025-03-22T21:17:24.732Z"
   },
   {
    "duration": 20,
    "start_time": "2025-03-22T21:17:24.826Z"
   },
   {
    "duration": 4,
    "start_time": "2025-03-22T21:17:24.847Z"
   },
   {
    "duration": 45,
    "start_time": "2025-03-22T21:17:24.853Z"
   },
   {
    "duration": 25,
    "start_time": "2025-03-22T21:17:24.899Z"
   },
   {
    "duration": 3,
    "start_time": "2025-03-22T21:17:24.926Z"
   },
   {
    "duration": 4,
    "start_time": "2025-03-22T21:17:24.931Z"
   },
   {
    "duration": 4,
    "start_time": "2025-03-22T21:17:24.936Z"
   },
   {
    "duration": 4,
    "start_time": "2025-03-22T21:17:24.941Z"
   },
   {
    "duration": 811,
    "start_time": "2025-03-22T21:17:24.970Z"
   },
   {
    "duration": 4,
    "start_time": "2025-03-22T21:17:25.783Z"
   },
   {
    "duration": 24,
    "start_time": "2025-03-22T21:17:25.788Z"
   },
   {
    "duration": 5,
    "start_time": "2025-03-22T21:17:25.814Z"
   },
   {
    "duration": 12,
    "start_time": "2025-03-22T21:17:25.821Z"
   },
   {
    "duration": 38,
    "start_time": "2025-03-22T21:17:25.834Z"
   },
   {
    "duration": 6,
    "start_time": "2025-03-22T21:17:25.873Z"
   },
   {
    "duration": 5,
    "start_time": "2025-03-22T21:17:25.881Z"
   },
   {
    "duration": 4,
    "start_time": "2025-03-22T21:17:25.888Z"
   },
   {
    "duration": 7,
    "start_time": "2025-03-22T21:17:25.894Z"
   },
   {
    "duration": 18,
    "start_time": "2025-03-22T21:17:25.902Z"
   },
   {
    "duration": 68,
    "start_time": "2025-03-22T21:17:25.922Z"
   },
   {
    "duration": 22,
    "start_time": "2025-03-22T21:17:25.992Z"
   },
   {
    "duration": 11,
    "start_time": "2025-03-22T21:17:26.016Z"
   },
   {
    "duration": 27,
    "start_time": "2025-03-22T21:17:26.028Z"
   },
   {
    "duration": 5,
    "start_time": "2025-03-22T21:17:26.069Z"
   },
   {
    "duration": 4,
    "start_time": "2025-03-22T21:17:26.075Z"
   },
   {
    "duration": 753,
    "start_time": "2025-03-22T21:17:26.080Z"
   },
   {
    "duration": 420,
    "start_time": "2025-03-22T21:17:26.840Z"
   },
   {
    "duration": 285,
    "start_time": "2025-03-22T21:17:27.262Z"
   },
   {
    "duration": 2,
    "start_time": "2025-03-22T21:17:27.549Z"
   },
   {
    "duration": 17,
    "start_time": "2025-03-22T21:17:27.554Z"
   },
   {
    "duration": 10,
    "start_time": "2025-03-22T21:17:27.573Z"
   },
   {
    "duration": 5,
    "start_time": "2025-03-22T21:17:27.584Z"
   },
   {
    "duration": 338,
    "start_time": "2025-03-22T21:17:27.591Z"
   },
   {
    "duration": 276,
    "start_time": "2025-03-22T21:17:27.930Z"
   },
   {
    "duration": 118,
    "start_time": "2025-03-22T21:17:28.209Z"
   },
   {
    "duration": 333,
    "start_time": "2025-03-22T21:17:28.329Z"
   },
   {
    "duration": 312,
    "start_time": "2025-03-22T21:17:28.665Z"
   },
   {
    "duration": 2171,
    "start_time": "2025-03-22T21:17:28.978Z"
   },
   {
    "duration": 112,
    "start_time": "2025-03-22T21:17:31.151Z"
   },
   {
    "duration": 45,
    "start_time": "2025-03-22T21:17:31.270Z"
   },
   {
    "duration": 4,
    "start_time": "2025-03-22T21:17:31.316Z"
   },
   {
    "duration": 10,
    "start_time": "2025-03-22T21:17:31.322Z"
   },
   {
    "duration": 986,
    "start_time": "2025-03-22T21:17:31.334Z"
   },
   {
    "duration": 368,
    "start_time": "2025-03-22T21:17:32.322Z"
   },
   {
    "duration": 239,
    "start_time": "2025-03-22T21:17:32.692Z"
   },
   {
    "duration": 2152,
    "start_time": "2025-03-22T21:18:34.734Z"
   },
   {
    "duration": 2744,
    "start_time": "2025-03-22T21:18:52.464Z"
   },
   {
    "duration": 2126,
    "start_time": "2025-03-22T21:21:09.650Z"
   },
   {
    "duration": 284,
    "start_time": "2025-03-22T21:23:00.048Z"
   },
   {
    "duration": 873,
    "start_time": "2025-03-22T21:23:00.334Z"
   },
   {
    "duration": 12,
    "start_time": "2025-03-22T21:23:01.209Z"
   },
   {
    "duration": 10,
    "start_time": "2025-03-22T21:23:01.222Z"
   },
   {
    "duration": 7,
    "start_time": "2025-03-22T21:23:01.235Z"
   },
   {
    "duration": 32,
    "start_time": "2025-03-22T21:23:01.244Z"
   },
   {
    "duration": 24,
    "start_time": "2025-03-22T21:23:01.277Z"
   },
   {
    "duration": 102,
    "start_time": "2025-03-22T21:23:01.303Z"
   },
   {
    "duration": 2,
    "start_time": "2025-03-22T21:23:01.407Z"
   },
   {
    "duration": 6,
    "start_time": "2025-03-22T21:23:01.411Z"
   },
   {
    "duration": 124,
    "start_time": "2025-03-22T21:23:01.419Z"
   },
   {
    "duration": 4,
    "start_time": "2025-03-22T21:23:01.545Z"
   },
   {
    "duration": 109,
    "start_time": "2025-03-22T21:23:01.551Z"
   },
   {
    "duration": 89,
    "start_time": "2025-03-22T21:23:01.663Z"
   },
   {
    "duration": 28,
    "start_time": "2025-03-22T21:23:01.754Z"
   },
   {
    "duration": 5,
    "start_time": "2025-03-22T21:23:01.783Z"
   },
   {
    "duration": 29,
    "start_time": "2025-03-22T21:23:01.790Z"
   },
   {
    "duration": 25,
    "start_time": "2025-03-22T21:23:01.821Z"
   },
   {
    "duration": 4,
    "start_time": "2025-03-22T21:23:01.869Z"
   },
   {
    "duration": 3,
    "start_time": "2025-03-22T21:23:01.875Z"
   },
   {
    "duration": 4,
    "start_time": "2025-03-22T21:23:01.880Z"
   },
   {
    "duration": 3,
    "start_time": "2025-03-22T21:23:01.886Z"
   },
   {
    "duration": 852,
    "start_time": "2025-03-22T21:23:01.891Z"
   },
   {
    "duration": 4,
    "start_time": "2025-03-22T21:23:02.745Z"
   },
   {
    "duration": 37,
    "start_time": "2025-03-22T21:23:02.751Z"
   },
   {
    "duration": 5,
    "start_time": "2025-03-22T21:23:02.790Z"
   },
   {
    "duration": 11,
    "start_time": "2025-03-22T21:23:02.797Z"
   },
   {
    "duration": 6,
    "start_time": "2025-03-22T21:23:02.809Z"
   },
   {
    "duration": 6,
    "start_time": "2025-03-22T21:23:02.818Z"
   },
   {
    "duration": 5,
    "start_time": "2025-03-22T21:23:02.826Z"
   },
   {
    "duration": 6,
    "start_time": "2025-03-22T21:23:02.832Z"
   },
   {
    "duration": 6,
    "start_time": "2025-03-22T21:23:02.871Z"
   },
   {
    "duration": 18,
    "start_time": "2025-03-22T21:23:02.878Z"
   },
   {
    "duration": 32,
    "start_time": "2025-03-22T21:23:02.899Z"
   },
   {
    "duration": 20,
    "start_time": "2025-03-22T21:23:02.933Z"
   },
   {
    "duration": 22,
    "start_time": "2025-03-22T21:23:02.955Z"
   },
   {
    "duration": 28,
    "start_time": "2025-03-22T21:23:02.978Z"
   },
   {
    "duration": 5,
    "start_time": "2025-03-22T21:23:03.007Z"
   },
   {
    "duration": 5,
    "start_time": "2025-03-22T21:23:03.013Z"
   },
   {
    "duration": 754,
    "start_time": "2025-03-22T21:23:03.019Z"
   },
   {
    "duration": 306,
    "start_time": "2025-03-22T21:23:03.778Z"
   },
   {
    "duration": 254,
    "start_time": "2025-03-22T21:23:04.085Z"
   },
   {
    "duration": 3,
    "start_time": "2025-03-22T21:23:04.341Z"
   },
   {
    "duration": 24,
    "start_time": "2025-03-22T21:23:04.346Z"
   },
   {
    "duration": 11,
    "start_time": "2025-03-22T21:23:04.372Z"
   },
   {
    "duration": 4,
    "start_time": "2025-03-22T21:23:04.384Z"
   },
   {
    "duration": 309,
    "start_time": "2025-03-22T21:23:04.390Z"
   },
   {
    "duration": 241,
    "start_time": "2025-03-22T21:23:04.701Z"
   },
   {
    "duration": 100,
    "start_time": "2025-03-22T21:23:04.944Z"
   },
   {
    "duration": 328,
    "start_time": "2025-03-22T21:23:05.046Z"
   },
   {
    "duration": 263,
    "start_time": "2025-03-22T21:23:05.377Z"
   },
   {
    "duration": 1873,
    "start_time": "2025-03-22T21:23:05.643Z"
   },
   {
    "duration": 117,
    "start_time": "2025-03-22T21:23:07.518Z"
   },
   {
    "duration": 51,
    "start_time": "2025-03-22T21:23:07.637Z"
   },
   {
    "duration": 5,
    "start_time": "2025-03-22T21:23:07.690Z"
   },
   {
    "duration": 12,
    "start_time": "2025-03-22T21:23:07.696Z"
   },
   {
    "duration": 992,
    "start_time": "2025-03-22T21:23:07.710Z"
   },
   {
    "duration": 351,
    "start_time": "2025-03-22T21:23:08.703Z"
   },
   {
    "duration": 2106,
    "start_time": "2025-03-22T21:23:09.056Z"
   },
   {
    "duration": 302,
    "start_time": "2025-03-22T21:28:44.015Z"
   },
   {
    "duration": 876,
    "start_time": "2025-03-22T21:28:44.320Z"
   },
   {
    "duration": 13,
    "start_time": "2025-03-22T21:28:45.198Z"
   },
   {
    "duration": 10,
    "start_time": "2025-03-22T21:28:45.213Z"
   },
   {
    "duration": 8,
    "start_time": "2025-03-22T21:28:45.225Z"
   },
   {
    "duration": 7,
    "start_time": "2025-03-22T21:28:45.235Z"
   },
   {
    "duration": 22,
    "start_time": "2025-03-22T21:28:45.270Z"
   },
   {
    "duration": 109,
    "start_time": "2025-03-22T21:28:45.295Z"
   },
   {
    "duration": 2,
    "start_time": "2025-03-22T21:28:45.406Z"
   },
   {
    "duration": 6,
    "start_time": "2025-03-22T21:28:45.410Z"
   },
   {
    "duration": 104,
    "start_time": "2025-03-22T21:28:45.418Z"
   },
   {
    "duration": 3,
    "start_time": "2025-03-22T21:28:45.524Z"
   },
   {
    "duration": 100,
    "start_time": "2025-03-22T21:28:45.529Z"
   },
   {
    "duration": 91,
    "start_time": "2025-03-22T21:28:45.633Z"
   },
   {
    "duration": 19,
    "start_time": "2025-03-22T21:28:45.726Z"
   },
   {
    "duration": 6,
    "start_time": "2025-03-22T21:28:45.746Z"
   },
   {
    "duration": 42,
    "start_time": "2025-03-22T21:28:45.754Z"
   },
   {
    "duration": 26,
    "start_time": "2025-03-22T21:28:45.797Z"
   },
   {
    "duration": 3,
    "start_time": "2025-03-22T21:28:45.825Z"
   },
   {
    "duration": 4,
    "start_time": "2025-03-22T21:28:45.830Z"
   },
   {
    "duration": 4,
    "start_time": "2025-03-22T21:28:45.835Z"
   },
   {
    "duration": 32,
    "start_time": "2025-03-22T21:28:45.840Z"
   },
   {
    "duration": 850,
    "start_time": "2025-03-22T21:28:45.874Z"
   },
   {
    "duration": 3,
    "start_time": "2025-03-22T21:28:46.727Z"
   },
   {
    "duration": 23,
    "start_time": "2025-03-22T21:28:46.732Z"
   },
   {
    "duration": 19,
    "start_time": "2025-03-22T21:28:46.756Z"
   },
   {
    "duration": 11,
    "start_time": "2025-03-22T21:28:46.777Z"
   },
   {
    "duration": 6,
    "start_time": "2025-03-22T21:28:46.789Z"
   },
   {
    "duration": 6,
    "start_time": "2025-03-22T21:28:46.796Z"
   },
   {
    "duration": 5,
    "start_time": "2025-03-22T21:28:46.804Z"
   },
   {
    "duration": 4,
    "start_time": "2025-03-22T21:28:46.811Z"
   },
   {
    "duration": 7,
    "start_time": "2025-03-22T21:28:46.816Z"
   },
   {
    "duration": 59,
    "start_time": "2025-03-22T21:28:46.825Z"
   },
   {
    "duration": 32,
    "start_time": "2025-03-22T21:28:46.886Z"
   },
   {
    "duration": 19,
    "start_time": "2025-03-22T21:28:46.920Z"
   },
   {
    "duration": 10,
    "start_time": "2025-03-22T21:28:46.941Z"
   },
   {
    "duration": 42,
    "start_time": "2025-03-22T21:28:46.953Z"
   },
   {
    "duration": 4,
    "start_time": "2025-03-22T21:28:46.997Z"
   },
   {
    "duration": 4,
    "start_time": "2025-03-22T21:28:47.003Z"
   },
   {
    "duration": 750,
    "start_time": "2025-03-22T21:28:47.009Z"
   },
   {
    "duration": 303,
    "start_time": "2025-03-22T21:28:47.769Z"
   },
   {
    "duration": 251,
    "start_time": "2025-03-22T21:28:48.074Z"
   },
   {
    "duration": 3,
    "start_time": "2025-03-22T21:28:48.326Z"
   },
   {
    "duration": 9,
    "start_time": "2025-03-22T21:28:48.331Z"
   },
   {
    "duration": 10,
    "start_time": "2025-03-22T21:28:48.342Z"
   },
   {
    "duration": 21,
    "start_time": "2025-03-22T21:28:48.353Z"
   },
   {
    "duration": 349,
    "start_time": "2025-03-22T21:28:48.375Z"
   },
   {
    "duration": 245,
    "start_time": "2025-03-22T21:28:48.726Z"
   },
   {
    "duration": 107,
    "start_time": "2025-03-22T21:28:48.973Z"
   },
   {
    "duration": 339,
    "start_time": "2025-03-22T21:28:49.083Z"
   },
   {
    "duration": 267,
    "start_time": "2025-03-22T21:28:49.425Z"
   },
   {
    "duration": 1902,
    "start_time": "2025-03-22T21:28:49.694Z"
   },
   {
    "duration": 128,
    "start_time": "2025-03-22T21:28:51.598Z"
   },
   {
    "duration": 49,
    "start_time": "2025-03-22T21:28:51.728Z"
   },
   {
    "duration": 3,
    "start_time": "2025-03-22T21:28:51.779Z"
   },
   {
    "duration": 12,
    "start_time": "2025-03-22T21:28:51.784Z"
   },
   {
    "duration": 976,
    "start_time": "2025-03-22T21:28:51.798Z"
   },
   {
    "duration": 355,
    "start_time": "2025-03-22T21:28:52.776Z"
   },
   {
    "duration": 2117,
    "start_time": "2025-03-22T21:28:53.133Z"
   },
   {
    "duration": 4,
    "start_time": "2025-03-22T23:51:40.257Z"
   },
   {
    "duration": 3,
    "start_time": "2025-03-22T23:57:37.935Z"
   },
   {
    "duration": 849,
    "start_time": "2025-03-22T23:57:37.969Z"
   },
   {
    "duration": 16,
    "start_time": "2025-03-22T23:57:38.820Z"
   },
   {
    "duration": 9,
    "start_time": "2025-03-22T23:57:38.837Z"
   },
   {
    "duration": 8,
    "start_time": "2025-03-22T23:57:38.847Z"
   },
   {
    "duration": 7,
    "start_time": "2025-03-22T23:57:38.857Z"
   },
   {
    "duration": 22,
    "start_time": "2025-03-22T23:57:38.866Z"
   },
   {
    "duration": 100,
    "start_time": "2025-03-22T23:57:38.889Z"
   },
   {
    "duration": 2,
    "start_time": "2025-03-22T23:57:38.991Z"
   },
   {
    "duration": 4,
    "start_time": "2025-03-22T23:57:38.995Z"
   },
   {
    "duration": 84,
    "start_time": "2025-03-22T23:57:39.001Z"
   },
   {
    "duration": 4,
    "start_time": "2025-03-22T23:57:39.087Z"
   },
   {
    "duration": 91,
    "start_time": "2025-03-22T23:57:39.093Z"
   },
   {
    "duration": 73,
    "start_time": "2025-03-22T23:57:39.186Z"
   },
   {
    "duration": 18,
    "start_time": "2025-03-22T23:57:39.263Z"
   },
   {
    "duration": 4,
    "start_time": "2025-03-22T23:57:39.282Z"
   },
   {
    "duration": 48,
    "start_time": "2025-03-22T23:57:39.288Z"
   },
   {
    "duration": 23,
    "start_time": "2025-03-22T23:57:39.337Z"
   },
   {
    "duration": 3,
    "start_time": "2025-03-22T23:57:39.362Z"
   },
   {
    "duration": 3,
    "start_time": "2025-03-22T23:57:39.367Z"
   },
   {
    "duration": 4,
    "start_time": "2025-03-22T23:57:39.372Z"
   },
   {
    "duration": 4,
    "start_time": "2025-03-22T23:57:39.377Z"
   },
   {
    "duration": 740,
    "start_time": "2025-03-22T23:57:39.383Z"
   },
   {
    "duration": 2,
    "start_time": "2025-03-22T23:57:40.125Z"
   },
   {
    "duration": 25,
    "start_time": "2025-03-22T23:57:40.132Z"
   },
   {
    "duration": 5,
    "start_time": "2025-03-22T23:57:40.159Z"
   },
   {
    "duration": 10,
    "start_time": "2025-03-22T23:57:40.166Z"
   },
   {
    "duration": 6,
    "start_time": "2025-03-22T23:57:40.177Z"
   },
   {
    "duration": 6,
    "start_time": "2025-03-22T23:57:40.184Z"
   },
   {
    "duration": 40,
    "start_time": "2025-03-22T23:57:40.192Z"
   },
   {
    "duration": 3,
    "start_time": "2025-03-22T23:57:40.234Z"
   },
   {
    "duration": 6,
    "start_time": "2025-03-22T23:57:40.239Z"
   },
   {
    "duration": 22,
    "start_time": "2025-03-22T23:57:40.248Z"
   },
   {
    "duration": 31,
    "start_time": "2025-03-22T23:57:40.272Z"
   },
   {
    "duration": 20,
    "start_time": "2025-03-22T23:57:40.331Z"
   },
   {
    "duration": 9,
    "start_time": "2025-03-22T23:57:40.353Z"
   },
   {
    "duration": 27,
    "start_time": "2025-03-22T23:57:40.364Z"
   },
   {
    "duration": 4,
    "start_time": "2025-03-22T23:57:40.392Z"
   },
   {
    "duration": 5,
    "start_time": "2025-03-22T23:57:40.398Z"
   },
   {
    "duration": 231,
    "start_time": "2025-03-22T23:57:40.404Z"
   },
   {
    "duration": 257,
    "start_time": "2025-03-22T23:57:40.637Z"
   },
   {
    "duration": 245,
    "start_time": "2025-03-22T23:57:40.900Z"
   },
   {
    "duration": 2,
    "start_time": "2025-03-22T23:57:41.147Z"
   },
   {
    "duration": 9,
    "start_time": "2025-03-22T23:57:41.151Z"
   },
   {
    "duration": 13,
    "start_time": "2025-03-22T23:57:41.162Z"
   },
   {
    "duration": 6,
    "start_time": "2025-03-22T23:57:41.176Z"
   },
   {
    "duration": 315,
    "start_time": "2025-03-22T23:57:41.183Z"
   },
   {
    "duration": 316,
    "start_time": "2025-03-22T23:57:41.499Z"
   },
   {
    "duration": 96,
    "start_time": "2025-03-22T23:57:41.817Z"
   },
   {
    "duration": 318,
    "start_time": "2025-03-22T23:57:41.915Z"
   },
   {
    "duration": 246,
    "start_time": "2025-03-22T23:57:42.235Z"
   },
   {
    "duration": 1853,
    "start_time": "2025-03-22T23:57:42.483Z"
   },
   {
    "duration": 119,
    "start_time": "2025-03-22T23:57:44.337Z"
   },
   {
    "duration": 56,
    "start_time": "2025-03-22T23:57:44.457Z"
   },
   {
    "duration": 4,
    "start_time": "2025-03-22T23:57:44.515Z"
   },
   {
    "duration": 21,
    "start_time": "2025-03-22T23:57:44.520Z"
   },
   {
    "duration": 948,
    "start_time": "2025-03-22T23:57:44.543Z"
   },
   {
    "duration": 265,
    "start_time": "2025-03-22T23:57:45.493Z"
   },
   {
    "duration": 2052,
    "start_time": "2025-03-22T23:57:45.760Z"
   },
   {
    "duration": 291,
    "start_time": "2025-03-22T23:59:41.881Z"
   }
  ],
  "colab": {
   "provenance": []
  },
  "kernelspec": {
   "display_name": "Python 3 (ipykernel)",
   "language": "python",
   "name": "python3"
  },
  "language_info": {
   "codemirror_mode": {
    "name": "ipython",
    "version": 3
   },
   "file_extension": ".py",
   "mimetype": "text/x-python",
   "name": "python",
   "nbconvert_exporter": "python",
   "pygments_lexer": "ipython3",
   "version": "3.9.19"
  },
  "toc": {
   "base_numbering": 1,
   "nav_menu": {},
   "number_sections": true,
   "sideBar": true,
   "skip_h1_title": true,
   "title_cell": "Table of Contents",
   "title_sidebar": "Contents",
   "toc_cell": false,
   "toc_position": {},
   "toc_section_display": true,
   "toc_window_display": false
  },
  "vscode": {
   "interpreter": {
    "hash": "01a7be9ec63e704a62cefc5fe7a4756944464ee731be31632bdf42a4cb4688cf"
   }
  }
 },
 "nbformat": 4,
 "nbformat_minor": 5
}
